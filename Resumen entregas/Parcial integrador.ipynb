{
 "cells": [
  {
   "cell_type": "markdown",
   "id": "2753b7d1",
   "metadata": {},
   "source": [
    "# Resumen parcial integrador\n",
    "\n",
    "## Prácticas\n",
    "\n",
    "- <a href=\"http://localhost:8888/notebooks/UBA/FCEN/PROB%20Y%20ESTADISTICA/Soluciones/Pr%C3%A1ctica%201.ipynb\">Práctica 1</a> - Nociones probabilidad\n",
    "- <a href=\"http://localhost:8888/notebooks/UBA/FCEN/PROB%20Y%20ESTADISTICA/Soluciones/Pr%C3%A1ctica%202.ipynb\">Práctica 2</a> - Variables discretas\n",
    "- <a href=\"http://localhost:8888/notebooks/UBA/FCEN/PROB%20Y%20ESTADISTICA/Soluciones/Pr%C3%A1ctica%203.ipynb\">Práctica 3</a> - Variables continuas\n",
    "- <a href=\"http://localhost:8888/notebooks/UBA/FCEN/PROB%20Y%20ESTADISTICA/Soluciones/Pr%C3%A1ctica%204.ipynb\">Práctica 4</a> - Vectores aleatorios\n",
    "- <a href=\"http://localhost:8888/notebooks/UBA/FCEN/PROB%20Y%20ESTADISTICA/Soluciones/Pr%C3%A1ctica%205.ipynb\">Práctica 5</a> - Chebyshev, LGN y TCL\n",
    "- <a href=\"http://localhost:8888/notebooks/UBA/FCEN/PROB%20Y%20ESTADISTICA/Soluciones/Pr%C3%A1ctica%206.ipynb\">Práctica 6</a> - Inferencia estadística\n",
    "- <a href=\"http://localhost:8888/notebooks/UBA/FCEN/PROB%20Y%20ESTADISTICA/Soluciones/Pr%C3%A1ctica%207.ipynb\">Práctica 7</a> - Estimadores\n",
    "- <a href=\"http://localhost:8888/notebooks/UBA/FCEN/PROB%20Y%20ESTADISTICA/Soluciones/Pr%C3%A1ctica%208.ipynb\">Práctica 8</a> - Intervalos de confianza\n",
    "- <a href=\"http://localhost:8888/notebooks/UBA/FCEN/PROB%20Y%20ESTADISTICA/Soluciones/Pr%C3%A1ctica%209.ipynb\">Práctica 9</a> - Test de hipótesis\n",
    "\n",
    "## Resumenes entregas\n",
    "\n",
    "- <a href=\"http://localhost:8888/notebooks/UBA/FCEN/PROB%20Y%20ESTADISTICA/Resumen%20entregas/Entrega%201.ipynb\">Entrega 1</a>\n",
    "- <a href=\"http://localhost:8888/notebooks/UBA/FCEN/PROB%20Y%20ESTADISTICA/Resumen%20entregas/Entrega%202.ipynb\">Entrega 2</a>\n",
    "- <a href=\"http://localhost:8888/notebooks/UBA/FCEN/PROB%20Y%20ESTADISTICA/Resumen%20entregas/Entrega%203.ipynb\">Entrega 3</a>\n",
    "- <a href=\"http://localhost:8888/notebooks/UBA/FCEN/PROB%20Y%20ESTADISTICA/Resumen%20entregas/Entrega%204.ipynb\">Entrega 4</a>\n",
    "\n",
    "## Indice temático\n",
    "\n",
    "* Probabilidad\n",
    "* <a href=\"#Variables-aleatorias-discretas\">Variables aleatorias discretas</a>\n",
    "* Variables aleatorias continuas\n",
    "    * <a href=\"#Variables-continuas-en-scipy\">Variables conocidas en scipy</a>\n",
    "    * <a href=\"#Gráficos\">Gráfico de distribuciones</a>\n",
    "* Distribución conjunta de variables aleatorias \n",
    "* Chebyshev, Ley de grandes números y TCL\n",
    "    * <a href=\"#Chebyshev\">Chebyshev</a>\n",
    "    * <a href=\"#Ley-de-Grandes-Números\">Ley de Grandes Números</a>\n",
    "    * <a href=\"#Teorema-Central-del-Límite\">Teorema Central del Límite</a>\n",
    "* <a href=\"#Estadística-Descriptiva\">Introducción y estadística descripta</a>\n",
    "* Estimación puntual\n",
    "    * <a href=\"#Cálculo-de-estimadores\">Cálculo de estimadores</a>\n",
    "* Intervalos de confianza\n",
    "    * <a href=\"#Cálculo-de-intervalos-de-confianza\">Cálculo de intervalos de confianza</a>\n",
    "* Test de Hipótesis\n",
    "    * <a href=\"#Error-de-tipo-I\">Error de tipo I</a>\n",
    "    * <a href=\"#Error-de-tipo-II\">Error de tipo II</a>\n",
    "    * <a href=\"#Función-de-potencia\">Función de potencia</a>\n",
    "    * <a href=\"#Cálculo-del-p-value\">Cálculo del p-value</a>\n",
    "\n",
    "## Code Snippets\n",
    "\n",
    "### Variables aleatorias discretas\n",
    "\n",
    "Scipy docs: https://docs.scipy.org/doc/scipy/reference/stats.html#discrete-distributions\n",
    "\n",
    "* Bernoulli: https://docs.scipy.org/doc/scipy/reference/generated/scipy.stats.bernoulli.html#scipy.stats.bernoulli\n",
    "* Binomial: https://docs.scipy.org/doc/scipy/reference/generated/scipy.stats.binom.html#scipy.stats.binom\n",
    "* Poisson: https://docs.scipy.org/doc/scipy/reference/generated/scipy.stats.poisson.html#scipy.stats.poisson\n",
    "* Geometrica: https://docs.scipy.org/doc/scipy/reference/generated/scipy.stats.geom.html#scipy.stats.geom\n",
    "* Binomial Negativa: https://docs.scipy.org/doc/scipy/reference/generated/scipy.stats.nbinom.html#scipy.stats.nbinom\n",
    "* Hypergeométrica: https://docs.scipy.org/doc/scipy/reference/generated/scipy.stats.hypergeom.html#scipy.stats.hypergeom"
   ]
  },
  {
   "cell_type": "code",
   "execution_count": 178,
   "id": "fbbebd7d",
   "metadata": {},
   "outputs": [],
   "source": [
    "import scipy.stats\n",
    "import math\n",
    "import pandas as pd\n",
    "import numpy as np\n",
    "import matplotlib.pyplot as plt\n",
    "from statsmodels.distributions.empirical_distribution import ECDF\n",
    "from statsmodels.graphics.gofplots import qqplot"
   ]
  },
  {
   "cell_type": "code",
   "execution_count": 179,
   "id": "9a78d72f",
   "metadata": {},
   "outputs": [],
   "source": [
    "# Bernoulli\n",
    "p = 0.5\n",
    "va = scipy.stats.bernoulli(p)"
   ]
  },
  {
   "cell_type": "code",
   "execution_count": 180,
   "id": "616eb197",
   "metadata": {},
   "outputs": [],
   "source": [
    "# Binomial\n",
    "n = 50\n",
    "p = 0.2\n",
    "va = scipy.stats.binom(n,p)"
   ]
  },
  {
   "cell_type": "code",
   "execution_count": 181,
   "id": "97f3e718",
   "metadata": {},
   "outputs": [],
   "source": [
    "# Poisson\n",
    "mu = 50\n",
    "va = scipy.stats.poisson(mu)"
   ]
  },
  {
   "cell_type": "code",
   "execution_count": 182,
   "id": "de90ce86",
   "metadata": {},
   "outputs": [],
   "source": [
    "# Geométrica\n",
    "p = 0.2\n",
    "va = scipy.stats.geom(p)"
   ]
  },
  {
   "cell_type": "code",
   "execution_count": 183,
   "id": "83e7aaa8",
   "metadata": {},
   "outputs": [],
   "source": [
    "# Binomial Negativa. Diferente en scipy, code a mano\n",
    "# Proba de necesitar k repeticiones para alcanzar el r-ésimo éxito\n",
    "r = 10\n",
    "p = 0.37\n",
    "class nbinom:\n",
    "    def __init__(self, r, p):\n",
    "         self.r = r\n",
    "         self.p = p\n",
    "\n",
    "    def pmf(self,k):\n",
    "        r = self.r\n",
    "        p = self.p\n",
    "        res = math.comb(k-1,r-1)*(p**r)*((1-p)**(k-r))\n",
    "        return res\n",
    "    \n",
    "    def mean(self):\n",
    "        return self.r/self.p\n",
    "    \n",
    "    def var(self):\n",
    "        return (self.r*(1-self.p))/(self.p**2)\n",
    "va = nbinom(r,p)"
   ]
  },
  {
   "cell_type": "code",
   "execution_count": 184,
   "id": "e195657e",
   "metadata": {},
   "outputs": [],
   "source": [
    "# Hipergeométrica\n",
    "M = 20 # Nro total del objetos\n",
    "n = 7 # Nro total de objetos del tipo A\n",
    "N = 12 # Cantidad de elementos que se extraen sin reposición\n",
    "va = scipy.stats.hypergeom(M, n, N)"
   ]
  },
  {
   "cell_type": "code",
   "execution_count": 185,
   "id": "99f5c238",
   "metadata": {},
   "outputs": [],
   "source": [
    "# Toma una lista de valores y otra de probas para valores y devuelve la esperanza\n",
    "def esperanza(valores,probas):\n",
    "    return sum([valores[i]*probas[i] for i in range(len(valores))])"
   ]
  },
  {
   "cell_type": "code",
   "execution_count": 186,
   "id": "65583a6e",
   "metadata": {},
   "outputs": [],
   "source": [
    "# Toma una lista de valores y otra de probas para valores y devuelve la varianza\n",
    "def varianzaDisc(valores, probas):\n",
    "    esp = esperanza(valores,probas)\n",
    "    return sum([((valores[i]-esp)**2)*probas[i] for i in range(len(valores))])"
   ]
  },
  {
   "cell_type": "markdown",
   "id": "c5aa40c9",
   "metadata": {},
   "source": [
    "### Variables aleatorias continuas\n",
    "\n",
    "* Uniforme: https://docs.scipy.org/doc/scipy/reference/reference/generated/scipy.stats.uniform.html#scipy.stats.uniform\n",
    "* Exponential: https://docs.scipy.org/doc/scipy/reference/reference/generated/scipy.stats.expon.html#scipy.stats.expon\n",
    "* Gamma: https://docs.scipy.org/doc/scipy/reference/reference/generated/scipy.stats.gamma.html#scipy.stats.gamma\n",
    "* Normal: https://docs.scipy.org/doc/scipy/reference/reference/generated/scipy.stats.norm.html#scipy.stats.norm"
   ]
  },
  {
   "cell_type": "code",
   "execution_count": 187,
   "id": "3630a532",
   "metadata": {},
   "outputs": [],
   "source": [
    "# Función de densidad\n",
    "def f(x):\n",
    "    if -1 <= x <= 1:\n",
    "        return 0.75 * (1-x**2)\n",
    "    else:\n",
    "        return 0\n",
    "    \n",
    "# Prueba de densidad\n",
    "# Toma una funcion \"f\" y devuelve True si \"f\" es una función de densidad\n",
    "def is_densidad(f):\n",
    "    if scipy.integrate.quad(f, -np.inf, np.inf)[0] == 1:\n",
    "        return True\n",
    "    else:\n",
    "        return False"
   ]
  },
  {
   "cell_type": "code",
   "execution_count": 188,
   "id": "7a51e055",
   "metadata": {},
   "outputs": [
    {
     "data": {
      "text/plain": [
       "1.0"
      ]
     },
     "execution_count": 188,
     "metadata": {},
     "output_type": "execute_result"
    }
   ],
   "source": [
    "# Función para integrar en (a,b)\n",
    "a = -np.inf\n",
    "b = np.inf\n",
    "scipy.integrate.quad(f, a, b)[0]"
   ]
  },
  {
   "cell_type": "code",
   "execution_count": 189,
   "id": "9ba9ad36",
   "metadata": {},
   "outputs": [],
   "source": [
    "# P(a < X < b)\n",
    "def proba_en(f,a=-np.inf,b=np.inf):\n",
    "    return scipy.integrate.quad(f, a, b)[0]"
   ]
  },
  {
   "cell_type": "code",
   "execution_count": 190,
   "id": "0affbc42",
   "metadata": {},
   "outputs": [],
   "source": [
    "# Area debajo de la curva en (desde, hasta) de una N(mu, ds)\n",
    "def norm_rango(mu=0, ds=1, desde=-np.inf, hasta=np.inf):\n",
    "    va = scipy.stats.norm(mu, ds)\n",
    "    return va.cdf(hasta) - va.cdf(desde)"
   ]
  },
  {
   "cell_type": "markdown",
   "id": "366d5e3e",
   "metadata": {},
   "source": [
    "#### Variables continuas en scipy"
   ]
  },
  {
   "cell_type": "code",
   "execution_count": 191,
   "id": "24e43dac",
   "metadata": {},
   "outputs": [
    {
     "data": {
      "text/plain": [
       "0.21"
      ]
     },
     "execution_count": 191,
     "metadata": {},
     "output_type": "execute_result"
    }
   ],
   "source": [
    "# Uniforme\n",
    "desde = 0\n",
    "hasta = 1\n",
    "va = scipy.stats.uniform(desde, hasta-desde)\n",
    "x = 0.21\n",
    "va.cdf(x) # Area debajo de la curva hasta x P(va < x)"
   ]
  },
  {
   "cell_type": "code",
   "execution_count": 192,
   "id": "256b7f76",
   "metadata": {},
   "outputs": [
    {
     "data": {
      "text/plain": [
       "0.877543571747018"
      ]
     },
     "execution_count": 192,
     "metadata": {},
     "output_type": "execute_result"
    }
   ],
   "source": [
    "# Exponencial\n",
    "lam = 10\n",
    "va = scipy.stats.expon(scale = 1/lam)\n",
    "x = 0.21\n",
    "va.cdf(x) # Area debajo de la curva hasta x P(va < x)"
   ]
  },
  {
   "cell_type": "code",
   "execution_count": 193,
   "id": "2474fc05",
   "metadata": {},
   "outputs": [
    {
     "data": {
      "text/plain": [
       "0.8951357188920153"
      ]
     },
     "execution_count": 193,
     "metadata": {},
     "output_type": "execute_result"
    }
   ],
   "source": [
    "# Gamma\n",
    "alfa = 15\n",
    "beta = 10\n",
    "va = scipy.stats.gamma(a = alfa, scale = 1 / beta)\n",
    "x = 2\n",
    "va.cdf(x) # Area debajo de la curva hasta x P(va < x)"
   ]
  },
  {
   "cell_type": "code",
   "execution_count": 194,
   "id": "13ab09d2",
   "metadata": {},
   "outputs": [
    {
     "data": {
      "text/plain": [
       "0.9986501019683699"
      ]
     },
     "execution_count": 194,
     "metadata": {},
     "output_type": "execute_result"
    }
   ],
   "source": [
    "# Normal\n",
    "mu = 0\n",
    "varianza = 1\n",
    "va = scipy.stats.norm(loc=mu, scale=math.sqrt(varianza))\n",
    "x = 3\n",
    "va.cdf(x) # Area debajo de la curva hasta x P(va < x)"
   ]
  },
  {
   "cell_type": "code",
   "execution_count": 195,
   "id": "a4baa976",
   "metadata": {},
   "outputs": [
    {
     "data": {
      "text/plain": [
       "2.999999999916528"
      ]
     },
     "execution_count": 195,
     "metadata": {},
     "output_type": "execute_result"
    }
   ],
   "source": [
    "va.ppf(0.998650101968) # me da el valor para el cual la variable tiene esa proba"
   ]
  },
  {
   "cell_type": "markdown",
   "id": "49bc409e",
   "metadata": {},
   "source": [
    "#### Gráficos"
   ]
  },
  {
   "cell_type": "code",
   "execution_count": 196,
   "id": "4d342daa",
   "metadata": {},
   "outputs": [
    {
     "data": {
      "text/plain": [
       "Text(0.5, 1.0, 'Distribución')"
      ]
     },
     "execution_count": 196,
     "metadata": {},
     "output_type": "execute_result"
    },
    {
     "data": {
      "image/png": "[encoded data removed]",
      "text/plain": [
       "<Figure size 864x432 with 2 Axes>"
      ]
     },
     "metadata": {
      "needs_background": "light"
     },
     "output_type": "display_data"
    }
   ],
   "source": [
    "# Plot de densidad y distribución\n",
    "\n",
    "# Densidad\n",
    "n = -3\n",
    "xs = []\n",
    "ys = []\n",
    "while n <= 3:\n",
    "    xs.append(n)\n",
    "    ys.append(va.pdf(n))\n",
    "    n += 0.01\n",
    "\n",
    "fig, (c1, c2) = plt.subplots(1,2, figsize=(12,6))\n",
    "c1.plot(xs, ys)\n",
    "c1.set_title(\"Densidad\")\n",
    "\n",
    "# Distribución\n",
    "n = -3\n",
    "xs = []\n",
    "ys = []\n",
    "while n <= 3:\n",
    "    xs.append(n)\n",
    "    ys.append(va.cdf(n))\n",
    "    n += 0.01\n",
    "    \n",
    "c2.plot(xs, ys)\n",
    "c2.set_title(\"Distribución\")"
   ]
  },
  {
   "cell_type": "markdown",
   "id": "e8674e9e",
   "metadata": {},
   "source": [
    "### Chebyshev"
   ]
  },
  {
   "cell_type": "code",
   "execution_count": 197,
   "id": "eaa41996",
   "metadata": {},
   "outputs": [],
   "source": [
    "def chebyshev(varianza,epsilon):\n",
    "    return varianza / (epsilon ** 2)"
   ]
  },
  {
   "cell_type": "code",
   "execution_count": 198,
   "id": "c0f24fdb",
   "metadata": {},
   "outputs": [
    {
     "data": {
      "text/plain": [
       "0.4"
      ]
     },
     "execution_count": 198,
     "metadata": {},
     "output_type": "execute_result"
    }
   ],
   "source": [
    "# Uso chebyshev\n",
    "var = 0.1\n",
    "epsilon = 0.5\n",
    "chebyshev(var, epsilon)"
   ]
  },
  {
   "cell_type": "markdown",
   "id": "24b03b5d",
   "metadata": {},
   "source": [
    "### Ley de Grandes Números"
   ]
  },
  {
   "cell_type": "code",
   "execution_count": 199,
   "id": "14b32d98",
   "metadata": {},
   "outputs": [],
   "source": [
    "def LGN(n, varianza, epsilon):\n",
    "    return varianza / ((epsilon ** 2) * n)"
   ]
  },
  {
   "cell_type": "code",
   "execution_count": 200,
   "id": "58791763",
   "metadata": {},
   "outputs": [
    {
     "data": {
      "text/plain": [
       "0.04"
      ]
     },
     "execution_count": 200,
     "metadata": {},
     "output_type": "execute_result"
    }
   ],
   "source": [
    "# Uso del LGN\n",
    "n = 10\n",
    "varianza = 0.1\n",
    "epsilon = 0.5\n",
    "LGN(n,varianza,epsilon)"
   ]
  },
  {
   "cell_type": "markdown",
   "id": "f8bd78d4",
   "metadata": {},
   "source": [
    "### Teorema Central del Límite"
   ]
  },
  {
   "cell_type": "code",
   "execution_count": 201,
   "id": "5047dfd1",
   "metadata": {},
   "outputs": [],
   "source": [
    "# Proba de Sn > x\n",
    "def TCL_suma(esp, var, n, x):\n",
    "    va = scipy.stats.norm()\n",
    "    k = (x - esp * n)/(math.sqrt(var*n))\n",
    "    return 1 - va.cdf(k)"
   ]
  },
  {
   "cell_type": "code",
   "execution_count": 202,
   "id": "5f158bd9",
   "metadata": {},
   "outputs": [],
   "source": [
    "# Proba de Xn.raya > x\n",
    "def TCL_promedio(esp, var, n, x):\n",
    "    va = scipy.stats.norm()\n",
    "    k = (x - esp)/(math.sqrt(var)/(math.sqrt(n)))\n",
    "    return 1 - va.cdf(k)"
   ]
  },
  {
   "cell_type": "markdown",
   "id": "b2945507",
   "metadata": {},
   "source": [
    "### Estadística Descriptiva"
   ]
  },
  {
   "cell_type": "code",
   "execution_count": 203,
   "id": "46abbfff",
   "metadata": {},
   "outputs": [],
   "source": [
    "# Datos de ejemplo\n",
    "lista = [1,2,2,2,3,4,5,5,6,6,7,8,9,9]"
   ]
  },
  {
   "cell_type": "code",
   "execution_count": 204,
   "id": "f16771b1",
   "metadata": {},
   "outputs": [],
   "source": [
    "datos = np.array(lista)\n",
    "media = np.mean(datos)\n",
    "mediana = np.median(datos)\n",
    "quantiles = np.quantile(datos, [0.25,0.75])\n",
    "IQR = quantiles[1] - quantiles[0]\n",
    "sd = np.std(datos, ddof=1)\n",
    "var = np.var(datos, ddof=1)\n",
    "mediaPodada = scipy.stats.trim_mean(datos,proportiontocut = 0.1)\n",
    "MAD = scipy.stats.median_abs_deviation(datos)"
   ]
  },
  {
   "cell_type": "code",
   "execution_count": 205,
   "id": "37e46e49",
   "metadata": {},
   "outputs": [
    {
     "data": {
      "text/plain": [
       "[<matplotlib.lines.Line2D at 0x7fd21e939490>]"
      ]
     },
     "execution_count": 205,
     "metadata": {},
     "output_type": "execute_result"
    },
    {
     "data": {
      "image/png": "[encoded data removed]",
      "text/plain": [
       "<Figure size 432x288 with 1 Axes>"
      ]
     },
     "metadata": {
      "needs_background": "light"
     },
     "output_type": "display_data"
    }
   ],
   "source": [
    "# Distribución empírica\n",
    "d = ECDF(datos)\n",
    "plt.plot(d.x, d.y)"
   ]
  },
  {
   "cell_type": "markdown",
   "id": "c2c87f99",
   "metadata": {},
   "source": [
    "### Cálculo de estimadores"
   ]
  },
  {
   "cell_type": "code",
   "execution_count": 206,
   "id": "314901e9",
   "metadata": {},
   "outputs": [],
   "source": [
    "# Calculo de estimador MaxVer distribución normal\n",
    "def MVnormal(datos, mu=None, sigma=None):\n",
    "    m = np.mean(datos)\n",
    "    s = np.var(datos)\n",
    "    var = sum((x-m)**2 for x in datos)/len(datos)\n",
    "    if mu == None and sigma == None:\n",
    "        return (m, var)\n",
    "    if sigma == None:\n",
    "        return (mu,s)\n",
    "    else:\n",
    "        return (m,sigma)"
   ]
  },
  {
   "cell_type": "code",
   "execution_count": 207,
   "id": "28cd8983",
   "metadata": {},
   "outputs": [],
   "source": [
    "# Estimaciones de parametro para una Geométrica\n",
    "def tMomentosGeom(datos):\n",
    "    xRaya = np.mean(datos)\n",
    "    return 1/xRaya\n",
    "\n",
    "def tMaxVerGeom(datos):\n",
    "    xRaya = np.mean(datos)\n",
    "    return 1/xRaya"
   ]
  },
  {
   "cell_type": "code",
   "execution_count": 208,
   "id": "c7f2ab19",
   "metadata": {},
   "outputs": [
    {
     "name": "stderr",
     "output_type": "stream",
     "text": [
      "/Users/yagopajarino/Jupyter/.venv/lib/python3.9/site-packages/numpy/core/_methods.py:262: RuntimeWarning: Degrees of freedom <= 0 for slice\n",
      "  ret = _var(a, axis=axis, dtype=dtype, out=out, ddof=ddof,\n",
      "/Users/yagopajarino/Jupyter/.venv/lib/python3.9/site-packages/numpy/core/_methods.py:254: RuntimeWarning: invalid value encountered in double_scalars\n",
      "  ret = ret.dtype.type(ret / rcount)\n"
     ]
    }
   ],
   "source": [
    "# Para el calculo del desvio estandar muestral\n",
    "datos = [0]\n",
    "sdMuestral = np.std(datos,ddof=1)"
   ]
  },
  {
   "cell_type": "markdown",
   "id": "25963457",
   "metadata": {},
   "source": [
    "### Cálculo de intervalos de confianza"
   ]
  },
  {
   "cell_type": "code",
   "execution_count": 209,
   "id": "b0140a11",
   "metadata": {},
   "outputs": [],
   "source": [
    "# Intervalos de confianza para distribuciones normales\n",
    "def getIntervaloParaMuConVar(alfa, var, mediaMuestral, n):\n",
    "    va = scipy.stats.norm(0,1)\n",
    "    z = va.ppf(1-(alfa/2))\n",
    "    sd = math.sqrt(var)\n",
    "    return (mediaMuestral - (z*sd/math.sqrt(n)),(mediaMuestral + (z*sd/math.sqrt(n))))\n",
    "\n",
    "def getIntervaloParaMuSinVar(alfa, sdMuestral, mediaMuestral, n):\n",
    "    va = scipy.stats.t(df=n-1)\n",
    "    z = va.ppf(1-(alfa/2))\n",
    "    sd = sdMuestral\n",
    "    return (mediaMuestral - (z*sd/math.sqrt(n)),(mediaMuestral + (z*sd/math.sqrt(n))))\n",
    "\n",
    "def getIntervaloParaVarConMu(alfa,muestra,mu,n):\n",
    "    va = scipy.stats.chi2(df=n)\n",
    "    xMin = va.ppf(1-a/2)\n",
    "    xMax = va.ppf(a/2)\n",
    "    sumatoria = sum([(m-mu)**2 for m in muestra])\n",
    "    return (sumatoria/xMin, sumatoria/xMax)\n",
    "\n",
    "def getIntervaloParaVarSinMu(alfa, desvioMuestral, n):\n",
    "    va = scipy.stats.chi2(df=n-1)\n",
    "    xMin = va.ppf(1-a/2)\n",
    "    xMax = va.ppf(a/2)\n",
    "    ter = (n-1)*(desvioMuestral**2)\n",
    "    return (ter/xMin, ter/xMax)"
   ]
  },
  {
   "cell_type": "code",
   "execution_count": 210,
   "id": "90225682",
   "metadata": {},
   "outputs": [],
   "source": [
    "# N necesarios para lograr \"l\" logitud del intervalo\n",
    "def nParaLograrLongitudMuConVar(alfa, var, l):\n",
    "    va = scipy.stats.norm(0,1)\n",
    "    z = va.ppf(1-(alfa/2))\n",
    "    sd = math.sqrt(var)\n",
    "    return (2*z*sd/l)**2\n",
    "\n",
    "def nParaLograrLongitudMuSinVar(alfa, var, n, l):\n",
    "    va = scipy.stats.t(df=n-1)\n",
    "    t = va.ppf(1-(alfa/2))\n",
    "    sd = math.sqrt(var)\n",
    "    return (2*t*sd/l)**2"
   ]
  },
  {
   "cell_type": "code",
   "execution_count": 211,
   "id": "0617914f",
   "metadata": {},
   "outputs": [],
   "source": [
    "# Intervalo para exponencial exacto\n",
    "def getIntervaloParaExponencial(muestra, alfa, n):\n",
    "    va = scipy.stats.chi2(df=2*n)\n",
    "    xMin = va.ppf(a/2)\n",
    "    xMax = va.ppf(1-(a/2))\n",
    "    sumatoria = sum(muestra)\n",
    "    return (xMin/(2*sumatoria),xMax/(2*sumatoria))"
   ]
  },
  {
   "cell_type": "code",
   "execution_count": 212,
   "id": "6bbfdf67",
   "metadata": {},
   "outputs": [],
   "source": [
    "# Intervalo asitótico para exponencial. Devuelve E(X) luego hay que rescatar el parametro lambda\n",
    "def getIntervaloExpoenencialAsintotico(alfa, sd, xRaya, n):\n",
    "    va = scipy.stats.norm(0,1)\n",
    "    z = va.ppf(1-(alfa/2))\n",
    "    return (xRaya - z*sd/math.sqrt(n),xRaya + z*sd/math.sqrt(n))"
   ]
  },
  {
   "cell_type": "code",
   "execution_count": 213,
   "id": "0eb2710f",
   "metadata": {},
   "outputs": [],
   "source": [
    "# Intervalo para Binomial\n",
    "def getIntervaloBinomial(a, mediaMuestral, n):\n",
    "    va = scipy.stats.norm(0,1)\n",
    "    z = va.ppf(1-a/2)\n",
    "    correc = math.sqrt((mediaMuestral*(1-mediaMuestral))/n)\n",
    "    return (mediaMuestral - z*correc,mediaMuestral + z*correc)"
   ]
  },
  {
   "cell_type": "code",
   "execution_count": 214,
   "id": "ff98ed3d",
   "metadata": {},
   "outputs": [],
   "source": [
    "# N para lograr longitud \"l\" del intervalo binomial\n",
    "def nParaIntervaloBinomial(alfa, lMax):\n",
    "    va = scipy.stats.norm(0,1)\n",
    "    z = va.ppf(1-(alfa/2))\n",
    "    return (z/lMax)**2"
   ]
  },
  {
   "cell_type": "code",
   "execution_count": 215,
   "id": "aade6e0f",
   "metadata": {},
   "outputs": [],
   "source": [
    "# Intervalo para la Poisson\n",
    "def getIntervaloPoisson(a, mediaMuestral, n):\n",
    "    va = scipy.stats.norm(0,1)\n",
    "    z = va.ppf(1-a/2)\n",
    "    correc = math.sqrt((mediaMuestral/n))\n",
    "    return (mediaMuestral - z*correc,mediaMuestral + z*correc)"
   ]
  },
  {
   "cell_type": "markdown",
   "id": "a1304d4d",
   "metadata": {},
   "source": [
    "### Test de hipótesis"
   ]
  },
  {
   "cell_type": "markdown",
   "id": "b776a9c1",
   "metadata": {},
   "source": [
    "#### Error de tipo I"
   ]
  },
  {
   "cell_type": "code",
   "execution_count": 216,
   "id": "d0822baf",
   "metadata": {},
   "outputs": [],
   "source": [
    "def rechazarH0NormalesParaMuConVar(tipo, alfa, mediaMuestral, mu_0, sigma, n):\n",
    "    \"\"\"\n",
    "    Tipo 0: mu < mu_0\n",
    "    Tipo 1: mu > mu_0\n",
    "    Tipo 2: mu != mu_0\n",
    "    \"\"\"\n",
    "    va = scipy.stats.norm()\n",
    "    k = (mediaMuestral - mu_0)/(sigma/math.sqrt(n))\n",
    "    print(\"mu = {}\".format(k))\n",
    "    if tipo == 0:\n",
    "        z = -va.ppf(1-alfa)\n",
    "        print(\"z = {}\".format(z))\n",
    "        if k < z:\n",
    "            return True\n",
    "        else: return False\n",
    "    elif tipo == 1:\n",
    "        z = va.ppf(1-alfa)\n",
    "        print(\"z = {}\".format(z))\n",
    "        if k > z:\n",
    "            return True\n",
    "        else: return False\n",
    "    else:\n",
    "        z = va.ppf(1-alfa/2)\n",
    "        print(\"z = {}\".format(z))\n",
    "        if (k < -z) or (k > z):\n",
    "            return True\n",
    "        else: return False"
   ]
  },
  {
   "cell_type": "code",
   "execution_count": 217,
   "id": "91cce085",
   "metadata": {},
   "outputs": [
    {
     "name": "stdout",
     "output_type": "stream",
     "text": [
      "mu = -4.427188724235731\n",
      "z = 1.6448536269514722\n"
     ]
    },
    {
     "data": {
      "text/plain": [
       "False"
      ]
     },
     "execution_count": 217,
     "metadata": {},
     "output_type": "execute_result"
    }
   ],
   "source": [
    "# Uso rechazarH0NormalesParaMuConVar\n",
    "tipo = 1\n",
    "alfa = 0.05\n",
    "mediaMuestral = 30\n",
    "mu = 37\n",
    "sigma = math.sqrt(25)\n",
    "n = 10\n",
    "rechazarH0NormalesParaMuConVar(tipo, alfa, mediaMuestral, mu, sigma, n)"
   ]
  },
  {
   "cell_type": "code",
   "execution_count": 218,
   "id": "34cf7542",
   "metadata": {},
   "outputs": [],
   "source": [
    "def rechazarH0NormalesParaMuSinVar(tipo, alfa, mediaMuestral, mu_0, desvioMuestral, n):\n",
    "    \"\"\"\n",
    "    Tipo 0: mu < mu_0\n",
    "    Tipo 1: mu > mu_0\n",
    "    Tipo 2: mu != mu_0\n",
    "    \"\"\"\n",
    "    va = scipy.stats.t(df=n-1)\n",
    "    k = (mediaMuestral - mu_0)/(desvioMuestral/math.sqrt(n))\n",
    "    print(\"mu = {}\".format(k))\n",
    "    if tipo == 0:\n",
    "        z = -va.ppf(1-alfa)\n",
    "        print(\"z = {}\".format(z))\n",
    "        if k < z:\n",
    "            return True\n",
    "        else: return False\n",
    "    elif tipo == 1:\n",
    "        z = va.ppf(1-alfa)\n",
    "        print(\"z = {}\".format(z))\n",
    "        if k > z:\n",
    "            return True\n",
    "        else: return False\n",
    "    else:\n",
    "        z = va.ppf(1-alfa/2)\n",
    "        print(\"z = {}\".format(z))\n",
    "        if (k < -z) or (k > z):\n",
    "            return True\n",
    "        else: return False"
   ]
  },
  {
   "cell_type": "code",
   "execution_count": 219,
   "id": "8bbadf80",
   "metadata": {},
   "outputs": [
    {
     "name": "stdout",
     "output_type": "stream",
     "text": [
      "mu = 1.2649110640673518\n",
      "z = 1.8331129326536335\n"
     ]
    },
    {
     "data": {
      "text/plain": [
       "False"
      ]
     },
     "execution_count": 219,
     "metadata": {},
     "output_type": "execute_result"
    }
   ],
   "source": [
    "# Uso rechazarH0NormalesParaMuSinVar\n",
    "tipo = 1\n",
    "alfa = 0.05\n",
    "mediaMuestral = 304\n",
    "mu = 300\n",
    "desvioMuestral = 10\n",
    "n = 10\n",
    "rechazarH0NormalesParaMuSinVar(tipo, alfa, mediaMuestral, mu, desvioMuestral, n)"
   ]
  },
  {
   "cell_type": "code",
   "execution_count": 220,
   "id": "6c3c4e94",
   "metadata": {},
   "outputs": [],
   "source": [
    "def rechazarH0NormalesParaVarSinMu(tipo, alfa, sigma_0, desvioMuestral, n):\n",
    "    \"\"\"\n",
    "    Tipo 0: mu < mu_0\n",
    "    Tipo 1: mu > mu_0\n",
    "    Tipo 2: mu != mu_0\n",
    "    \"\"\"\n",
    "    va = scipy.stats.chi2(df=n-1)\n",
    "    k = ((n-1)*(desvioMuestral**2))/(sigma_0**2)\n",
    "    print(\"var = {}\".format(k))\n",
    "    if tipo == 0:\n",
    "        z = va.ppf(alfa)\n",
    "        print(\"z = {}\".format(z))\n",
    "        if k < z:\n",
    "            return True\n",
    "        else: return False\n",
    "    elif tipo == 1:\n",
    "        z = va.ppf(1-alfa)\n",
    "        print(\"z = {}\".format(z))\n",
    "        if k > z:\n",
    "            return True\n",
    "        else: return False\n",
    "    else:\n",
    "        z0 = va.ppf(alfa/2)\n",
    "        z1 = va.ppf(1-alfa/2)\n",
    "        print(\"z = {}\".format((z0,z1)))\n",
    "        if (k < z0) or (k > z1):\n",
    "            return True\n",
    "        else: return False"
   ]
  },
  {
   "cell_type": "code",
   "execution_count": 221,
   "id": "f93b2429",
   "metadata": {},
   "outputs": [
    {
     "name": "stdout",
     "output_type": "stream",
     "text": [
      "var = 9.378787878787879\n",
      "z = 3.9402991361190605\n"
     ]
    },
    {
     "data": {
      "text/plain": [
       "False"
      ]
     },
     "execution_count": 221,
     "metadata": {},
     "output_type": "execute_result"
    }
   ],
   "source": [
    "# Uso rechazarH0NormalesParaVarSinMu\n",
    "datos = [27, 41, 22, 27, 23,35, 30, 24, 27, 28, 22]\n",
    "tipo = 0\n",
    "alfa = 0.05\n",
    "sigma_0 = 6\n",
    "desvioMuestral = np.std(datos,ddof=1)\n",
    "n = 11\n",
    "rechazarH0NormalesParaVarSinMu(tipo, alfa, sigma_0, desvioMuestral, n)"
   ]
  },
  {
   "cell_type": "code",
   "execution_count": 222,
   "id": "0f43df44",
   "metadata": {},
   "outputs": [],
   "source": [
    "def rechazarH0Bernoulli(tipo, alfa, mediaMuestral, p_0, n):\n",
    "    \"\"\"\n",
    "    Tipo 0: p < p_0\n",
    "    Tipo 1: p > p_0\n",
    "    Tipo 2: p != p_0\n",
    "    \"\"\"\n",
    "    va = scipy.stats.norm()\n",
    "    k = (mediaMuestral - p_0)/(math.sqrt(p_0*(1-p_0))/math.sqrt(n))\n",
    "    print(\"p = {}\".format(k))\n",
    "    if tipo == 0:\n",
    "        z = -va.ppf(1-alfa)\n",
    "        print(\"z = {}\".format(z))\n",
    "        if k < z:\n",
    "            return True\n",
    "        else: return False\n",
    "    elif tipo == 1:\n",
    "        z = va.ppf(1-alfa)\n",
    "        print(\"z = {}\".format(z))\n",
    "        if k > z:\n",
    "            return True\n",
    "        else: return False\n",
    "    else:\n",
    "        z = va.ppf(1-alfa/2)\n",
    "        print(\"z = {}\".format(z))\n",
    "        if (k < -z) or (k > z):\n",
    "            return True\n",
    "        else: return False"
   ]
  },
  {
   "cell_type": "code",
   "execution_count": 223,
   "id": "ab8e70f2",
   "metadata": {},
   "outputs": [
    {
     "name": "stdout",
     "output_type": "stream",
     "text": [
      "p = 1.414213562373095\n",
      "z = 1.6448536269514722\n"
     ]
    },
    {
     "data": {
      "text/plain": [
       "False"
      ]
     },
     "execution_count": 223,
     "metadata": {},
     "output_type": "execute_result"
    }
   ],
   "source": [
    "# Uso rechazarH0Bernoulli\n",
    "tipo = 1\n",
    "alfa = 0.05\n",
    "mediaMuestral = 26/200\n",
    "p_0 = 0.1\n",
    "n = 200\n",
    "rechazarH0Bernoulli(tipo, alfa, mediaMuestral, p_0, n)"
   ]
  },
  {
   "cell_type": "markdown",
   "id": "1e8de3f6",
   "metadata": {},
   "source": [
    "#### Error de tipo II"
   ]
  },
  {
   "cell_type": "code",
   "execution_count": 224,
   "id": "a296eb79",
   "metadata": {},
   "outputs": [],
   "source": [
    "def probaErrorTipoII(tipo, alfa, mu_0, mu, sigma, n):\n",
    "    \"\"\"\n",
    "    Tipo 0: mu < mu_0\n",
    "    Tipo 1: mu > mu_0\n",
    "    Tipo 2: mu != mu_0\n",
    "    \"\"\"\n",
    "    va = scipy.stats.norm()\n",
    "    const = (mu_0 - mu)/(sigma/math.sqrt(n))\n",
    "    if tipo == 0:\n",
    "        z = -va.ppf(1-alfa)\n",
    "        return 1 - va.cdf(z+const)\n",
    "    elif tipo == 1:\n",
    "        z = va.ppf(1-alfa)\n",
    "        return va.cdf(z+const)\n",
    "    else:\n",
    "        z = va.ppf(1-alfa/2)\n",
    "        return va.cdf(z+const) - va.cdf(-z+const)"
   ]
  },
  {
   "cell_type": "code",
   "execution_count": 225,
   "id": "50a1a82f",
   "metadata": {},
   "outputs": [
    {
     "data": {
      "text/plain": [
       "0.400322295453562"
      ]
     },
     "execution_count": 225,
     "metadata": {},
     "output_type": "execute_result"
    }
   ],
   "source": [
    "# Uso error proba tipo II\n",
    "tipo = 1\n",
    "alfa = 0.05\n",
    "mu_0 = 37\n",
    "mu = 40\n",
    "sigma = 5\n",
    "n = 10\n",
    "probaErrorTipoII(tipo, alfa, mu_0, mu, sigma, n)"
   ]
  },
  {
   "cell_type": "code",
   "execution_count": 226,
   "id": "fc1950c5",
   "metadata": {},
   "outputs": [],
   "source": [
    "def nParaErrotTipoIIMenorEpsilon(tipo, alfa, epsilon, sigma, mu_0, mu):\n",
    "    \"\"\"\n",
    "    Tipo 0: mu < mu_0\n",
    "    Tipo 1: mu > mu_0\n",
    "    Tipo 2: mu != mu_0\n",
    "    \"\"\"\n",
    "    va = scipy.stats.norm()\n",
    "    if tipo == 0:\n",
    "        z = -va.ppf(1-alfa)\n",
    "        e = va.ppf(1-epsilon)\n",
    "        return (((e+z)*sigma)/(mu_0-mu))**2\n",
    "    elif tipo == 1:\n",
    "        z = va.ppf(1-alfa)\n",
    "        e = va.ppf(epsilon)\n",
    "        return (((e-z)*sigma)/(mu-mu_0))**2\n",
    "    else:\n",
    "        return \"No hay n\""
   ]
  },
  {
   "cell_type": "code",
   "execution_count": 227,
   "id": "b2d3767b",
   "metadata": {},
   "outputs": [
    {
     "data": {
      "text/plain": [
       "30.06159393439349"
      ]
     },
     "execution_count": 227,
     "metadata": {},
     "output_type": "execute_result"
    }
   ],
   "source": [
    "# Uso nParaErrotTipoIIMenorEpsilon\n",
    "tipo = 1\n",
    "alfa = 0.05\n",
    "epsilon = 0.05\n",
    "sigma = 5\n",
    "mu_0 = 37\n",
    "mu = 40\n",
    "nParaErrotTipoIIMenorEpsilon(tipo, alfa, epsilon, sigma, mu_0, mu)"
   ]
  },
  {
   "cell_type": "markdown",
   "id": "af433169",
   "metadata": {},
   "source": [
    "#### Función de potencia"
   ]
  },
  {
   "cell_type": "code",
   "execution_count": 228,
   "id": "06499ccd",
   "metadata": {},
   "outputs": [],
   "source": [
    "# Función de potencia, cambiar el los parametros distintos a mu y el tipo de test\n",
    "def funcionPotencia(mu):\n",
    "    if mu <= mu_0:\n",
    "        va = scipy.stats.norm()\n",
    "        k = (media - mu)/(sigma/math.sqrt(n))\n",
    "        return 1-va.cdf(k)\n",
    "    else:\n",
    "        return 1-probaErrorTipoII(tipo, alfa, mu_0, mu, sigma, n)"
   ]
  },
  {
   "cell_type": "code",
   "execution_count": 229,
   "id": "23cf9a5c",
   "metadata": {},
   "outputs": [
    {
     "data": {
      "text/plain": [
       "0.9999999999053198"
      ]
     },
     "execution_count": 229,
     "metadata": {},
     "output_type": "execute_result"
    }
   ],
   "source": [
    "# Uso función de potencia\n",
    "mu = 15\n",
    "funcionPotencia(mu)"
   ]
  },
  {
   "cell_type": "markdown",
   "id": "8e53154a",
   "metadata": {},
   "source": [
    "#### Cálculo del p-value"
   ]
  },
  {
   "cell_type": "code",
   "execution_count": 230,
   "id": "93cabc41",
   "metadata": {},
   "outputs": [
    {
     "data": {
      "text/plain": [
       "0.11883628158949289"
      ]
     },
     "execution_count": 230,
     "metadata": {},
     "output_type": "execute_result"
    }
   ],
   "source": [
    "# NO es función general, hay que cambiar el tipo de distribución y la proba acumulada según el tipo de test\n",
    "va = scipy.stats.t(df=n-1)\n",
    "mu = 1.2649110640673518\n",
    "1-va.cdf(mu)"
   ]
  },
  {
   "cell_type": "markdown",
   "id": "96697cd5",
   "metadata": {},
   "source": [
    "## Resolución parcial integrador\n",
    "\n",
    "Para regularizar la materia son necesarios 50 de los 100 puntos:\n",
    "* Entrega 1: 5.5\n",
    "* Entrega 2: 6\n",
    "* Entrega 3: 8\n",
    "* Entrega 4: 10\n",
    "\n",
    "Puntaje total entregas: 29.5\n",
    "\n",
    "Puntaje necesario: 50 - 29.5 = 20.5"
   ]
  },
  {
   "cell_type": "code",
   "execution_count": 231,
   "id": "afe1ce4e",
   "metadata": {},
   "outputs": [],
   "source": [
    "def resFinalParser(n):\n",
    "    print(str(round(n,4)).replace(\".\",\",\"))"
   ]
  },
  {
   "cell_type": "code",
   "execution_count": null,
   "id": "c3edb84a",
   "metadata": {},
   "outputs": [],
   "source": []
  }
 ],
 "metadata": {
  "kernelspec": {
   "display_name": "Python 3 (ipykernel)",
   "language": "python",
   "name": "python3"
  },
  "language_info": {
   "codemirror_mode": {
    "name": "ipython",
    "version": 3
   },
   "file_extension": ".py",
   "mimetype": "text/x-python",
   "name": "python",
   "nbconvert_exporter": "python",
   "pygments_lexer": "ipython3",
   "version": "3.9.6"
  }
 },
 "nbformat": 4,
 "nbformat_minor": 5
}
