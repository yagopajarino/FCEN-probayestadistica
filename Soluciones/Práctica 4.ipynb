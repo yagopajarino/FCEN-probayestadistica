{
 "cells": [
  {
   "cell_type": "markdown",
   "id": "cc2b36c2",
   "metadata": {},
   "source": [
    "# Práctica 4"
   ]
  },
  {
   "cell_type": "code",
   "execution_count": 1,
   "id": "2bdc131b",
   "metadata": {},
   "outputs": [],
   "source": [
    "import scipy.integrate as integrate\n",
    "import scipy.stats\n",
    "import numpy as np\n",
    "import matplotlib.pyplot as plt"
   ]
  },
  {
   "cell_type": "markdown",
   "id": "bf630e2b",
   "metadata": {},
   "source": [
    "## Ejercicio 1"
   ]
  },
  {
   "cell_type": "markdown",
   "id": "d5a8915a",
   "metadata": {},
   "source": [
    "### Pregunta A"
   ]
  },
  {
   "cell_type": "code",
   "execution_count": 2,
   "id": "df0ee8a0",
   "metadata": {},
   "outputs": [],
   "source": [
    "def f(y, x):\n",
    "    if (2 <= x <= 3) and (2 <= y <= 3):\n",
    "        return 3/38 * (x**2 + y**2)\n",
    "    else:\n",
    "        return 0"
   ]
  },
  {
   "cell_type": "code",
   "execution_count": 3,
   "id": "e8eec42a",
   "metadata": {},
   "outputs": [
    {
     "data": {
      "text/plain": [
       "(0.9999999999999796, 1.6809671432582718e-09)"
      ]
     },
     "execution_count": 3,
     "metadata": {},
     "output_type": "execute_result"
    }
   ],
   "source": [
    "scipy.integrate.dblquad(f, -np.inf, np.inf, -np.inf, np.inf)"
   ]
  },
  {
   "cell_type": "markdown",
   "id": "f37b590d",
   "metadata": {},
   "source": [
    "### Pregunta B"
   ]
  },
  {
   "cell_type": "code",
   "execution_count": 4,
   "id": "738545ed",
   "metadata": {},
   "outputs": [
    {
     "data": {
      "text/plain": [
       "(0.30240000000000006, 6.3492510574090725e-15)"
      ]
     },
     "execution_count": 4,
     "metadata": {},
     "output_type": "execute_result"
    }
   ],
   "source": [
    "integrate.dblquad(f, 2, 2.6, 2, 2.6)"
   ]
  },
  {
   "cell_type": "code",
   "execution_count": 5,
   "id": "8b88b3f0",
   "metadata": {},
   "outputs": [
    {
     "data": {
      "text/plain": [
       "1.0"
      ]
     },
     "execution_count": 5,
     "metadata": {},
     "output_type": "execute_result"
    }
   ],
   "source": [
    "1+np.e**(-2000) * 2000"
   ]
  },
  {
   "cell_type": "markdown",
   "id": "b452d643",
   "metadata": {},
   "source": [
    "### Ejercicio 7"
   ]
  },
  {
   "cell_type": "code",
   "execution_count": 6,
   "id": "ccbcfe40",
   "metadata": {},
   "outputs": [],
   "source": [
    "def fx(x):\n",
    "    if (2 <= x <= 3):\n",
    "        return 3/38 * (x**2 + 19/3)\n",
    "    else:\n",
    "        return 0\n",
    "\n",
    "def fy(y):\n",
    "    if (2 <= y <= 3):\n",
    "        return 3/38 * (y**2 + 19/3)\n",
    "    else:\n",
    "        return 0"
   ]
  },
  {
   "cell_type": "code",
   "execution_count": 7,
   "id": "9b8ed11f",
   "metadata": {},
   "outputs": [
    {
     "name": "stdout",
     "output_type": "stream",
     "text": [
      "0.06742222229916887\n",
      "0.06579473684210518\n"
     ]
    }
   ],
   "source": [
    "# Busco A y B tales que f sea distinto a fx * fy\n",
    "A = [2, 2.3]\n",
    "B = [2, 2.3]\n",
    "x1 = integrate.quad(fx,A[0], A[1])[0]\n",
    "x2 = integrate.quad(fy,B[0], B[1])[0]\n",
    "print(x1 * x2)\n",
    "print(integrate.dblquad(f,A[0],A[1],B[0],B[1])[0])"
   ]
  },
  {
   "cell_type": "code",
   "execution_count": 8,
   "id": "a5a49991",
   "metadata": {},
   "outputs": [
    {
     "data": {
      "text/plain": [
       "[<matplotlib.lines.Line2D at 0x7ff34d07b310>]"
      ]
     },
     "execution_count": 8,
     "metadata": {},
     "output_type": "execute_result"
    },
    {
     "data": {
      "image/png": "[encoded data removed]",
      "text/plain": [
       "<Figure size 720x720 with 1 Axes>"
      ]
     },
     "metadata": {
      "needs_background": "light"
     },
     "output_type": "display_data"
    }
   ],
   "source": [
    "# Se debería ver tambien en el plot\n",
    "A = [2, 2]\n",
    "xs, ys, ysp = [], [], []\n",
    "\n",
    "while A[1] <= 2.5:\n",
    "    x1 = integrate.quad(fx,A[0], A[1])[0]\n",
    "    x2 = integrate.quad(fy,A[0], A[1])[0]\n",
    "    ys.append(x1 * x2)\n",
    "    ysp.append(integrate.dblquad(f,A[0],A[1],A[0],A[1])[0])\n",
    "    xs.append(A[1])\n",
    "    A[1] += .01\n",
    "\n",
    "plt.figure(figsize=(10,10))\n",
    "plt.plot(xs, ys)\n",
    "plt.plot(xs, ysp)"
   ]
  },
  {
   "cell_type": "markdown",
   "id": "227aef33",
   "metadata": {},
   "source": [
    "## Ejercicio 8"
   ]
  },
  {
   "cell_type": "code",
   "execution_count": 17,
   "id": "bc74c471",
   "metadata": {},
   "outputs": [
    {
     "name": "stdout",
     "output_type": "stream",
     "text": [
      "P(Y=0 | X=0) = 0.8\n",
      "P(Y=1 | X=0) = 0.2\n",
      "P(Y=0 | X=1) = 0.6\n",
      "P(Y=1 | X=1) = 0.4\n",
      "P(Y=0 | X=2) = 0.4\n",
      "P(Y=1 | X=2) = 0.6\n",
      "P(Y=0 | X=3) = 0.2\n",
      "P(Y=1 | X=3) = 0.8\n"
     ]
    }
   ],
   "source": [
    "# Distribución de Y|X=a\n",
    "X = scipy.stats.binom(3,1/2)\n",
    "for x in range(4):\n",
    "    Y = scipy.stats.hypergeom(5,1,x+1)\n",
    "    for y in range(2):\n",
    "        print(\"P(Y={} | X={}) = {}\".format(y,x,round(Y.pmf(y),4)))"
   ]
  },
  {
   "cell_type": "code",
   "execution_count": 19,
   "id": "e6d2dd1d",
   "metadata": {},
   "outputs": [
    {
     "name": "stdout",
     "output_type": "stream",
     "text": [
      "P(Y=0 | X=0) * P(X=0) = 0.1\n",
      "P(Y=1 | X=0) * P(X=0) = 0.025\n",
      "P(Y=0 | X=1) * P(X=1) = 0.225\n",
      "P(Y=1 | X=1) * P(X=1) = 0.15\n",
      "P(Y=0 | X=2) * P(X=2) = 0.15\n",
      "P(Y=1 | X=2) * P(X=2) = 0.225\n",
      "P(Y=0 | X=3) * P(X=3) = 0.025\n",
      "P(Y=1 | X=3) * P(X=3) = 0.1\n"
     ]
    }
   ],
   "source": [
    "# Distribución conjunta (X,Y)\n",
    "X = scipy.stats.binom(3,1/2)\n",
    "for x in range(4):\n",
    "    Y = scipy.stats.hypergeom(5,1,x+1)\n",
    "    for y in range(2):\n",
    "        print(\"P(Y={} | X={}) * P(X={}) = {}\".format(y,x,x,round(Y.pmf(y)*X.pmf(x),4)))"
   ]
  },
  {
   "cell_type": "markdown",
   "id": "43d6f691",
   "metadata": {},
   "source": [
    "## Ejercicio 11"
   ]
  },
  {
   "cell_type": "code",
   "execution_count": 21,
   "id": "100050d5",
   "metadata": {},
   "outputs": [],
   "source": [
    "arr_ej = [(0,0,.1),(0,1,.025),(1,0,.225),(1,1,.15),(2,0,.15),(2,1,.225),(3,0,.025),(3,1,.1)]"
   ]
  },
  {
   "cell_type": "code",
   "execution_count": null,
   "id": "ff80c56d",
   "metadata": {},
   "outputs": [],
   "source": [
    "def cov_tabla(arr):\n",
    "    for t in arr:\n",
    "        "
   ]
  },
  {
   "cell_type": "markdown",
   "id": "30eea6bd",
   "metadata": {},
   "source": [
    "## Ejercicio 12"
   ]
  },
  {
   "cell_type": "code",
   "execution_count": 23,
   "id": "ae5d948b",
   "metadata": {},
   "outputs": [],
   "source": [
    "va = scipy.stats.multinomial(n=100,p=[.7,.12,.1,.08])"
   ]
  },
  {
   "cell_type": "markdown",
   "id": "a89096b2",
   "metadata": {},
   "source": [
    "## Ejercicio 15"
   ]
  },
  {
   "cell_type": "code",
   "execution_count": 24,
   "id": "8d478274",
   "metadata": {},
   "outputs": [],
   "source": [
    "def norm_rango(mu=0, ds=1, desde=-np.inf, hasta=np.inf):\n",
    "    va = scipy.stats.norm(mu, ds)\n",
    "    return va.cdf(hasta) - va.cdf(desde)"
   ]
  },
  {
   "cell_type": "code",
   "execution_count": 30,
   "id": "b5e775eb",
   "metadata": {},
   "outputs": [],
   "source": [
    "pa = norm_rango(mu=5, ds=0.5, hasta=4)"
   ]
  },
  {
   "cell_type": "code",
   "execution_count": 31,
   "id": "296a633c",
   "metadata": {},
   "outputs": [],
   "source": [
    "pb = norm_rango(mu=5, ds=0.5, desde=4 , hasta=4.8)"
   ]
  },
  {
   "cell_type": "code",
   "execution_count": 32,
   "id": "2d3fc419",
   "metadata": {},
   "outputs": [],
   "source": [
    "pc = norm_rango(mu=5, ds=0.5, desde=4.8 , hasta=5.5)"
   ]
  },
  {
   "cell_type": "code",
   "execution_count": 33,
   "id": "76fa8892",
   "metadata": {},
   "outputs": [],
   "source": [
    "pd = norm_rango(mu=5, ds=0.5, desde=5.5)"
   ]
  },
  {
   "cell_type": "code",
   "execution_count": 34,
   "id": "6a37b1a1",
   "metadata": {},
   "outputs": [],
   "source": [
    "va = scipy.stats.multinomial(n=40,p=[pa,pb,pc,pd])"
   ]
  },
  {
   "cell_type": "code",
   "execution_count": 38,
   "id": "e7a5b60c",
   "metadata": {},
   "outputs": [
    {
     "data": {
      "text/plain": [
       "0.006251381180438276"
      ]
     },
     "execution_count": 38,
     "metadata": {},
     "output_type": "execute_result"
    }
   ],
   "source": [
    "va.pmf([1,13,18,8])"
   ]
  },
  {
   "cell_type": "markdown",
   "id": "7bacc7a9",
   "metadata": {},
   "source": [
    "## Ejercicio 17"
   ]
  },
  {
   "cell_type": "code",
   "execution_count": 41,
   "id": "94fcaea4",
   "metadata": {},
   "outputs": [],
   "source": [
    "def f(x):\n",
    "    if 2 <= x <= 2.5:\n",
    "        return x * 24 * (x-2)**2\n",
    "    else:\n",
    "        return 0"
   ]
  },
  {
   "cell_type": "code",
   "execution_count": 43,
   "id": "5ee52b6f",
   "metadata": {},
   "outputs": [
    {
     "data": {
      "text/plain": [
       "2.3749999999824802"
      ]
     },
     "execution_count": 43,
     "metadata": {},
     "output_type": "execute_result"
    }
   ],
   "source": [
    "scipy.integrate.quad(f,-np.inf,np.inf)[0]"
   ]
  },
  {
   "cell_type": "markdown",
   "id": "a88a1c01",
   "metadata": {},
   "source": [
    "## Ejercicio 19"
   ]
  },
  {
   "cell_type": "code",
   "execution_count": 44,
   "id": "1d605255",
   "metadata": {},
   "outputs": [
    {
     "data": {
      "text/plain": [
       "0.09799362119546484"
      ]
     },
     "execution_count": 44,
     "metadata": {},
     "output_type": "execute_result"
    }
   ],
   "source": [
    "va = scipy.stats.binom(25,0.1)\n",
    "1-va.cdf(4)"
   ]
  },
  {
   "cell_type": "code",
   "execution_count": 47,
   "id": "ef4d4fc9",
   "metadata": {},
   "outputs": [
    {
     "data": {
      "text/plain": [
       "0.3033333333333334"
      ]
     },
     "execution_count": 47,
     "metadata": {},
     "output_type": "execute_result"
    }
   ],
   "source": [
    "va = scipy.stats.hypergeom(25,14,2)\n",
    "va.pmf(2)"
   ]
  },
  {
   "cell_type": "code",
   "execution_count": null,
   "id": "cbb3a7f1",
   "metadata": {},
   "outputs": [],
   "source": []
  }
 ],
 "metadata": {
  "kernelspec": {
   "display_name": "Python 3 (ipykernel)",
   "language": "python",
   "name": "python3"
  },
  "language_info": {
   "codemirror_mode": {
    "name": "ipython",
    "version": 3
   },
   "file_extension": ".py",
   "mimetype": "text/x-python",
   "name": "python",
   "nbconvert_exporter": "python",
   "pygments_lexer": "ipython3",
   "version": "3.9.6"
  }
 },
 "nbformat": 4,
 "nbformat_minor": 5
}
