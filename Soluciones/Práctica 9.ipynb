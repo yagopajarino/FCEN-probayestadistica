{
 "cells": [
  {
   "cell_type": "markdown",
   "id": "410fe17e",
   "metadata": {},
   "source": [
    "# Práctica 9"
   ]
  },
  {
   "cell_type": "code",
   "execution_count": 3,
   "id": "2aa1fbad",
   "metadata": {},
   "outputs": [],
   "source": [
    "import scipy.stats\n",
    "import numpy as np\n",
    "import math"
   ]
  },
  {
   "cell_type": "markdown",
   "id": "d6e596d6",
   "metadata": {},
   "source": [
    "- <a href=\"#Ejercicio-1\">Ejercicio 1</a>\n",
    "- <a href=\"#Ejercicio-2\">Ejercicio 2</a>\n",
    "- <a href=\"#Ejercicio-3\">Ejercicio 3</a>\n",
    "- <a href=\"#Ejercicio-4\">Ejercicio 4</a>\n",
    "- <a href=\"#Ejercicio-5\">Ejercicio 5</a>"
   ]
  },
  {
   "cell_type": "markdown",
   "id": "8d8b6a51",
   "metadata": {},
   "source": [
    "## Ejercicio 1\n",
    "\n",
    "Un productor agropecuario cultiva una variedad de soja cuyo rendimiento por hectárea\n",
    "(ha.) puede considerarse una variable aleatoria con distribución N(37; 25). Un vendedor\n",
    "de granos pone a la venta una nueva variedad de soja, diciendo que tiene un\n",
    "rendimiento mayor. El productor agropecuario realizó una compra de esta nueva variedad\n",
    "y quiere asegurarse de que tienen un rendimiento mayor que las semillas que\n",
    "compra habitualmente. Con ese fin decide cultivar 10 parcelas de 1 ha., observar sus\n",
    "rendimientos y aplicar un test de hipótesis de nivel 0.05. Suponiendo que el rendimiento\n",
    "por ha. de la nueva variedad de soja tiene una distribución normal con varianza 25,\n",
    "resolver los siguientes ítems.\n",
    "\n",
    "### Pregunta A\n",
    "\n",
    "Definir las variables aleatorias y los parámetros involucrados en este problema y\n",
    "plantear el test de hipótesis que debe realizar el productor agropecuario.\n",
    "\n",
    "* $A$ : \"Rendimiento de la i-ésima hectarea plantada con la variedad inicial.\"\n",
    "* $B$ : \"Rendimiento de la i-ésima hectarea plantada con la nueva variedad.\"\n",
    "* $B_{i}, ... , B_{10}$ variables aleatorias con distribución $V_{2,i} \\sim N(37;25)$\n",
    "* $E(A) = 37$\n",
    "* $Var(A) = 25$\n",
    "* $\\alpha = 0.05$\n",
    "* $Var(B) = 25$\n",
    "\n",
    "Defino el test de hipótesis como:\n",
    "\n",
    "* $H_0$ : \"La nueva variedad no mejora el rendimiento\" $\\Rightarrow \\mu_0 = 37$\n",
    "* $H_a$ : \"La nueva variedad mejora el rendimiento\" $\\Rightarrow \\mu > \\mu_0$\n",
    "\n",
    "Y el pivote, dado que los datos son normales:\n",
    "\n",
    "$T = \\frac{\\overline{X_n} - \\mu_0}{\\sigma/\\sqrt{n}} \\sim N(0,1)$\n",
    "\n",
    "### Pregunta B\n",
    "\n",
    "El productor cultiva las 10 parcelas y obtiene los siguientes rendimientos:\n",
    "37 - 39.50 - 41.70 - 42 - 40 - 41.25 - 43 - 44.05 - 38 - 38.50\n",
    "Cuál es la conclusión del test en base a estos datos observados?"
   ]
  },
  {
   "cell_type": "code",
   "execution_count": 4,
   "id": "2c2f39f2",
   "metadata": {},
   "outputs": [],
   "source": [
    "datos = [37, 39.50, 41.70, 42, 40, 41.25, 43, 44.05, 38, 38.50]"
   ]
  },
  {
   "cell_type": "code",
   "execution_count": 28,
   "id": "31cb65b4",
   "metadata": {},
   "outputs": [],
   "source": [
    "def rechazarH0NormalesParaMuConVar(tipo, alfa, mediaMuestral, mu_0, sigma, n):\n",
    "    \"\"\"\n",
    "    Tipo 0: mu < mu_0\n",
    "    Tipo 1: mu > mu_0\n",
    "    Tipo 2: mu != mu_0\n",
    "    \"\"\"\n",
    "    va = scipy.stats.norm()\n",
    "    k = (mediaMuestral - mu_0)/(sigma/math.sqrt(n))\n",
    "    print(\"mu = {}\".format(k))\n",
    "    if tipo == 0:\n",
    "        z = -va.ppf(1-alfa)\n",
    "        print(\"z = {}\".format(z))\n",
    "        if k < z:\n",
    "            return True\n",
    "        else: return False\n",
    "    elif tipo == 1:\n",
    "        z = va.ppf(1-alfa)\n",
    "        print(\"z = {}\".format(z))\n",
    "        if k > z:\n",
    "            return True\n",
    "        else: return False\n",
    "    else:\n",
    "        z = va.ppf(1-alfa/2)\n",
    "        print(\"z = {}\".format(z))\n",
    "        if (k < -z) or (k > z):\n",
    "            return True\n",
    "        else: return False"
   ]
  },
  {
   "cell_type": "code",
   "execution_count": 29,
   "id": "96106d80",
   "metadata": {},
   "outputs": [
    {
     "name": "stdout",
     "output_type": "stream",
     "text": [
      "mu = 2.2135943621178655\n",
      "z = 1.6448536269514722\n"
     ]
    },
    {
     "data": {
      "text/plain": [
       "True"
      ]
     },
     "execution_count": 29,
     "metadata": {},
     "output_type": "execute_result"
    }
   ],
   "source": [
    "tipo = 1\n",
    "alfa = 0.05\n",
    "mediaMuestral = np.mean(datos)\n",
    "mu = 37\n",
    "sigma = math.sqrt(25)\n",
    "n = 10\n",
    "rechazarH0NormalesParaMuConVar(tipo, alfa, mediaMuestral, mu, sigma, n)"
   ]
  },
  {
   "cell_type": "markdown",
   "id": "7250452a",
   "metadata": {},
   "source": [
    "**Luego se decide rechazar la hipótesis nula con probabilidad de error de tipo I igual a 5%**\n",
    "\n",
    "Calcular la\n",
    "probabilidad del error de tipo II suponiendo que el verdadero rendimiento medio\n",
    "de la nueva variedad de soja es de 40 toneladas por ha.\n",
    "\n",
    "Dado que el verdadero $\\mu$ es distinto a $37$ como habíamos considerado con la hipótesis nula, debemos rearmar el pivote con $\\mu = 40$\n",
    "\n",
    "$\\beta(\\mu) = \\phi\\left(z_{1-\\alpha} + \\frac{\\mu_0 - \\mu}{\\sigma/\\sqrt{n}}\\right) = \\phi\\left(z_{1-0.05} + \\frac{37 - 40}{5/\\sqrt{10}}\\right) = \\phi\\left(z_{0.95} + \\frac{-3}{5/\\sqrt{10}}\\right)$"
   ]
  },
  {
   "cell_type": "code",
   "execution_count": 7,
   "id": "777105e6",
   "metadata": {},
   "outputs": [],
   "source": [
    "def probaErrorTipoII(tipo, alfa, mu_0, mu, sigma, n):\n",
    "    \"\"\"\n",
    "    Tipo 0: mu < mu_0\n",
    "    Tipo 1: mu > mu_0\n",
    "    Tipo 2: mu != mu_0\n",
    "    \"\"\"\n",
    "    va = scipy.stats.norm()\n",
    "    const = (mu_0 - mu)/(sigma/math.sqrt(n))\n",
    "    if tipo == 0:\n",
    "        z = -va.ppf(1-alfa)\n",
    "        return 1 - va.cdf(z+const)\n",
    "    elif tipo == 1:\n",
    "        z = va.ppf(1-alfa)\n",
    "        return va.cdf(z+const)\n",
    "    else:\n",
    "        z = va.ppf(1-alfa/2)\n",
    "        return va.cdf(z+const) - va.cdf(-z+const)"
   ]
  },
  {
   "cell_type": "code",
   "execution_count": 8,
   "id": "0e540d00",
   "metadata": {},
   "outputs": [
    {
     "data": {
      "text/plain": [
       "0.400322295453562"
      ]
     },
     "execution_count": 8,
     "metadata": {},
     "output_type": "execute_result"
    }
   ],
   "source": [
    "tipo = 1\n",
    "alfa = 0.05\n",
    "mu_0 = 37\n",
    "mu = 40\n",
    "sigma = 5\n",
    "n = 10\n",
    "probaErrorTipoII(tipo, alfa, mu_0, mu, sigma, n)"
   ]
  },
  {
   "cell_type": "markdown",
   "id": "89850ed1",
   "metadata": {},
   "source": [
    "**Luego la probabilidad de error de tipo II es del 40%**"
   ]
  },
  {
   "cell_type": "markdown",
   "id": "45988553",
   "metadata": {},
   "source": [
    "### Pregunta D\n",
    "\n",
    "Determinar el número n de parcelas a cultivar para que la probabilidad del error de tipo II sea menor o igual que 0.05 suponiendo que el verdadero rendimiento medio de la nueva variedad de soja es de 40 toneladas por ha.\n",
    "\n",
    "$\n",
    "\\begin{align*}\n",
    "\\beta(\\mu) < \\epsilon &\\iff \\phi\\left(z_{1-\\alpha} + \\frac{\\mu_0 - \\mu}{\\sigma}\\sqrt{n}\\right) < \\epsilon\\\\\n",
    "&\\iff z_{1-\\alpha} + \\frac{\\mu_0 - \\mu}{\\sigma}\\sqrt{n} < z_{\\epsilon}\\\\\n",
    "&\\iff n > \\left(\\frac{(z_{\\epsilon}-z_{1-\\alpha})\\sigma}{\\mu-\\mu_0}\\right)^2\\\\\n",
    "\\end{align*}$"
   ]
  },
  {
   "cell_type": "code",
   "execution_count": 11,
   "id": "380f211f",
   "metadata": {},
   "outputs": [],
   "source": [
    "def nParaErrotTipoIIMenorEpsilon(tipo, alfa, epsilon, sigma, mu_0, mu):\n",
    "    \"\"\"\n",
    "    Tipo 0: mu < mu_0\n",
    "    Tipo 1: mu > mu_0\n",
    "    Tipo 2: mu != mu_0\n",
    "    \"\"\"\n",
    "    va = scipy.stats.norm()\n",
    "    if tipo == 0:\n",
    "        z = -va.ppf(1-alfa)\n",
    "        e = va.ppf(1-epsilon)\n",
    "        return (((e+z)*sigma)/(mu_0-mu))**2\n",
    "    elif tipo == 1:\n",
    "        z = va.ppf(1-alfa)\n",
    "        e = va.ppf(epsilon)\n",
    "        return (((e-z)*sigma)/(mu-mu_0))**2\n",
    "    else:\n",
    "        return \"No hay n\""
   ]
  },
  {
   "cell_type": "code",
   "execution_count": 12,
   "id": "a3d3e215",
   "metadata": {},
   "outputs": [
    {
     "data": {
      "text/plain": [
       "30.06159393439349"
      ]
     },
     "execution_count": 12,
     "metadata": {},
     "output_type": "execute_result"
    }
   ],
   "source": [
    "tipo = 1\n",
    "alfa = 0.05\n",
    "epsilon = 0.05\n",
    "sigma = 5\n",
    "mu_0 = 37\n",
    "mu = 40\n",
    "nParaErrotTipoIIMenorEpsilon(tipo, alfa, epsilon, sigma, mu_0, mu)"
   ]
  },
  {
   "cell_type": "markdown",
   "id": "185ab91e",
   "metadata": {},
   "source": [
    "**Luego se deben cultivar 30 parcelas para que la probabilidad de error de tipo II sea menor o igual al 0.05**"
   ]
  },
  {
   "cell_type": "markdown",
   "id": "2aa5f52a",
   "metadata": {},
   "source": [
    "### Pregunta E\n",
    "\n",
    "Calcular la función de potencia $\\pi(\\mu)$ del test planteado en c), verificar que es\n",
    "creciente para $\\mu \\in R$ y deducir que este test sirve tambi en para testear\n",
    "\n",
    "$H_0 : \\mu \\leq 37\\\\$\n",
    "$H_1 : \\mu > 37$\n"
   ]
  },
  {
   "cell_type": "code",
   "execution_count": null,
   "id": "c1a51d89",
   "metadata": {},
   "outputs": [],
   "source": [
    "def funcionPotencia(mu, mu_0):\n",
    "    if mu == mu_0:\n",
    "        return pro"
   ]
  },
  {
   "cell_type": "markdown",
   "id": "b56e9c6c",
   "metadata": {},
   "source": [
    "## Ejercicio 2\n",
    "\n",
    "En la construcción de un edificio debe usarse un concreto que tenga una tensión media mayor a 300 psi. Para verificar si el concreto preparado a partir del cemento \"Loma Blanca\" cumple con este requerimiento, se realizan 15 mediciones en forma independiente de la tensión de este concreto. Se observa una media muestral de 304 psi y un desvío estándar muestral de 10 psi. El constructor est a dispuesto a correr un riesgo del 5% de comprar cemento \"Loma Blanca\" cuando este produce un concreto que no cumple con las especificaciones. Suponiendo que los datos están normalmente distribuidos:\n",
    "\n",
    "### Pregunta A\n",
    "\n",
    "Plantear el test correspondiente. ¿Qué decisión se toma?\n",
    "\n",
    "Datos\n",
    "* $\\mu = 300$\n",
    "* $n = 15$\n",
    "* $\\overline{X_n} = 304$\n",
    "* $sd = 10$\n",
    "* $\\alpha = 0.05$\n",
    "\n",
    "Test de hipótesis\n",
    "\n",
    "* $H_0 \\Rightarrow \\mu_0 = 300$\n",
    "* $H_a \\Rightarrow \\mu > \\mu_0$\n",
    "\n",
    "Dado que tenemos el desvío estándar muestral, hay que cambiar el pivote por la T de student."
   ]
  },
  {
   "cell_type": "code",
   "execution_count": 26,
   "id": "6b808291",
   "metadata": {},
   "outputs": [],
   "source": [
    "def rechazarH0NormalesParaMuSinVar(tipo, alfa, mediaMuestral, mu_0, desvioMuestral, n):\n",
    "    \"\"\"\n",
    "    Tipo 0: mu < mu_0\n",
    "    Tipo 1: mu > mu_0\n",
    "    Tipo 2: mu != mu_0\n",
    "    \"\"\"\n",
    "    va = scipy.stats.t(df=n-1)\n",
    "    k = (mediaMuestral - mu_0)/(desvioMuestral/math.sqrt(n))\n",
    "    print(\"mu = {}\".format(k))\n",
    "    if tipo == 0:\n",
    "        z = -va.ppf(1-alfa)\n",
    "        print(\"z = {}\".format(z))\n",
    "        if k < z:\n",
    "            return True\n",
    "        else: return False\n",
    "    elif tipo == 1:\n",
    "        z = va.ppf(1-alfa)\n",
    "        print(\"z = {}\".format(z))\n",
    "        if k > z:\n",
    "            return True\n",
    "        else: return False\n",
    "    else:\n",
    "        z = va.ppf(1-alfa/2)\n",
    "        print(\"z = {}\".format(z))\n",
    "        if (k < -z) or (k > z):\n",
    "            return True\n",
    "        else: return False"
   ]
  },
  {
   "cell_type": "code",
   "execution_count": 27,
   "id": "904fe1f4",
   "metadata": {},
   "outputs": [
    {
     "name": "stdout",
     "output_type": "stream",
     "text": [
      "mu = 1.2649110640673518\n",
      "z = 1.8331129326536335\n"
     ]
    },
    {
     "data": {
      "text/plain": [
       "False"
      ]
     },
     "execution_count": 27,
     "metadata": {},
     "output_type": "execute_result"
    }
   ],
   "source": [
    "tipo = 1\n",
    "alfa = 0.05\n",
    "mediaMuestral = 304\n",
    "mu = 300\n",
    "desvioMuestral = 10\n",
    "n = 10\n",
    "rechazarH0NormalesParaMuSinVar(tipo, alfa, mediaMuestral, mu, desvioMuestral, n)"
   ]
  },
  {
   "cell_type": "markdown",
   "id": "33e5f6b5",
   "metadata": {},
   "source": [
    "**Luego no se rechaza la hipótesis nula**\n",
    "\n",
    "### Pregunta B\n",
    "\n",
    "Acotar el $p$-valor.\n",
    "\n",
    "El p-valor es la probabilidad límite con la que se acepta la hipótesis nula."
   ]
  },
  {
   "cell_type": "code",
   "execution_count": 21,
   "id": "73941f9c",
   "metadata": {},
   "outputs": [
    {
     "data": {
      "text/plain": [
       "0.11883628158949289"
      ]
     },
     "execution_count": 21,
     "metadata": {},
     "output_type": "execute_result"
    }
   ],
   "source": [
    "va = scipy.stats.t(df=n-1)\n",
    "mu = 1.2649110640673518\n",
    "1-va.cdf(mu)"
   ]
  },
  {
   "cell_type": "markdown",
   "id": "b13c83d7",
   "metadata": {},
   "source": [
    "**Luego el p-value es 11.88%**"
   ]
  },
  {
   "cell_type": "code",
   "execution_count": 24,
   "id": "d1d8b17c",
   "metadata": {},
   "outputs": [
    {
     "name": "stdout",
     "output_type": "stream",
     "text": [
      "mu = 1.2649110640673518\n",
      "z = 1.2649110640672758\n"
     ]
    },
    {
     "data": {
      "text/plain": [
       "True"
      ]
     },
     "execution_count": 24,
     "metadata": {},
     "output_type": "execute_result"
    }
   ],
   "source": [
    "#Verifico que a partir de este valor se rechaza la H0\n",
    "tipo = 1\n",
    "alfa = 0.11883628158949289 # p-value\n",
    "mediaMuestral = 304\n",
    "mu = 300\n",
    "desvioMuestral = 10\n",
    "n = 10\n",
    "rechazarH0NormalesSinVar(tipo, alfa, mediaMuestral, mu, desvioMuestral, n)"
   ]
  },
  {
   "cell_type": "markdown",
   "id": "ebad8f2a",
   "metadata": {},
   "source": [
    "## Ejercicio 3\n",
    "\n",
    "Se diseñó un nuevo sistema de riego de manera tal que el desvío del tiempo de activación sea menor que 6 segundos. Se lo prueba 11 veces, obteniéndose los siguientes tiempos de activación:\n",
    "\n",
    "27 41 22 27 23 35 30 24 27 28 22\n",
    "\n",
    "Suponiendo que el tiempo de activación (en segundos) es una v.a. con distribución normal:\n",
    "\n",
    "### Pregunta A\n",
    "\n",
    "¿Usted decidiría, a nivel 0.05, que el sistema cumple la especificación?\n",
    "\n",
    "Test de hipótesis para la varianza de normales:\n",
    "\n",
    "$H_0 \\Rightarrow \\sigma_0^2 = 36\\\\$\n",
    "$H_a \\Rightarrow \\sigma^2 < \\sigma_0^2$\n",
    "\n",
    "Definición del pivote\n",
    "\n",
    "$T = \\frac{\\sum{\\left(xi-\\overline{X_n}\\right)^2}}{\\sigma_0^2} = \\frac{(n-1)s^2}{\\sigma_0^2} \\sim \\chi_{n-1}^2 $"
   ]
  },
  {
   "cell_type": "code",
   "execution_count": 44,
   "id": "c1350550",
   "metadata": {},
   "outputs": [],
   "source": [
    "def rechazarH0NormalesParaVarSinMu(tipo, alfa, sigma_0, desvioMuestral, n):\n",
    "    \"\"\"\n",
    "    Tipo 0: mu < mu_0\n",
    "    Tipo 1: mu > mu_0\n",
    "    Tipo 2: mu != mu_0\n",
    "    \"\"\"\n",
    "    va = scipy.stats.chi2(df=n-1)\n",
    "    k = ((n-1)*(desvioMuestral**2))/(sigma_0**2)\n",
    "    print(\"var = {}\".format(k))\n",
    "    if tipo == 0:\n",
    "        z = va.ppf(alfa)\n",
    "        print(\"z = {}\".format(z))\n",
    "        if k < z:\n",
    "            return True\n",
    "        else: return False\n",
    "    elif tipo == 1:\n",
    "        z = va.ppf(1-alfa)\n",
    "        print(\"z = {}\".format(z))\n",
    "        if k > z:\n",
    "            return True\n",
    "        else: return False\n",
    "    else:\n",
    "        z0 = va.ppf(alfa/2)\n",
    "        z1 = va.ppf(1-alfa/2)\n",
    "        print(\"z = {}\".format((z0,z1)))\n",
    "        if (k < z0) or (k > z1):\n",
    "            return True\n",
    "        else: return False"
   ]
  },
  {
   "cell_type": "code",
   "execution_count": 45,
   "id": "71d573ad",
   "metadata": {},
   "outputs": [],
   "source": [
    "datos = [27, 41, 22, 27, 23,35, 30, 24, 27, 28, 22]"
   ]
  },
  {
   "cell_type": "code",
   "execution_count": 46,
   "id": "8e2eb0a2",
   "metadata": {},
   "outputs": [
    {
     "name": "stdout",
     "output_type": "stream",
     "text": [
      "var = 9.378787878787879\n",
      "z = 3.9402991361190605\n"
     ]
    },
    {
     "data": {
      "text/plain": [
       "False"
      ]
     },
     "execution_count": 46,
     "metadata": {},
     "output_type": "execute_result"
    }
   ],
   "source": [
    "tipo = 0\n",
    "alfa = 0.05\n",
    "sigma_0 = 6\n",
    "desvioMuestral = np.std(datos,ddof=1)\n",
    "n = 11\n",
    "rechazarH0NormalesParaVarSinMu(tipo, alfa, sigma_0, desvioMuestral, n)"
   ]
  },
  {
   "cell_type": "markdown",
   "id": "245de672",
   "metadata": {},
   "source": [
    "**Luego no se rechaza la hipótesis nula**\n",
    "\n",
    "### Pregunta B\n",
    "Acotar el $p$-valor"
   ]
  },
  {
   "cell_type": "code",
   "execution_count": 51,
   "id": "9bbc3287",
   "metadata": {},
   "outputs": [
    {
     "data": {
      "text/plain": [
       "0.5034283426853524"
      ]
     },
     "execution_count": 51,
     "metadata": {},
     "output_type": "execute_result"
    }
   ],
   "source": [
    "va = scipy.stats.chi2(df=n-1)\n",
    "sigma = 9.378787878787879\n",
    "va.cdf(sigma)"
   ]
  },
  {
   "cell_type": "code",
   "execution_count": 53,
   "id": "3887ab35",
   "metadata": {},
   "outputs": [
    {
     "name": "stdout",
     "output_type": "stream",
     "text": [
      "var = 9.378787878787879\n",
      "z = 9.37878787878788\n"
     ]
    },
    {
     "data": {
      "text/plain": [
       "True"
      ]
     },
     "execution_count": 53,
     "metadata": {},
     "output_type": "execute_result"
    }
   ],
   "source": [
    "#Verifico que a partir de este valor se rechaza la H0\n",
    "tipo = 0\n",
    "alfa = 0.5034283426853525\n",
    "sigma_0 = 6\n",
    "desvioMuestral = np.std(datos,ddof=1)\n",
    "n = 11\n",
    "rechazarH0NormalesParaVarSinMu(tipo, alfa, sigma_0, desvioMuestral, n)"
   ]
  },
  {
   "cell_type": "markdown",
   "id": "3a4cb64c",
   "metadata": {},
   "source": [
    "**Luego el p-value es igual a 50.34%**"
   ]
  },
  {
   "cell_type": "markdown",
   "id": "9daf15aa",
   "metadata": {},
   "source": [
    "## Ejercicio 4\n",
    "\n",
    "Se supone que 1 de cada 10 fumadores prefiere la marca A. Después de una campaña publicitaria en cierta región de ventas, se entrevistó a 200 fumadores para determinar la efectividad de la campaña. El resultado de esta encuesta mostró que 26 personas preferían la marca A.\n",
    "\n",
    "### Pregunta A\n",
    "\n",
    "¿Indican estos datos, a nivel aproximado 0.05, un aumento en la preferencia por la marca A?\n",
    "\n",
    "Datos\n",
    "* $p = \\frac{1}{10}$\n",
    "* $n = 200$\n",
    "* $\\alpha = 0.05$\n",
    "* $\\overline{X_n} = \\frac{26}{200}$\n",
    "\n",
    "Es un experimento de varaibles Bernoulli\n",
    "\n",
    "Test de hipótesis\n",
    "\n",
    "$H_0 \\Rightarrow p_0 = 0.1\\\\$\n",
    "$H_a \\Rightarrow p > p_0$\n",
    "\n",
    "Luego defino el pivote como\n",
    "\n",
    "$T = \\frac{\\overline{X_n}-p_0}{\\sqrt{p_0\\cdot(1-p_0)}}\\sqrt{n} \\sim N(0,1)$"
   ]
  },
  {
   "cell_type": "code",
   "execution_count": 55,
   "id": "d656dd5a",
   "metadata": {},
   "outputs": [],
   "source": [
    "def rechazarH0Bernoulli(tipo, alfa, mediaMuestral, p_0, n):\n",
    "    \"\"\"\n",
    "    Tipo 0: p < p_0\n",
    "    Tipo 1: p > p_0\n",
    "    Tipo 2: p != p_0\n",
    "    \"\"\"\n",
    "    va = scipy.stats.norm()\n",
    "    k = (mediaMuestral - p_0)/(math.sqrt(p_0*(1-p_0))/math.sqrt(n))\n",
    "    print(\"p = {}\".format(k))\n",
    "    if tipo == 0:\n",
    "        z = -va.ppf(1-alfa)\n",
    "        print(\"z = {}\".format(z))\n",
    "        if k < z:\n",
    "            return True\n",
    "        else: return False\n",
    "    elif tipo == 1:\n",
    "        z = va.ppf(1-alfa)\n",
    "        print(\"z = {}\".format(z))\n",
    "        if k > z:\n",
    "            return True\n",
    "        else: return False\n",
    "    else:\n",
    "        z = va.ppf(1-alfa/2)\n",
    "        print(\"z = {}\".format(z))\n",
    "        if (k < -z) or (k > z):\n",
    "            return True\n",
    "        else: return False"
   ]
  },
  {
   "cell_type": "code",
   "execution_count": 56,
   "id": "2d75577c",
   "metadata": {},
   "outputs": [
    {
     "name": "stdout",
     "output_type": "stream",
     "text": [
      "p = 1.414213562373095\n",
      "z = 1.6448536269514722\n"
     ]
    },
    {
     "data": {
      "text/plain": [
       "False"
      ]
     },
     "execution_count": 56,
     "metadata": {},
     "output_type": "execute_result"
    }
   ],
   "source": [
    "tipo = 1\n",
    "alfa = 0.05\n",
    "mediaMuestral = 26/200\n",
    "p_0 = 0.1\n",
    "n = 200\n",
    "rechazarH0Bernoulli(tipo, alfa, mediaMuestral, p_0, n)"
   ]
  },
  {
   "cell_type": "markdown",
   "id": "06caaf64",
   "metadata": {},
   "source": [
    "**Luego no rechazo la hipótesis nula y por lo tanto no hay un aumento en la preferencia de A**"
   ]
  },
  {
   "cell_type": "markdown",
   "id": "d1f4b79b",
   "metadata": {},
   "source": [
    "### Pregunta B\n",
    "\n",
    "Calcular el $p$-valor aproximado."
   ]
  },
  {
   "cell_type": "code",
   "execution_count": 58,
   "id": "2d5a566c",
   "metadata": {},
   "outputs": [
    {
     "data": {
      "text/plain": [
       "0.07864960352514261"
      ]
     },
     "execution_count": 58,
     "metadata": {},
     "output_type": "execute_result"
    }
   ],
   "source": [
    "va = scipy.stats.norm()\n",
    "p = 1.414213562373095\n",
    "1-va.cdf(p)"
   ]
  },
  {
   "cell_type": "code",
   "execution_count": 59,
   "id": "586b5312",
   "metadata": {},
   "outputs": [
    {
     "name": "stdout",
     "output_type": "stream",
     "text": [
      "p = 1.414213562373095\n",
      "z = 1.4142135623730945\n"
     ]
    },
    {
     "data": {
      "text/plain": [
       "True"
      ]
     },
     "execution_count": 59,
     "metadata": {},
     "output_type": "execute_result"
    }
   ],
   "source": [
    "# Verifico que se rechaza la H0 para ese valor de alfa\n",
    "tipo = 1\n",
    "alfa = 0.07864960352514261\n",
    "mediaMuestral = 26/200\n",
    "p_0 = 0.1\n",
    "n = 200\n",
    "rechazarH0Bernoulli(tipo, alfa, mediaMuestral, p_0, n)"
   ]
  },
  {
   "cell_type": "markdown",
   "id": "69d2daa6",
   "metadata": {},
   "source": [
    "### Pregunta C\n",
    "\n",
    "¿Cuál es la probabilidad aproximada de decidir que la campaña publicitaria no fue efectiva, cuando en realidad la proporción de preferencia por la marca A después de la campaña es 0.15?\n",
    "\n",
    "Pide calcular la probabilidad de cometer error del tipo II"
   ]
  },
  {
   "cell_type": "code",
   "execution_count": 61,
   "id": "59762791",
   "metadata": {},
   "outputs": [
    {
     "data": {
      "text/plain": [
       "0.36864604896345954"
      ]
     },
     "execution_count": 61,
     "metadata": {},
     "output_type": "execute_result"
    }
   ],
   "source": [
    "tipo = 1\n",
    "alfa = 0.05\n",
    "p_0 = 0.1\n",
    "p = 0.15\n",
    "sigma = math.sqrt(p*(1-p))\n",
    "n = 200\n",
    "probaErrorTipoII(tipo, alfa, p_0, p, sigma, n)"
   ]
  },
  {
   "cell_type": "markdown",
   "id": "7e9cc1b6",
   "metadata": {},
   "source": [
    "**Luego hay una proba de 36,86% de no rechazar la $H_0$ cuando esta es falsa**"
   ]
  },
  {
   "cell_type": "markdown",
   "id": "08a7d9ea",
   "metadata": {},
   "source": [
    "### Pregunta E\n",
    "\n",
    "¿Qué tamaño de muestra debería tomarse para que la probabilidad de c) fuese a lo sumo 0.05?"
   ]
  },
  {
   "cell_type": "code",
   "execution_count": 62,
   "id": "afcda7fe",
   "metadata": {},
   "outputs": [
    {
     "data": {
      "text/plain": [
       "551.9308646354644"
      ]
     },
     "execution_count": 62,
     "metadata": {},
     "output_type": "execute_result"
    }
   ],
   "source": [
    "tipo = 1\n",
    "alfa = 0.05\n",
    "epsilon = 0.05\n",
    "sigma = math.sqrt(p*(1-p))\n",
    "p_0 = 0.1\n",
    "p = 0.15\n",
    "nParaErrotTipoIIMenorEpsilon(tipo, alfa, epsilon, sigma, p_0, p)"
   ]
  },
  {
   "cell_type": "code",
   "execution_count": 65,
   "id": "5f152c1e",
   "metadata": {},
   "outputs": [
    {
     "data": {
      "text/plain": [
       "0.050000000000000044"
      ]
     },
     "execution_count": 65,
     "metadata": {},
     "output_type": "execute_result"
    }
   ],
   "source": [
    "# Verifico la proba de error de tipo II con lo obtenido antes\n",
    "tipo = 1\n",
    "alfa = 0.05\n",
    "p_0 = 0.1\n",
    "p = 0.15\n",
    "sigma = math.sqrt(p*(1-p))\n",
    "n = 551.9308646354644\n",
    "probaErrorTipoII(tipo, alfa, p_0, p, sigma, n)"
   ]
  },
  {
   "cell_type": "markdown",
   "id": "cdd27fd7",
   "metadata": {},
   "source": [
    "**Luego debería tomarse una muestra de por lo menos 552 personas**"
   ]
  },
  {
   "cell_type": "markdown",
   "id": "014f7638",
   "metadata": {},
   "source": [
    "## Ejercicio 5\n",
    "\n",
    "*****REVISAR*****\n",
    "\n",
    "Se supone que el tiempo de duración de cierto tipo de lamparitas tiene distribución exponencial. Una fábrica garantiza que el tiempo medio de vida de las lamparitas que produce es mayor que 50 días, y la empresa vendedora quiere asegurarse que la producción satisface las especificaciones antes de sacarla a la venta. Para ello toma al azar una muestra de 40 lamparitas y observa el tiempo de duración de las mismas, obteniendo un promedio de 53 días.\n",
    "\n",
    "### Pregunta A\n",
    "\n",
    "Proponer un test de nivel exacto con hipótesis nula simple para este problema de manera tal que la probabilidad de que la empresa decida no vender si no se satisfacen los requerimientos sea del 0.95.\n",
    "\n",
    "Datos\n",
    "* $E(x_i) = \\frac{1}{\\lambda} = 50 \\Rightarrow \\lambda = \\frac{1}{50}$\n",
    "* $X_i \\sim Exp(\\frac{1}{50})$\n",
    "* $n = 40$\n",
    "* $\\overline{X_n} = 53$\n",
    "\n",
    "Test de hipótesis\n",
    "\n",
    "$H_0 \\Rightarrow \\mu_0 = 50\\\\$\n",
    "$H_a \\Rightarrow \\mu > \\mu_0$\n",
    "\n",
    "Usando lo visto en intervalos de confianza para exponencial <a href=\"https://campus.exactas.uba.ar/pluginfile.php/304400/course/section/38573/PyECcompleta.pdf#page=208\">Apunte Bianco</a>\n",
    "\n",
    "El intervalo de confianza del parámetro $\\lambda$ queda definido como:\n",
    "\n",
    "$ IC = \\left[\\frac{\\chi_{2n, 1-\\alpha/2}^2}{2\\sum{X_i}}, \\frac{\\chi_{2n, \\alpha/2}^2}{2\\sum{X_i}}\\right]$"
   ]
  },
  {
   "cell_type": "code",
   "execution_count": 76,
   "id": "15ec8c41",
   "metadata": {},
   "outputs": [],
   "source": [
    "# Revisar\n",
    "def rechazarH0ExponExacto(tipo, alfa, mediaMuestral, mu_0, desvioMuestral, n):\n",
    "    \"\"\"\n",
    "    Tipo 0: mu < mu_0\n",
    "    Tipo 1: mu > mu_0\n",
    "    Tipo 2: mu != mu_0\n",
    "    \"\"\"\n",
    "    va = scipy.stats.chi2(df=2*n)\n",
    "    k = 1/mu_0\n",
    "    print(\"var = {}\".format(k))\n",
    "    if tipo == 0:\n",
    "        z = va.ppf(1-alfa/2)\n",
    "        print(\"z = {}\".format(z))\n",
    "        if k < z:\n",
    "            return True\n",
    "        else: return False\n",
    "    elif tipo == 1:\n",
    "        z = va.ppf(alfa/2)\n",
    "        print(\"z = {}\".format(z))\n",
    "        if k > z:\n",
    "            return True\n",
    "        else: return False\n",
    "    else:\n",
    "        z0 = va.ppf(1-alfa/2)\n",
    "        z1 = va.ppf(alfa/2)\n",
    "        print(\"z = {}\".format((z0,z1)))\n",
    "        if (k < z0) or (k > z1):\n",
    "            return True\n",
    "        else: return False"
   ]
  },
  {
   "cell_type": "code",
   "execution_count": 77,
   "id": "ae2675ef",
   "metadata": {},
   "outputs": [
    {
     "name": "stdout",
     "output_type": "stream",
     "text": [
      "var = 1005.6042959335448\n",
      "z = 101.87947396543588\n"
     ]
    },
    {
     "data": {
      "text/plain": [
       "True"
      ]
     },
     "execution_count": 77,
     "metadata": {},
     "output_type": "execute_result"
    }
   ],
   "source": [
    "tipo = 1\n",
    "alfa = 0.05\n",
    "mediaMuestral = 53\n",
    "mu_0 = 50\n",
    "desvioMuestral = 1/53\n",
    "n = 40\n",
    "rechazarH0ExponExacto(tipo, alfa, mediaMuestral, mu_0, desvioMuestral, n)"
   ]
  },
  {
   "cell_type": "markdown",
   "id": "806c70e6",
   "metadata": {},
   "source": [
    "### Pregunta C\n",
    "\n",
    "Repetir a) usando un nivel aproximado.\n",
    "\n",
    "Plantear el pivote usando el TCL:\n",
    "\n",
    "$T = \\frac{\\overline{X_n} - \\mu_0}{\\sigma/\\sqrt{n}} \\sim N(0,1)$"
   ]
  },
  {
   "cell_type": "code",
   "execution_count": 81,
   "id": "e3ccc724",
   "metadata": {},
   "outputs": [],
   "source": [
    "def rechazarH0ExponAprox(tipo, alfa, mediaMuestral, mu_0, sigma, n):\n",
    "    \"\"\"\n",
    "    Tipo 0: mu < mu_0\n",
    "    Tipo 1: mu > mu_0\n",
    "    Tipo 2: mu != mu_0\n",
    "    \"\"\"\n",
    "    va = scipy.stats.norm()\n",
    "    k = (mediaMuestral - mu_0)/(sigma/math.sqrt(n))\n",
    "    print(\"mu = {}\".format(k))\n",
    "    if tipo == 0:\n",
    "        z = -va.ppf(1-alfa)\n",
    "        print(\"z = {}\".format(z))\n",
    "        if k < z:\n",
    "            return True\n",
    "        else: return False\n",
    "    elif tipo == 1:\n",
    "        z = va.ppf(1-alfa)\n",
    "        print(\"z = {}\".format(z))\n",
    "        if k > z:\n",
    "            return True\n",
    "        else: return False\n",
    "    else:\n",
    "        z = va.ppf(1-alfa/2)\n",
    "        print(\"z = {}\".format(z))\n",
    "        if (k < -z) or (k > z):\n",
    "            return True\n",
    "        else: return False"
   ]
  },
  {
   "cell_type": "code",
   "execution_count": 83,
   "id": "a1035fad",
   "metadata": {},
   "outputs": [
    {
     "name": "stdout",
     "output_type": "stream",
     "text": [
      "mu = 0.37947331922020555\n",
      "z = 1.6448536269514722\n"
     ]
    },
    {
     "data": {
      "text/plain": [
       "False"
      ]
     },
     "execution_count": 83,
     "metadata": {},
     "output_type": "execute_result"
    }
   ],
   "source": [
    "tipo = 1\n",
    "alfa = 0.05\n",
    "mediaMuestral = 53\n",
    "mu = 50\n",
    "sigma = 50\n",
    "n = 40\n",
    "rechazarH0ExponAprox(tipo, alfa, mediaMuestral, mu, sigma, n)"
   ]
  },
  {
   "cell_type": "markdown",
   "id": "021d07fe",
   "metadata": {},
   "source": [
    "**Luego no rechazo la hipótesis nula**\n",
    "\n",
    "### Pregunta E\n",
    "\n",
    "Utilizando el test aproximado, ¿qué probabilidad tiene la empresa de no sacar la producción a la venta, si el promedio de vida verdadero es 52 días?\n",
    "\n",
    "Pide la probabilidad de cometer error de tipo II"
   ]
  },
  {
   "cell_type": "code",
   "execution_count": 84,
   "id": "bf2339bf",
   "metadata": {},
   "outputs": [
    {
     "data": {
      "text/plain": [
       "0.9180193302239402"
      ]
     },
     "execution_count": 84,
     "metadata": {},
     "output_type": "execute_result"
    }
   ],
   "source": [
    "tipo = 1\n",
    "alfa = 0.05\n",
    "mu_0 = 50\n",
    "mu = 52\n",
    "sigma = 50\n",
    "n = 40\n",
    "probaErrorTipoII(tipo, alfa, mu_0, mu, sigma, n)"
   ]
  },
  {
   "cell_type": "markdown",
   "id": "47253c9b",
   "metadata": {},
   "source": [
    "**Luego hay un 91,80% de probabilidad de no sacar a producción si el promedio de vida es de 52 días**\n",
    "\n",
    "### Pregunta F\n",
    "\n",
    "¿Cuál debería ser el tamaño de la muestra para que la probabilidad de d) fuese 0.1?"
   ]
  },
  {
   "cell_type": "code",
   "execution_count": 85,
   "id": "ba2da943",
   "metadata": {},
   "outputs": [
    {
     "data": {
      "text/plain": [
       "8563847.350667976"
      ]
     },
     "execution_count": 85,
     "metadata": {},
     "output_type": "execute_result"
    }
   ],
   "source": [
    "tipo = 1\n",
    "alfa = 0.05\n",
    "epsilon = 0.1\n",
    "sigma = 50\n",
    "mu_0 = 50\n",
    "mu = 52\n",
    "nParaErrotTipoIIMenorEpsilon(tipo, alfa, epsilon, sigma, p_0, p)"
   ]
  }
 ],
 "metadata": {
  "kernelspec": {
   "display_name": "Python 3 (ipykernel)",
   "language": "python",
   "name": "python3"
  },
  "language_info": {
   "codemirror_mode": {
    "name": "ipython",
    "version": 3
   },
   "file_extension": ".py",
   "mimetype": "text/x-python",
   "name": "python",
   "nbconvert_exporter": "python",
   "pygments_lexer": "ipython3",
   "version": "3.9.6"
  }
 },
 "nbformat": 4,
 "nbformat_minor": 5
}
