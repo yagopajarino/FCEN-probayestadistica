{
 "cells": [
  {
   "cell_type": "markdown",
   "id": "b3bd7a9a",
   "metadata": {},
   "source": [
    "# Práctica 8"
   ]
  },
  {
   "cell_type": "code",
   "execution_count": 1,
   "id": "14e5a667",
   "metadata": {},
   "outputs": [],
   "source": [
    "import numpy as np\n",
    "import scipy.stats\n",
    "import pandas as pd\n",
    "import math\n",
    "import matplotlib.pyplot as plt\n",
    "from statsmodels.graphics.gofplots import qqplot"
   ]
  },
  {
   "cell_type": "markdown",
   "id": "5ca0557f",
   "metadata": {},
   "source": [
    "## Ejercicio 1"
   ]
  },
  {
   "cell_type": "markdown",
   "id": "898e4b3f",
   "metadata": {},
   "source": [
    "### Pregunta B"
   ]
  },
  {
   "cell_type": "code",
   "execution_count": 2,
   "id": "1945ae5f",
   "metadata": {},
   "outputs": [
    {
     "data": {
      "text/plain": [
       "(24.74704323782703, 25.272956762172974)"
      ]
     },
     "execution_count": 2,
     "metadata": {},
     "output_type": "execute_result"
    }
   ],
   "source": [
    "a = 0.05\n",
    "va = scipy.stats.norm(0,1)\n",
    "z = va.ppf(1-(a/2))\n",
    "xRaya = 25.01\n",
    "var = 0.36\n",
    "sd = math.sqrt(var)\n",
    "n = 20\n",
    "\n",
    "intervalo = (xRaya - (z*sd/math.sqrt(n)),(xRaya + (z*sd/math.sqrt(n))))\n",
    "intervalo"
   ]
  },
  {
   "cell_type": "code",
   "execution_count": 3,
   "id": "1b6e74ef",
   "metadata": {},
   "outputs": [],
   "source": [
    "def getIntervaloParaMuConVar(alfa, var, mediaMuestral, n):\n",
    "    va = scipy.stats.norm(0,1)\n",
    "    z = va.ppf(1-(alfa/2))\n",
    "    sd = math.sqrt(var)\n",
    "    return (mediaMuestral - (z*sd/math.sqrt(n)),(mediaMuestral + (z*sd/math.sqrt(n))))"
   ]
  },
  {
   "cell_type": "code",
   "execution_count": 4,
   "id": "6f54300a",
   "metadata": {},
   "outputs": [
    {
     "data": {
      "text/plain": [
       "(24.74704323782703, 25.272956762172974)"
      ]
     },
     "execution_count": 4,
     "metadata": {},
     "output_type": "execute_result"
    }
   ],
   "source": [
    "getIntervaloParaMuConVar(a,var,xRaya,20)"
   ]
  },
  {
   "cell_type": "code",
   "execution_count": 5,
   "id": "d04217eb",
   "metadata": {},
   "outputs": [
    {
     "data": {
      "text/plain": [
       "2212.680280719816"
      ]
     },
     "execution_count": 5,
     "metadata": {},
     "output_type": "execute_result"
    }
   ],
   "source": [
    "nDeseado = 0.05\n",
    "(2*z*sd/0.05)**2"
   ]
  },
  {
   "cell_type": "code",
   "execution_count": 6,
   "id": "3a566d58",
   "metadata": {},
   "outputs": [
    {
     "data": {
      "text/plain": [
       "0.049996388038536566"
      ]
     },
     "execution_count": 6,
     "metadata": {},
     "output_type": "execute_result"
    }
   ],
   "source": [
    "# Prueba inciso ii\n",
    "i = getIntervaloParaMuConVar(a,var,xRaya,2213)\n",
    "i[1]-i[0]"
   ]
  },
  {
   "cell_type": "code",
   "execution_count": 7,
   "id": "7f78c5fe",
   "metadata": {},
   "outputs": [],
   "source": [
    "def nParaLograrLongitudMuConVar(alfa, var, l):\n",
    "    va = scipy.stats.norm(0,1)\n",
    "    z = va.ppf(1-(alfa/2))\n",
    "    sd = math.sqrt(var)\n",
    "    return (2*z*sd/l)**2"
   ]
  },
  {
   "cell_type": "code",
   "execution_count": 8,
   "id": "1b8de488",
   "metadata": {},
   "outputs": [
    {
     "data": {
      "text/plain": [
       "3687.8004678663597"
      ]
     },
     "execution_count": 8,
     "metadata": {},
     "output_type": "execute_result"
    }
   ],
   "source": [
    "# Inciso iii\n",
    "nParaLograrLongitudMuConVar(0.05,0.6,0.05)"
   ]
  },
  {
   "cell_type": "code",
   "execution_count": 9,
   "id": "cee4746c",
   "metadata": {},
   "outputs": [
    {
     "data": {
      "text/plain": [
       "0.049998647404876806"
      ]
     },
     "execution_count": 9,
     "metadata": {},
     "output_type": "execute_result"
    }
   ],
   "source": [
    "# Prueba\n",
    "i = getIntervaloParaMuConVar(a,0.6,xRaya,3688)\n",
    "i[1]-i[0]"
   ]
  },
  {
   "cell_type": "markdown",
   "id": "8ace0024",
   "metadata": {},
   "source": [
    "## Ejercicio 2"
   ]
  },
  {
   "cell_type": "code",
   "execution_count": 10,
   "id": "3658f2b0",
   "metadata": {},
   "outputs": [],
   "source": [
    "va = scipy.stats.norm(1,4)\n",
    "res = va.rvs(2)"
   ]
  },
  {
   "cell_type": "code",
   "execution_count": 11,
   "id": "894e5502",
   "metadata": {},
   "outputs": [],
   "source": [
    "nReps = 1000\n",
    "nSample = 500\n",
    "tObs = []\n",
    "for x in range(nReps):\n",
    "    sample = va.rvs(nSample)\n",
    "    tObs.append(np.mean(sample))"
   ]
  },
  {
   "cell_type": "code",
   "execution_count": 12,
   "id": "a8df90e0",
   "metadata": {},
   "outputs": [
    {
     "data": {
      "image/png": "[encoded data removed]",
      "text/plain": [
       "<Figure size 432x288 with 1 Axes>"
      ]
     },
     "metadata": {
      "needs_background": "light"
     },
     "output_type": "display_data"
    }
   ],
   "source": [
    "# QQPlot - Muy cercano a la normal\n",
    "qqplot(np.array(tObs),line=\"s\")\n",
    "plt.show()"
   ]
  },
  {
   "cell_type": "code",
   "execution_count": 13,
   "id": "9f0b5f78",
   "metadata": {},
   "outputs": [
    {
     "data": {
      "image/png": "[encoded data removed]",
      "text/plain": [
       "<Figure size 432x288 with 1 Axes>"
      ]
     },
     "metadata": {
      "needs_background": "light"
     },
     "output_type": "display_data"
    }
   ],
   "source": [
    "# BoxPlot tambien muy parecido a la normal\n",
    "plt.boxplot(tObs)\n",
    "plt.show()"
   ]
  },
  {
   "cell_type": "code",
   "execution_count": 14,
   "id": "37f61281",
   "metadata": {},
   "outputs": [
    {
     "data": {
      "image/png": "[encoded data removed]",
      "text/plain": [
       "<Figure size 432x288 with 1 Axes>"
      ]
     },
     "metadata": {
      "needs_background": "light"
     },
     "output_type": "display_data"
    }
   ],
   "source": [
    "plt.hist(tObs)\n",
    "plt.show()"
   ]
  },
  {
   "cell_type": "markdown",
   "id": "de5eb0c9",
   "metadata": {},
   "source": [
    "## Ejercicio 3"
   ]
  },
  {
   "cell_type": "markdown",
   "id": "346bfdb4",
   "metadata": {},
   "source": [
    "### Pregunta B"
   ]
  },
  {
   "cell_type": "code",
   "execution_count": 15,
   "id": "c13e3206",
   "metadata": {},
   "outputs": [],
   "source": [
    "# Esta es para calcular el desvio muestra\n",
    "datos = [0,0,0]\n",
    "sdMuestral = np.std(datos,ddof=1)\n",
    "def getIntervaloParaMuSinVar(alfa, sdMuestral, mediaMuestral, n):\n",
    "    va = scipy.stats.t(df=n-1)\n",
    "    z = va.ppf(1-(alfa/2))\n",
    "    sd = sdMuestral\n",
    "    return (mediaMuestral - (z*sd/math.sqrt(n)),(mediaMuestral + (z*sd/math.sqrt(n))))"
   ]
  },
  {
   "cell_type": "code",
   "execution_count": 16,
   "id": "7285a3af",
   "metadata": {},
   "outputs": [
    {
     "data": {
      "text/plain": [
       "(24.65430905112087, 25.365690948879134)"
      ]
     },
     "execution_count": 16,
     "metadata": {},
     "output_type": "execute_result"
    }
   ],
   "source": [
    "intervalo = getIntervaloParaMuSinVar(0.05,0.76,25.01,20)\n",
    "intervalo"
   ]
  },
  {
   "cell_type": "code",
   "execution_count": 17,
   "id": "2808a750",
   "metadata": {},
   "outputs": [
    {
     "data": {
      "text/plain": [
       "0.951"
      ]
     },
     "execution_count": 17,
     "metadata": {},
     "output_type": "execute_result"
    }
   ],
   "source": [
    "# Simulación para ver si el mu verdadero cae en el intervalo\n",
    "reps = 10000\n",
    "n = 50\n",
    "muReal = 0\n",
    "alfa = 0.05\n",
    "t = scipy.stats.t(df=n-1)\n",
    "va = scipy.stats.norm(loc=muReal, scale=1)\n",
    "z = t.ppf(1-(alfa/2))\n",
    "positivos = 0\n",
    "for x in range(reps):\n",
    "    datos = va.rvs(size=n)\n",
    "    sd = np.std(datos)\n",
    "    xRaya = np.mean(datos)\n",
    "    intervalo = (xRaya - z*sd/math.sqrt(n),xRaya + z*sd/math.sqrt(n))\n",
    "    if (muReal > intervalo[0]) & (muReal < intervalo[1]):\n",
    "        positivos += 1\n",
    "positivos/reps"
   ]
  },
  {
   "cell_type": "markdown",
   "id": "7618bd0b",
   "metadata": {},
   "source": [
    "## Ejercicio 4"
   ]
  },
  {
   "cell_type": "code",
   "execution_count": 19,
   "id": "009cd28a",
   "metadata": {},
   "outputs": [
    {
     "data": {
      "text/plain": [
       "(523.8204192017064, 526.1795807982936)"
      ]
     },
     "execution_count": 19,
     "metadata": {},
     "output_type": "execute_result"
    }
   ],
   "source": [
    "n = 5\n",
    "mediaMuestral = 525\n",
    "desvioMuestral = 0.95\n",
    "alfa = 1-0.95\n",
    "intervalo = getIntervaloParaMuSinVar(alfa, desvioMuestral, mediaMuestral, n)\n",
    "intervalo"
   ]
  },
  {
   "cell_type": "markdown",
   "id": "231a673f",
   "metadata": {},
   "source": [
    "## Ejercicio 5"
   ]
  },
  {
   "cell_type": "code",
   "execution_count": 35,
   "id": "4004d3ec",
   "metadata": {},
   "outputs": [],
   "source": [
    "def getIntervaloParaVarConMu(alfa,muestra,mu,n):\n",
    "    va = scipy.stats.chi2(df=n)\n",
    "    xMin = va.ppf(1-a/2)\n",
    "    xMax = va.ppf(a/2)\n",
    "    sumatoria = sum([(m-mu)**2 for m in muestra])\n",
    "    return (sumatoria/xMin, sumatoria/xMax)"
   ]
  },
  {
   "cell_type": "code",
   "execution_count": 47,
   "id": "a5e888ac",
   "metadata": {},
   "outputs": [
    {
     "data": {
      "text/plain": [
       "(49.97784457803154, 128.78909728827088)"
      ]
     },
     "execution_count": 47,
     "metadata": {},
     "output_type": "execute_result"
    }
   ],
   "source": [
    "alfa = 1-0.9\n",
    "mu = 185\n",
    "muestra = [176.50, 191.50, 186.90, 181.10, 195.70, \\\n",
    "           188.10, 187.40, 185.10, 176.90, 191.20, \\\n",
    "           193.80, 187.00, 179.00, 173.00, 184.40, \\\n",
    "           199.60, 190.40, 206.80, 193.00, 177.10, \\\n",
    "           201.00, 192.50, 176.60, 180.10, 186.40]\n",
    "getIntervaloParaVarConMu(alfa,muestra,mu,len(muestra))"
   ]
  },
  {
   "cell_type": "code",
   "execution_count": 44,
   "id": "f787d27c",
   "metadata": {},
   "outputs": [
    {
     "data": {
      "text/plain": [
       "(37.65248413348277, 14.61140763948331)"
      ]
     },
     "execution_count": 44,
     "metadata": {},
     "output_type": "execute_result"
    }
   ],
   "source": [
    "n = len(muestra)\n",
    "a = 0.1\n",
    "va = scipy.stats.chi2(df=n)\n",
    "xMin = va.ppf(1-a/2)\n",
    "xMax = va.ppf(a/2)\n",
    "xMin, xMax"
   ]
  },
  {
   "cell_type": "markdown",
   "id": "c0d3e4f3",
   "metadata": {},
   "source": [
    "## Ejercicio 6"
   ]
  },
  {
   "cell_type": "code",
   "execution_count": 28,
   "id": "716e9e8d",
   "metadata": {},
   "outputs": [],
   "source": [
    "def getIntervaloParaVarSinMu(alfa, desvioMuestral, n):\n",
    "    va = scipy.stats.chi2(df=n-1)\n",
    "    xMin = va.ppf(1-a/2)\n",
    "    xMax = va.ppf(a/2)\n",
    "    ter = (n-1)*(desvioMuestral**2)\n",
    "    return (ter/xMin, ter/xMax)"
   ]
  },
  {
   "cell_type": "code",
   "execution_count": 48,
   "id": "a51c94cd",
   "metadata": {},
   "outputs": [
    {
     "data": {
      "text/plain": [
       "(48.21914666118835, 126.79431751661077)"
      ]
     },
     "execution_count": 48,
     "metadata": {},
     "output_type": "execute_result"
    }
   ],
   "source": [
    "alfa = 1-.9\n",
    "muestra = [176.50, 191.50, 186.90, 181.10, 195.70, \\\n",
    "           188.10, 187.40, 185.10, 176.90, 191.20, \\\n",
    "           193.80, 187.00, 179.00, 173.00, 184.40, \\\n",
    "           199.60, 190.40, 206.80, 193.00, 177.10, \\\n",
    "           201.00, 192.50, 176.60, 180.10, 186.40]\n",
    "s = np.std(ddof=1,a=muestra)\n",
    "getIntervaloParaVarSinMu(alfa,s,len(muestra))"
   ]
  },
  {
   "cell_type": "code",
   "execution_count": null,
   "id": "e79627b0",
   "metadata": {},
   "outputs": [],
   "source": []
  },
  {
   "cell_type": "markdown",
   "id": "df58aab6",
   "metadata": {},
   "source": [
    "## Ejercicio 7"
   ]
  },
  {
   "cell_type": "markdown",
   "id": "a918ef2a",
   "metadata": {},
   "source": [
    "### Pregunta B"
   ]
  },
  {
   "cell_type": "code",
   "execution_count": 73,
   "id": "a5d68154",
   "metadata": {},
   "outputs": [
    {
     "data": {
      "text/plain": [
       "0.958"
      ]
     },
     "execution_count": 73,
     "metadata": {},
     "output_type": "execute_result"
    }
   ],
   "source": [
    "mu = 10\n",
    "sigma = 4\n",
    "reps = 1000\n",
    "nSample = 1000\n",
    "alfa = 0.05\n",
    "va = scipy.stats.norm(loc = mu, scale=sigma)\n",
    "res = 0\n",
    "for x in range(reps):\n",
    "    muestra = va.rvs(size=nSample)\n",
    "    mediaMuestral = np.mean(muestra)\n",
    "    intervalo = getIntervaloParaMuConVar(alfa,sigma**2,mediaMuestral, nSample)\n",
    "    res += int((mu > intervalo[0]) & (mu < intervalo[1]))\n",
    "res/reps"
   ]
  },
  {
   "cell_type": "code",
   "execution_count": 49,
   "id": "9b0147b6",
   "metadata": {},
   "outputs": [
    {
     "data": {
      "text/plain": [
       "1"
      ]
     },
     "execution_count": 49,
     "metadata": {},
     "output_type": "execute_result"
    }
   ],
   "source": [
    "int(True)"
   ]
  },
  {
   "cell_type": "markdown",
   "id": "2079c992",
   "metadata": {},
   "source": [
    "## Ejercicio 8"
   ]
  },
  {
   "cell_type": "markdown",
   "id": "50ee37af",
   "metadata": {},
   "source": [
    "### Pregunta B"
   ]
  },
  {
   "cell_type": "code",
   "execution_count": 132,
   "id": "0dd87cb3",
   "metadata": {},
   "outputs": [],
   "source": [
    "def getIntervaloParaExponencial(muestra, alfa, n):\n",
    "    va = scipy.stats.chi2(df=2*n)\n",
    "    xMin = va.ppf(a/2)\n",
    "    xMax = va.ppf(1-(a/2))\n",
    "    sumatoria = sum(muestra)\n",
    "    return (xMin/(2*sumatoria),xMax/(2*sumatoria))"
   ]
  },
  {
   "cell_type": "markdown",
   "id": "43783a84",
   "metadata": {},
   "source": [
    "### Pregunta D"
   ]
  },
  {
   "cell_type": "code",
   "execution_count": 133,
   "id": "6ff48059",
   "metadata": {},
   "outputs": [],
   "source": [
    "datos = np.array([39.08,45.27,26.27,14.77,65.84,49.64,0.8,66.58,69.60,32.42,\\\n",
    "                  228.36,64.79,9.38,3.86,37.18,104.75,3.64,104.19,8.17,8.36])"
   ]
  },
  {
   "cell_type": "code",
   "execution_count": 134,
   "id": "92145167",
   "metadata": {},
   "outputs": [
    {
     "data": {
      "text/plain": [
       "(0.01242842421832641, 0.03018551663012929)"
      ]
     },
     "execution_count": 134,
     "metadata": {},
     "output_type": "execute_result"
    }
   ],
   "source": [
    "alfa = 0.05\n",
    "n = len(datos)\n",
    "getIntervaloParaExponencial(datos,alfa,n)"
   ]
  },
  {
   "cell_type": "markdown",
   "id": "3fdba9d4",
   "metadata": {},
   "source": [
    "### Pregunta E"
   ]
  },
  {
   "cell_type": "code",
   "execution_count": 135,
   "id": "39f9ac08",
   "metadata": {},
   "outputs": [],
   "source": [
    "def getIntervaloExpoenencialAsintotico(alfa, sd, xRaya, n):\n",
    "    va = scipy.stats.norm(0,1)\n",
    "    z = va.ppf(1-(alfa/2))\n",
    "    return (xRaya - z*sd/math.sqrt(n),xRaya + z*sd/math.sqrt(n))"
   ]
  },
  {
   "cell_type": "code",
   "execution_count": 145,
   "id": "53ce899b",
   "metadata": {},
   "outputs": [
    {
     "data": {
      "text/plain": [
       "[0.013827623118068313, 0.03849708748296849]"
      ]
     },
     "execution_count": 145,
     "metadata": {},
     "output_type": "execute_result"
    }
   ],
   "source": [
    "i = getIntervaloExpoenencialAsintotico(0.05, np.std(datos,ddof=1), np.mean(datos), len(datos))\n",
    "sorted([1/x for x in i])"
   ]
  },
  {
   "cell_type": "markdown",
   "id": "2c77e66f",
   "metadata": {},
   "source": [
    "## Ejercicio 9"
   ]
  },
  {
   "cell_type": "markdown",
   "id": "5f5898d9",
   "metadata": {},
   "source": [
    "### Pregunta A"
   ]
  },
  {
   "cell_type": "code",
   "execution_count": 94,
   "id": "b62c71b6",
   "metadata": {},
   "outputs": [],
   "source": [
    "def getIntervaloBinomial(a, mediaMuestral, n):\n",
    "    va = scipy.stats.norm(0,1)\n",
    "    z = va.ppf(1-a/2)\n",
    "    correc = math.sqrt((mediaMuestral*(1-mediaMuestral))/n)\n",
    "    return (mediaMuestral - z*correc,mediaMuestral + z*correc)"
   ]
  },
  {
   "cell_type": "code",
   "execution_count": 95,
   "id": "ec65c22c",
   "metadata": {},
   "outputs": [
    {
     "data": {
      "text/plain": [
       "(0.5745180371834723, 0.6254819628165277)"
      ]
     },
     "execution_count": 95,
     "metadata": {},
     "output_type": "execute_result"
    }
   ],
   "source": [
    "mediaMuestral = 0.6\n",
    "n = 1000\n",
    "a = 0.1\n",
    "getIntervaloBinomial(a,mediaMuestral,n)"
   ]
  },
  {
   "cell_type": "code",
   "execution_count": 96,
   "id": "04b95e3e",
   "metadata": {},
   "outputs": [],
   "source": [
    "def nParaIntervaloBinomial(alfa, lMax):\n",
    "    va = scipy.stats.norm(0,1)\n",
    "    z = va.ppf(1-(alfa/2))\n",
    "    return (z/lMax)**2"
   ]
  },
  {
   "cell_type": "code",
   "execution_count": 97,
   "id": "51ad50db",
   "metadata": {},
   "outputs": [
    {
     "data": {
      "text/plain": [
       "6763.858635238532"
      ]
     },
     "execution_count": 97,
     "metadata": {},
     "output_type": "execute_result"
    }
   ],
   "source": [
    "nParaIntervaloBinomial(0.1,0.02)"
   ]
  },
  {
   "cell_type": "markdown",
   "id": "c4b7d483",
   "metadata": {},
   "source": [
    "## Ejercicio 11"
   ]
  },
  {
   "cell_type": "code",
   "execution_count": 99,
   "id": "75b345d5",
   "metadata": {},
   "outputs": [],
   "source": [
    "def getIntervaloPoisson(a, mediaMuestral, n):\n",
    "    va = scipy.stats.norm(0,1)\n",
    "    z = va.ppf(1-a/2)\n",
    "    correc = math.sqrt((mediaMuestral/n))\n",
    "    return (mediaMuestral - z*correc,mediaMuestral + z*correc)"
   ]
  },
  {
   "cell_type": "code",
   "execution_count": 100,
   "id": "2351a73b",
   "metadata": {},
   "outputs": [],
   "source": [
    "datos = np.array([40,46,46,45,42,44,50,31,41,42,50,34,62,32,46,50,\\\n",
    "                  39,42,44,41,47,42,41,50,34,47,38,40,44,45,35,51,\\\n",
    "                  38,41,39,34,48,35,40,40,43,36,40,49,45,47,34,45])"
   ]
  },
  {
   "cell_type": "code",
   "execution_count": 101,
   "id": "342a7499",
   "metadata": {},
   "outputs": [
    {
     "data": {
      "text/plain": [
       "(40.55383573154896, 44.237830935117714)"
      ]
     },
     "execution_count": 101,
     "metadata": {},
     "output_type": "execute_result"
    }
   ],
   "source": [
    "a = 0.05\n",
    "media = np.mean(datos)\n",
    "n = len(datos)\n",
    "getIntervaloPoisson(a,media,n)"
   ]
  },
  {
   "cell_type": "code",
   "execution_count": null,
   "id": "66de4d40",
   "metadata": {},
   "outputs": [],
   "source": []
  }
 ],
 "metadata": {
  "kernelspec": {
   "display_name": "Python 3 (ipykernel)",
   "language": "python",
   "name": "python3"
  },
  "language_info": {
   "codemirror_mode": {
    "name": "ipython",
    "version": 3
   },
   "file_extension": ".py",
   "mimetype": "text/x-python",
   "name": "python",
   "nbconvert_exporter": "python",
   "pygments_lexer": "ipython3",
   "version": "3.9.6"
  }
 },
 "nbformat": 4,
 "nbformat_minor": 5
}
