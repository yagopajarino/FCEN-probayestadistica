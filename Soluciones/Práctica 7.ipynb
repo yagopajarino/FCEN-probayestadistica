{
 "cells": [
  {
   "cell_type": "markdown",
   "id": "12b89f99",
   "metadata": {},
   "source": [
    "# Práctica 7"
   ]
  },
  {
   "cell_type": "code",
   "execution_count": 3,
   "id": "74205876",
   "metadata": {},
   "outputs": [],
   "source": [
    "import numpy as np\n",
    "import scipy.stats\n",
    "import pandas as pd"
   ]
  },
  {
   "cell_type": "markdown",
   "id": "017c2cf7",
   "metadata": {},
   "source": [
    "## Ejercicio 1"
   ]
  },
  {
   "cell_type": "markdown",
   "id": "f108bdfe",
   "metadata": {},
   "source": [
    "### Pregunta A"
   ]
  },
  {
   "cell_type": "code",
   "execution_count": 4,
   "id": "bfeee625",
   "metadata": {},
   "outputs": [
    {
     "data": {
      "text/plain": [
       "76.81833333333333"
      ]
     },
     "execution_count": 4,
     "metadata": {},
     "output_type": "execute_result"
    }
   ],
   "source": [
    "datos = np.array([76.93, 76.88, 77.07, 76.68, 76.39, 75.09, 77.67, 76.88, 78.15, 76.50, 77.16, 76.42])\n",
    "np.mean(datos)"
   ]
  },
  {
   "cell_type": "code",
   "execution_count": 5,
   "id": "45568a9c",
   "metadata": {},
   "outputs": [
    {
     "data": {
      "text/plain": [
       "76.88"
      ]
     },
     "execution_count": 5,
     "metadata": {},
     "output_type": "execute_result"
    }
   ],
   "source": [
    "np.median(datos)"
   ]
  },
  {
   "cell_type": "code",
   "execution_count": 6,
   "id": "e1080f04",
   "metadata": {},
   "outputs": [
    {
     "data": {
      "text/plain": [
       "0.3333333333333333"
      ]
     },
     "execution_count": 6,
     "metadata": {},
     "output_type": "execute_result"
    }
   ],
   "source": [
    "np.mean(datos<=76.5)"
   ]
  },
  {
   "cell_type": "markdown",
   "id": "f08eeacc",
   "metadata": {},
   "source": [
    "## Ejercicio 2"
   ]
  },
  {
   "cell_type": "code",
   "execution_count": 7,
   "id": "0104840b",
   "metadata": {},
   "outputs": [],
   "source": [
    "def MVnormal(datos, mu=None, sigma=None):\n",
    "    m = np.mean(datos)\n",
    "    s = np.var(datos)\n",
    "    var = sum((x-m)**2 for x in datos)/len(datos)\n",
    "    if mu == None and sigma == None:\n",
    "        return (m, var)\n",
    "    if sigma == None:\n",
    "        return (mu,s)\n",
    "    else:\n",
    "        return (m,sigma)"
   ]
  },
  {
   "cell_type": "markdown",
   "id": "61436dde",
   "metadata": {},
   "source": [
    "## Ejercicio 3"
   ]
  },
  {
   "cell_type": "markdown",
   "id": "81929dfa",
   "metadata": {},
   "source": [
    "### Pregunta A"
   ]
  },
  {
   "cell_type": "code",
   "execution_count": 8,
   "id": "696a2cda",
   "metadata": {},
   "outputs": [
    {
     "data": {
      "text/plain": [
       "(199.33333333333334, 133.95555555555555)"
      ]
     },
     "execution_count": 8,
     "metadata": {},
     "output_type": "execute_result"
    }
   ],
   "source": [
    "datos = np.array([210,197,187,217,194,208,220,199,193,203,181,212,188,196,185])\n",
    "MVnormal(datos)"
   ]
  },
  {
   "cell_type": "markdown",
   "id": "b60b9ca3",
   "metadata": {},
   "source": [
    "### Pregunta B"
   ]
  },
  {
   "cell_type": "code",
   "execution_count": 9,
   "id": "6704b482",
   "metadata": {},
   "outputs": [
    {
     "data": {
      "text/plain": [
       "0.00662000000000007"
      ]
     },
     "execution_count": 9,
     "metadata": {},
     "output_type": "execute_result"
    }
   ],
   "source": [
    "datos = np.array([25.11,25.02,25.16,24.98,24.83,25.05,24.94,25.04,24.99,24.96,\\\n",
    "                  25.03,24.97,24.93,25.12,25.01,25.12,24.90,24.98,25.10,24.96])\n",
    "np.var(datos)"
   ]
  },
  {
   "cell_type": "markdown",
   "id": "69b138f6",
   "metadata": {},
   "source": [
    "## Ejercicio 4"
   ]
  },
  {
   "cell_type": "markdown",
   "id": "5d2c1847",
   "metadata": {},
   "source": [
    "### Pregunta D"
   ]
  },
  {
   "cell_type": "code",
   "execution_count": 10,
   "id": "c2c6fc14",
   "metadata": {},
   "outputs": [
    {
     "data": {
      "text/plain": [
       "0.020346914899028436"
      ]
     },
     "execution_count": 10,
     "metadata": {},
     "output_type": "execute_result"
    }
   ],
   "source": [
    "datos = np.array([39.08,45.27,26.27,14.77,65.84,49.64,0.8,66.58,69.60,32.42,\\\n",
    "                  228.36,64.79,9.38,3.86,37.18,104.75,3.64,104.19,8.17,8.36])\n",
    "1/np.mean(datos)"
   ]
  },
  {
   "cell_type": "markdown",
   "id": "69aa7bb5",
   "metadata": {},
   "source": [
    "## Ejercicio 5"
   ]
  },
  {
   "cell_type": "markdown",
   "id": "e9bc8646",
   "metadata": {},
   "source": [
    "### Pregunta D"
   ]
  },
  {
   "cell_type": "code",
   "execution_count": 11,
   "id": "2b7e3a1c",
   "metadata": {},
   "outputs": [],
   "source": [
    "datos = np.array([40,46,46,45,42,44,50,31,41,42,50,34,62,32,46,50,\\\n",
    "                  39,42,44,41,47,42,41,50,34,47,38,40,44,45,35,51,\\\n",
    "                  38,41,39,34,48,35,40,40,43,36,40,49,45,47,34,45])\n",
    "theta = np.mean(datos)"
   ]
  },
  {
   "cell_type": "code",
   "execution_count": 12,
   "id": "19108ae8",
   "metadata": {},
   "outputs": [
    {
     "data": {
      "text/plain": [
       "42.395833333333336"
      ]
     },
     "execution_count": 12,
     "metadata": {},
     "output_type": "execute_result"
    }
   ],
   "source": [
    "theta"
   ]
  },
  {
   "cell_type": "code",
   "execution_count": 13,
   "id": "cd9425c5",
   "metadata": {},
   "outputs": [
    {
     "data": {
      "text/plain": [
       "0.058749680202255676"
      ]
     },
     "execution_count": 13,
     "metadata": {},
     "output_type": "execute_result"
    }
   ],
   "source": [
    "va = scipy.stats.poisson(theta)\n",
    "va.pmf(40)"
   ]
  },
  {
   "cell_type": "markdown",
   "id": "d85adadd",
   "metadata": {},
   "source": [
    "### Pregunta E"
   ]
  },
  {
   "cell_type": "code",
   "execution_count": 14,
   "id": "ab24aa95",
   "metadata": {},
   "outputs": [
    {
     "data": {
      "text/html": [
       "<div>\n",
       "<style scoped>\n",
       "    .dataframe tbody tr th:only-of-type {\n",
       "        vertical-align: middle;\n",
       "    }\n",
       "\n",
       "    .dataframe tbody tr th {\n",
       "        vertical-align: top;\n",
       "    }\n",
       "\n",
       "    .dataframe thead th {\n",
       "        text-align: right;\n",
       "    }\n",
       "</style>\n",
       "<table border=\"1\" class=\"dataframe\">\n",
       "  <thead>\n",
       "    <tr style=\"text-align: right;\">\n",
       "      <th></th>\n",
       "      <th>0</th>\n",
       "      <th>1</th>\n",
       "      <th>2</th>\n",
       "      <th>3</th>\n",
       "      <th>4</th>\n",
       "    </tr>\n",
       "  </thead>\n",
       "  <tbody>\n",
       "    <tr>\n",
       "      <th>0</th>\n",
       "      <td>40</td>\n",
       "      <td>39</td>\n",
       "      <td>38</td>\n",
       "      <td>46</td>\n",
       "      <td>42</td>\n",
       "    </tr>\n",
       "    <tr>\n",
       "      <th>1</th>\n",
       "      <td>41</td>\n",
       "      <td>46</td>\n",
       "      <td>44</td>\n",
       "      <td>39</td>\n",
       "      <td>45</td>\n",
       "    </tr>\n",
       "    <tr>\n",
       "      <th>2</th>\n",
       "      <td>41</td>\n",
       "      <td>34</td>\n",
       "      <td>42</td>\n",
       "      <td>47</td>\n",
       "      <td>48</td>\n",
       "    </tr>\n",
       "    <tr>\n",
       "      <th>3</th>\n",
       "      <td>44</td>\n",
       "      <td>42</td>\n",
       "      <td>35</td>\n",
       "      <td>50</td>\n",
       "      <td>41</td>\n",
       "    </tr>\n",
       "    <tr>\n",
       "      <th>4</th>\n",
       "      <td>40</td>\n",
       "      <td>31</td>\n",
       "      <td>50</td>\n",
       "      <td>40</td>\n",
       "      <td>41</td>\n",
       "    </tr>\n",
       "  </tbody>\n",
       "</table>\n",
       "</div>"
      ],
      "text/plain": [
       "    0   1   2   3   4\n",
       "0  40  39  38  46  42\n",
       "1  41  46  44  39  45\n",
       "2  41  34  42  47  48\n",
       "3  44  42  35  50  41\n",
       "4  40  31  50  40  41"
      ]
     },
     "execution_count": 14,
     "metadata": {},
     "output_type": "execute_result"
    }
   ],
   "source": [
    "url = \"../P6 datos/llamadas.txt\"\n",
    "df = pd.read_csv(url,header=None, delim_whitespace=True)\n",
    "df.head()"
   ]
  },
  {
   "cell_type": "code",
   "execution_count": 15,
   "id": "94530aba",
   "metadata": {},
   "outputs": [],
   "source": [
    "datos = pd.concat([df[x] for x in range(0,5)])"
   ]
  },
  {
   "cell_type": "code",
   "execution_count": 16,
   "id": "1a175be4",
   "metadata": {},
   "outputs": [],
   "source": [
    "theta = np.mean(datos)"
   ]
  },
  {
   "cell_type": "code",
   "execution_count": 17,
   "id": "0915fae7",
   "metadata": {},
   "outputs": [
    {
     "data": {
      "text/plain": [
       "41.81"
      ]
     },
     "execution_count": 17,
     "metadata": {},
     "output_type": "execute_result"
    }
   ],
   "source": [
    "theta"
   ]
  },
  {
   "cell_type": "code",
   "execution_count": 18,
   "id": "5eab1f55",
   "metadata": {},
   "outputs": [
    {
     "data": {
      "text/plain": [
       "0.06049358818236473"
      ]
     },
     "execution_count": 18,
     "metadata": {},
     "output_type": "execute_result"
    }
   ],
   "source": [
    "va = scipy.stats.poisson(theta)\n",
    "va.pmf(40)"
   ]
  },
  {
   "cell_type": "markdown",
   "id": "9fca8674",
   "metadata": {},
   "source": [
    "## Ejercicio 6"
   ]
  },
  {
   "cell_type": "markdown",
   "id": "2f9e42cb",
   "metadata": {},
   "source": [
    "### Pregunta D"
   ]
  },
  {
   "cell_type": "code",
   "execution_count": 52,
   "id": "d3410344",
   "metadata": {},
   "outputs": [],
   "source": [
    "d = [50,70,80,95,90,60,20,85,30,20,76,55,48,80,76,13,15,67,90,95]\n",
    "d = [x/100 for x in d]\n",
    "datos = np.array(d)"
   ]
  },
  {
   "cell_type": "code",
   "execution_count": 53,
   "id": "d82e55aa",
   "metadata": {},
   "outputs": [],
   "source": [
    "def tMomentos(datos):\n",
    "    m = np.mean(datos)\n",
    "    return (1-m)/m"
   ]
  },
  {
   "cell_type": "code",
   "execution_count": 54,
   "id": "cf8f7e2a",
   "metadata": {},
   "outputs": [],
   "source": [
    "def tMaxVer(datos):\n",
    "    l = len(datos)\n",
    "    s = sum([np.log(x) for x in datos])\n",
    "    return -s/l"
   ]
  },
  {
   "cell_type": "code",
   "execution_count": 55,
   "id": "3670cb0e",
   "metadata": {},
   "outputs": [
    {
     "data": {
      "text/plain": [
       "0.6460905349794238"
      ]
     },
     "execution_count": 55,
     "metadata": {},
     "output_type": "execute_result"
    }
   ],
   "source": [
    "tMomentos = tMomentos(datos)\n",
    "tMomentos"
   ]
  },
  {
   "cell_type": "code",
   "execution_count": 56,
   "id": "1a93c0b6",
   "metadata": {},
   "outputs": [
    {
     "data": {
      "text/plain": [
       "0.6562054138462329"
      ]
     },
     "execution_count": 56,
     "metadata": {},
     "output_type": "execute_result"
    }
   ],
   "source": [
    "tMaxVer = tMaxVer(datos)\n",
    "tMaxVer"
   ]
  },
  {
   "cell_type": "markdown",
   "id": "bb5a5fd2",
   "metadata": {},
   "source": [
    "## Ejercicio 7"
   ]
  },
  {
   "cell_type": "code",
   "execution_count": 64,
   "id": "1f5b3d78",
   "metadata": {},
   "outputs": [],
   "source": [
    "datos = [3,8,9,6,4,5,3,2]"
   ]
  },
  {
   "cell_type": "markdown",
   "id": "673d72ef",
   "metadata": {},
   "source": [
    "### Pregunta B"
   ]
  },
  {
   "cell_type": "code",
   "execution_count": 65,
   "id": "548cb2bd",
   "metadata": {},
   "outputs": [],
   "source": [
    "def tMomentosGeom(datos):\n",
    "    xRaya = np.mean(datos)\n",
    "    return 1/xRaya"
   ]
  },
  {
   "cell_type": "code",
   "execution_count": 66,
   "id": "6a34a6ab",
   "metadata": {},
   "outputs": [],
   "source": [
    "def tMaxVerGeom(datos):\n",
    "    xRaya = np.mean(datos)\n",
    "    return 1/xRaya"
   ]
  },
  {
   "cell_type": "markdown",
   "id": "f25f9228",
   "metadata": {},
   "source": [
    "### Pregunta C"
   ]
  },
  {
   "cell_type": "code",
   "execution_count": 67,
   "id": "15187354",
   "metadata": {},
   "outputs": [
    {
     "data": {
      "text/plain": [
       "0.40959999999999996"
      ]
     },
     "execution_count": 67,
     "metadata": {},
     "output_type": "execute_result"
    }
   ],
   "source": [
    "theta = tMaxVerGeom(datos)\n",
    "va = scipy.stats.geom(theta)\n",
    "1-va.cdf(4)"
   ]
  },
  {
   "cell_type": "code",
   "execution_count": 70,
   "id": "318804e0",
   "metadata": {},
   "outputs": [
    {
     "data": {
      "text/plain": [
       "0.40959999999999996"
      ]
     },
     "execution_count": 70,
     "metadata": {},
     "output_type": "execute_result"
    }
   ],
   "source": [
    "va.sf(4)"
   ]
  },
  {
   "cell_type": "markdown",
   "id": "2a0e7952",
   "metadata": {},
   "source": [
    "### Pregunta D"
   ]
  },
  {
   "cell_type": "code",
   "execution_count": 77,
   "id": "13cc3adf",
   "metadata": {},
   "outputs": [
    {
     "data": {
      "text/plain": [
       "0.5"
      ]
     },
     "execution_count": 77,
     "metadata": {},
     "output_type": "execute_result"
    }
   ],
   "source": [
    "np.mean([1 if x >= 5 else 0 for x in datos])"
   ]
  },
  {
   "cell_type": "markdown",
   "id": "044f7bfd",
   "metadata": {},
   "source": [
    "## Ejercicio 8"
   ]
  },
  {
   "cell_type": "code",
   "execution_count": null,
   "id": "e47bc9c5",
   "metadata": {},
   "outputs": [],
   "source": []
  }
 ],
 "metadata": {
  "kernelspec": {
   "display_name": "Python 3 (ipykernel)",
   "language": "python",
   "name": "python3"
  },
  "language_info": {
   "codemirror_mode": {
    "name": "ipython",
    "version": 3
   },
   "file_extension": ".py",
   "mimetype": "text/x-python",
   "name": "python",
   "nbconvert_exporter": "python",
   "pygments_lexer": "ipython3",
   "version": "3.9.6"
  }
 },
 "nbformat": 4,
 "nbformat_minor": 5
}
