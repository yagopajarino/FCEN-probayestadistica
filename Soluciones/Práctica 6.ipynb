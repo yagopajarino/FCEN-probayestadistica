{
 "cells": [
  {
   "cell_type": "markdown",
   "id": "ef157270",
   "metadata": {},
   "source": [
    "# Práctica 6"
   ]
  },
  {
   "cell_type": "code",
   "execution_count": 73,
   "id": "e1443c75",
   "metadata": {},
   "outputs": [],
   "source": [
    "import pandas as pd\n",
    "import numpy as np\n",
    "import scipy\n",
    "import matplotlib.pyplot as plt\n",
    "from statsmodels.distributions.empirical_distribution import ECDF\n",
    "from statsmodels.graphics.gofplots import qqplot"
   ]
  },
  {
   "cell_type": "code",
   "execution_count": 2,
   "id": "5d678cf7",
   "metadata": {},
   "outputs": [],
   "source": [
    "url_root = \"../P6 datos/\""
   ]
  },
  {
   "cell_type": "markdown",
   "id": "bfaa0c7a",
   "metadata": {},
   "source": [
    "## Ejercicio 1"
   ]
  },
  {
   "cell_type": "code",
   "execution_count": 3,
   "id": "400b145d",
   "metadata": {},
   "outputs": [],
   "source": [
    "url = url_root + \"alfajores.txt\"\n",
    "df = pd.read_csv(url,delimiter=\" \")"
   ]
  },
  {
   "cell_type": "code",
   "execution_count": 4,
   "id": "386714b3",
   "metadata": {},
   "outputs": [
    {
     "data": {
      "text/html": [
       "<div>\n",
       "<style scoped>\n",
       "    .dataframe tbody tr th:only-of-type {\n",
       "        vertical-align: middle;\n",
       "    }\n",
       "\n",
       "    .dataframe tbody tr th {\n",
       "        vertical-align: top;\n",
       "    }\n",
       "\n",
       "    .dataframe thead th {\n",
       "        text-align: right;\n",
       "    }\n",
       "</style>\n",
       "<table border=\"1\" class=\"dataframe\">\n",
       "  <thead>\n",
       "    <tr style=\"text-align: right;\">\n",
       "      <th></th>\n",
       "      <th>defectuosos</th>\n",
       "      <th>fabrica</th>\n",
       "    </tr>\n",
       "  </thead>\n",
       "  <tbody>\n",
       "    <tr>\n",
       "      <th>1</th>\n",
       "      <td>3</td>\n",
       "      <td>1</td>\n",
       "    </tr>\n",
       "    <tr>\n",
       "      <th>2</th>\n",
       "      <td>3</td>\n",
       "      <td>1</td>\n",
       "    </tr>\n",
       "    <tr>\n",
       "      <th>3</th>\n",
       "      <td>3</td>\n",
       "      <td>1</td>\n",
       "    </tr>\n",
       "    <tr>\n",
       "      <th>4</th>\n",
       "      <td>1</td>\n",
       "      <td>0</td>\n",
       "    </tr>\n",
       "    <tr>\n",
       "      <th>5</th>\n",
       "      <td>4</td>\n",
       "      <td>1</td>\n",
       "    </tr>\n",
       "  </tbody>\n",
       "</table>\n",
       "</div>"
      ],
      "text/plain": [
       "   defectuosos  fabrica\n",
       "1            3        1\n",
       "2            3        1\n",
       "3            3        1\n",
       "4            1        0\n",
       "5            4        1"
      ]
     },
     "execution_count": 4,
     "metadata": {},
     "output_type": "execute_result"
    }
   ],
   "source": [
    "df.head()"
   ]
  },
  {
   "cell_type": "markdown",
   "id": "451100b7",
   "metadata": {},
   "source": [
    "### Pregunta A "
   ]
  },
  {
   "cell_type": "code",
   "execution_count": 5,
   "id": "176ba6d9",
   "metadata": {},
   "outputs": [
    {
     "data": {
      "text/plain": [
       "0.256"
      ]
     },
     "execution_count": 5,
     "metadata": {},
     "output_type": "execute_result"
    }
   ],
   "source": [
    "df[df.fabrica == 0].shape[0] / 500"
   ]
  },
  {
   "cell_type": "markdown",
   "id": "f3eadbf4",
   "metadata": {},
   "source": [
    "### Pregunta B"
   ]
  },
  {
   "cell_type": "code",
   "execution_count": 6,
   "id": "f87ccf6f",
   "metadata": {},
   "outputs": [
    {
     "data": {
      "text/plain": [
       "0.018"
      ]
     },
     "execution_count": 6,
     "metadata": {},
     "output_type": "execute_result"
    }
   ],
   "source": [
    "df[(df.fabrica == 0) & (df.defectuosos == 3)].shape[0] / 500"
   ]
  },
  {
   "cell_type": "markdown",
   "id": "11721696",
   "metadata": {},
   "source": [
    "### Pregunta C"
   ]
  },
  {
   "cell_type": "code",
   "execution_count": 7,
   "id": "3c68b3e1",
   "metadata": {},
   "outputs": [],
   "source": [
    "data = []\n",
    "for x in range(5):\n",
    "    row = []\n",
    "    for y in range(2):\n",
    "        row.append(df[(df.fabrica == y) & (df.defectuosos == x)].shape[0] / 500)\n",
    "    data.append(row)"
   ]
  },
  {
   "cell_type": "code",
   "execution_count": 8,
   "id": "0724a43f",
   "metadata": {},
   "outputs": [],
   "source": [
    "probs = pd.DataFrame(data, columns = [\"Quilmes\",\"Pilar\"])"
   ]
  },
  {
   "cell_type": "code",
   "execution_count": 9,
   "id": "b2509b87",
   "metadata": {},
   "outputs": [],
   "source": [
    "probs.loc['Total'] = pd.Series(probs.sum())"
   ]
  },
  {
   "cell_type": "code",
   "execution_count": 10,
   "id": "140bd9b1",
   "metadata": {},
   "outputs": [],
   "source": [
    "probs[\"Total\"] = probs.sum(axis=1)"
   ]
  },
  {
   "cell_type": "code",
   "execution_count": 11,
   "id": "a99e0273",
   "metadata": {},
   "outputs": [
    {
     "data": {
      "text/html": [
       "<div>\n",
       "<style scoped>\n",
       "    .dataframe tbody tr th:only-of-type {\n",
       "        vertical-align: middle;\n",
       "    }\n",
       "\n",
       "    .dataframe tbody tr th {\n",
       "        vertical-align: top;\n",
       "    }\n",
       "\n",
       "    .dataframe thead th {\n",
       "        text-align: right;\n",
       "    }\n",
       "</style>\n",
       "<table border=\"1\" class=\"dataframe\">\n",
       "  <thead>\n",
       "    <tr style=\"text-align: right;\">\n",
       "      <th></th>\n",
       "      <th>Quilmes</th>\n",
       "      <th>Pilar</th>\n",
       "      <th>Total</th>\n",
       "    </tr>\n",
       "  </thead>\n",
       "  <tbody>\n",
       "    <tr>\n",
       "      <th>0</th>\n",
       "      <td>0.096</td>\n",
       "      <td>0.004</td>\n",
       "      <td>0.100</td>\n",
       "    </tr>\n",
       "    <tr>\n",
       "      <th>1</th>\n",
       "      <td>0.090</td>\n",
       "      <td>0.034</td>\n",
       "      <td>0.124</td>\n",
       "    </tr>\n",
       "    <tr>\n",
       "      <th>2</th>\n",
       "      <td>0.052</td>\n",
       "      <td>0.166</td>\n",
       "      <td>0.218</td>\n",
       "    </tr>\n",
       "    <tr>\n",
       "      <th>3</th>\n",
       "      <td>0.018</td>\n",
       "      <td>0.288</td>\n",
       "      <td>0.306</td>\n",
       "    </tr>\n",
       "    <tr>\n",
       "      <th>4</th>\n",
       "      <td>0.000</td>\n",
       "      <td>0.252</td>\n",
       "      <td>0.252</td>\n",
       "    </tr>\n",
       "    <tr>\n",
       "      <th>Total</th>\n",
       "      <td>0.256</td>\n",
       "      <td>0.744</td>\n",
       "      <td>1.000</td>\n",
       "    </tr>\n",
       "  </tbody>\n",
       "</table>\n",
       "</div>"
      ],
      "text/plain": [
       "       Quilmes  Pilar  Total\n",
       "0        0.096  0.004  0.100\n",
       "1        0.090  0.034  0.124\n",
       "2        0.052  0.166  0.218\n",
       "3        0.018  0.288  0.306\n",
       "4        0.000  0.252  0.252\n",
       "Total    0.256  0.744  1.000"
      ]
     },
     "execution_count": 11,
     "metadata": {},
     "output_type": "execute_result"
    }
   ],
   "source": [
    "probs"
   ]
  },
  {
   "cell_type": "markdown",
   "id": "fd3821ef",
   "metadata": {},
   "source": [
    "### Pregunta D"
   ]
  },
  {
   "cell_type": "code",
   "execution_count": 12,
   "id": "54b92666",
   "metadata": {},
   "outputs": [
    {
     "data": {
      "text/plain": [
       "2.4859999999999998"
      ]
     },
     "execution_count": 12,
     "metadata": {},
     "output_type": "execute_result"
    }
   ],
   "source": [
    "# Esperanza\n",
    "espX = sum([x * probs.iloc[x,-1] for x in range(5)])        \n",
    "espX"
   ]
  },
  {
   "cell_type": "code",
   "execution_count": 13,
   "id": "ca17e81e",
   "metadata": {},
   "outputs": [
    {
     "data": {
      "text/plain": [
       "1.6018040000000013"
      ]
     },
     "execution_count": 13,
     "metadata": {},
     "output_type": "execute_result"
    }
   ],
   "source": [
    "# Varianza\n",
    "ex2 = sum([x**2 * probs.iloc[x,-1] for x in range(5)])\n",
    "ex2 - (espX**2)"
   ]
  },
  {
   "cell_type": "markdown",
   "id": "12b3c85c",
   "metadata": {},
   "source": [
    "### Pregunta E"
   ]
  },
  {
   "cell_type": "code",
   "execution_count": 14,
   "id": "43480e59",
   "metadata": {},
   "outputs": [
    {
     "data": {
      "text/plain": [
       "0.0703125"
      ]
     },
     "execution_count": 14,
     "metadata": {},
     "output_type": "execute_result"
    }
   ],
   "source": [
    "# Usando probs\n",
    "inter = probs.iloc[3,0]\n",
    "quilmes = probs.Quilmes.Total\n",
    "inter / quilmes"
   ]
  },
  {
   "cell_type": "markdown",
   "id": "11956d5a",
   "metadata": {},
   "source": [
    "### Pregunta F"
   ]
  },
  {
   "cell_type": "code",
   "execution_count": 15,
   "id": "1a6be6cf",
   "metadata": {},
   "outputs": [
    {
     "data": {
      "text/plain": [
       "0.306"
      ]
     },
     "execution_count": 15,
     "metadata": {},
     "output_type": "execute_result"
    }
   ],
   "source": [
    "X3 = probs.Total[3]\n",
    "X3"
   ]
  },
  {
   "cell_type": "markdown",
   "id": "a92e683a",
   "metadata": {},
   "source": [
    "### Pregunta G"
   ]
  },
  {
   "cell_type": "code",
   "execution_count": 16,
   "id": "8cdac076",
   "metadata": {},
   "outputs": [
    {
     "data": {
      "text/plain": [
       "0.058823529411764705"
      ]
     },
     "execution_count": 16,
     "metadata": {},
     "output_type": "execute_result"
    }
   ],
   "source": [
    "inter / X3"
   ]
  },
  {
   "cell_type": "markdown",
   "id": "7310ba86",
   "metadata": {},
   "source": [
    "### Pregunta H"
   ]
  },
  {
   "cell_type": "code",
   "execution_count": 17,
   "id": "dba6fb42",
   "metadata": {},
   "outputs": [
    {
     "data": {
      "text/plain": [
       "0.3870967741935484"
      ]
     },
     "execution_count": 17,
     "metadata": {},
     "output_type": "execute_result"
    }
   ],
   "source": [
    "inter = probs.iloc[3,1]\n",
    "pilar = probs.Pilar.Total\n",
    "inter / pilar"
   ]
  },
  {
   "cell_type": "markdown",
   "id": "a4a7a152",
   "metadata": {},
   "source": [
    "## Ejercicio 2"
   ]
  },
  {
   "cell_type": "code",
   "execution_count": 18,
   "id": "08bec420",
   "metadata": {},
   "outputs": [],
   "source": [
    "datos = [26.43,33.58,65.86,29.18,5.92,13.29,13.54,64.78,56.11,23.60,33.39,100.32,28.04,29.63,2.41,\\\n",
    "         3.17,11.99,6.47,23.56,17.96,32.27,2.09,57.43,15.31,42.85,1.68,49.61]"
   ]
  },
  {
   "cell_type": "code",
   "execution_count": 19,
   "id": "5cfdd48d",
   "metadata": {},
   "outputs": [],
   "source": [
    "datos = np.array(datos)"
   ]
  },
  {
   "cell_type": "markdown",
   "id": "b839b276",
   "metadata": {},
   "source": [
    "### Pregunta A"
   ]
  },
  {
   "cell_type": "code",
   "execution_count": 20,
   "id": "d6a96fe9",
   "metadata": {},
   "outputs": [
    {
     "data": {
      "text/plain": [
       "0.6296296296296297"
      ]
     },
     "execution_count": 20,
     "metadata": {},
     "output_type": "execute_result"
    }
   ],
   "source": [
    "(datos<30).mean()"
   ]
  },
  {
   "cell_type": "code",
   "execution_count": 21,
   "id": "5d178f73",
   "metadata": {},
   "outputs": [
    {
     "data": {
      "text/plain": [
       "0.6296296296296297"
      ]
     },
     "execution_count": 21,
     "metadata": {},
     "output_type": "execute_result"
    }
   ],
   "source": [
    "len(datos[datos<30])/len(datos)"
   ]
  },
  {
   "cell_type": "markdown",
   "id": "813668cc",
   "metadata": {},
   "source": [
    "### Pregunta B"
   ]
  },
  {
   "cell_type": "code",
   "execution_count": 22,
   "id": "ba7a565d",
   "metadata": {},
   "outputs": [
    {
     "data": {
      "text/plain": [
       "[<matplotlib.lines.Line2D at 0x7fb231166880>]"
      ]
     },
     "execution_count": 22,
     "metadata": {},
     "output_type": "execute_result"
    },
    {
     "data": {
      "image/png": "[encoded data removed]",
      "text/plain": [
       "<Figure size 432x288 with 1 Axes>"
      ]
     },
     "metadata": {
      "needs_background": "light"
     },
     "output_type": "display_data"
    }
   ],
   "source": [
    "d = ECDF(datos)\n",
    "plt.plot(d.x, d.y)"
   ]
  },
  {
   "cell_type": "markdown",
   "id": "13585e6e",
   "metadata": {},
   "source": [
    "### Pregunta C"
   ]
  },
  {
   "cell_type": "code",
   "execution_count": 23,
   "id": "d60087b0",
   "metadata": {},
   "outputs": [
    {
     "name": "stdout",
     "output_type": "stream",
     "text": [
      "Estos datos permite estimar que el 90% de las lámparas producidas por esta fábrica dura más de 2.87 horas y el 10% dura menos de 60.37 horas\n"
     ]
    }
   ],
   "source": [
    "quantiles = np.quantile(datos,[0.1,0.9])\n",
    "print(\"Estos datos permite estimar que el 90% de las lámparas producidas por esta fábrica dura más de {:.2f} horas \\\n",
    "y el 10% dura menos de {:.2f} horas\".format(quantiles[0], quantiles[1]))"
   ]
  },
  {
   "cell_type": "markdown",
   "id": "33fbfa04",
   "metadata": {},
   "source": [
    "## Ejercicio 3"
   ]
  },
  {
   "cell_type": "code",
   "execution_count": 24,
   "id": "3d3de5ff",
   "metadata": {},
   "outputs": [
    {
     "data": {
      "text/html": [
       "<div>\n",
       "<style scoped>\n",
       "    .dataframe tbody tr th:only-of-type {\n",
       "        vertical-align: middle;\n",
       "    }\n",
       "\n",
       "    .dataframe tbody tr th {\n",
       "        vertical-align: top;\n",
       "    }\n",
       "\n",
       "    .dataframe thead th {\n",
       "        text-align: right;\n",
       "    }\n",
       "</style>\n",
       "<table border=\"1\" class=\"dataframe\">\n",
       "  <thead>\n",
       "    <tr style=\"text-align: right;\">\n",
       "      <th></th>\n",
       "      <th>0</th>\n",
       "    </tr>\n",
       "  </thead>\n",
       "  <tbody>\n",
       "    <tr>\n",
       "      <th>0</th>\n",
       "      <td>3.46</td>\n",
       "    </tr>\n",
       "    <tr>\n",
       "      <th>1</th>\n",
       "      <td>3.72</td>\n",
       "    </tr>\n",
       "    <tr>\n",
       "      <th>2</th>\n",
       "      <td>3.95</td>\n",
       "    </tr>\n",
       "    <tr>\n",
       "      <th>3</th>\n",
       "      <td>3.55</td>\n",
       "    </tr>\n",
       "    <tr>\n",
       "      <th>4</th>\n",
       "      <td>3.62</td>\n",
       "    </tr>\n",
       "  </tbody>\n",
       "</table>\n",
       "</div>"
      ],
      "text/plain": [
       "      0\n",
       "0  3.46\n",
       "1  3.72\n",
       "2  3.95\n",
       "3  3.55\n",
       "4  3.62"
      ]
     },
     "execution_count": 24,
     "metadata": {},
     "output_type": "execute_result"
    }
   ],
   "source": [
    "url = url_root + \"graduados.txt\"\n",
    "df = pd.read_csv(url,delimiter=\" \",header=None)\n",
    "df.head()"
   ]
  },
  {
   "cell_type": "code",
   "execution_count": 25,
   "id": "7f57ecf1",
   "metadata": {},
   "outputs": [],
   "source": [
    "datos = np.array(df[0])"
   ]
  },
  {
   "cell_type": "markdown",
   "id": "7ddbcf43",
   "metadata": {},
   "source": [
    "### Pregunta A"
   ]
  },
  {
   "cell_type": "code",
   "execution_count": 26,
   "id": "a6366784",
   "metadata": {},
   "outputs": [
    {
     "data": {
      "text/plain": [
       "3.720666666666667"
      ]
     },
     "execution_count": 26,
     "metadata": {},
     "output_type": "execute_result"
    }
   ],
   "source": [
    "media = np.mean(datos)\n",
    "media"
   ]
  },
  {
   "cell_type": "code",
   "execution_count": 27,
   "id": "eeba29ee",
   "metadata": {},
   "outputs": [
    {
     "data": {
      "text/plain": [
       "3.72"
      ]
     },
     "execution_count": 27,
     "metadata": {},
     "output_type": "execute_result"
    }
   ],
   "source": [
    "np.median(datos)"
   ]
  },
  {
   "cell_type": "markdown",
   "id": "75532b53",
   "metadata": {},
   "source": [
    "### Pregunta B"
   ]
  },
  {
   "cell_type": "code",
   "execution_count": 28,
   "id": "737aaafc",
   "metadata": {},
   "outputs": [
    {
     "data": {
      "text/plain": [
       "0.1456716509313239"
      ]
     },
     "execution_count": 28,
     "metadata": {},
     "output_type": "execute_result"
    }
   ],
   "source": [
    "sd = np.std(datos, ddof=1) # Ddof (Degrees of freedom): toma como divisor n - ddof. En nuestro caso el divisor es n-1\n",
    "sd"
   ]
  },
  {
   "cell_type": "code",
   "execution_count": 29,
   "id": "b2425a55",
   "metadata": {},
   "outputs": [
    {
     "data": {
      "text/plain": [
       "0.20000000000000018"
      ]
     },
     "execution_count": 29,
     "metadata": {},
     "output_type": "execute_result"
    }
   ],
   "source": [
    "quantiles = np.quantile(datos,[0.25,0.75])\n",
    "quantiles[1] - quantiles[0]"
   ]
  },
  {
   "cell_type": "markdown",
   "id": "37d972aa",
   "metadata": {},
   "source": [
    "### Pregunta C"
   ]
  },
  {
   "cell_type": "code",
   "execution_count": 30,
   "id": "c34e9d9c",
   "metadata": {},
   "outputs": [
    {
     "data": {
      "text/plain": [
       "[<matplotlib.lines.Line2D at 0x7fb2312b9f40>]"
      ]
     },
     "execution_count": 30,
     "metadata": {},
     "output_type": "execute_result"
    },
    {
     "data": {
      "image/png": "[encoded data removed]",
      "text/plain": [
       "<Figure size 432x576 with 1 Axes>"
      ]
     },
     "metadata": {
      "needs_background": "light"
     },
     "output_type": "display_data"
    }
   ],
   "source": [
    "fig, ax = plt.subplots(figsize=(6,8))\n",
    "ax.hist(datos,density=True)\n",
    "\n",
    "va = scipy.stats.norm(loc = media, scale = sd)\n",
    "x = np.arange(min(datos),max(datos)+0.01,0.01)\n",
    "ax.plot(x,va.pdf(x))"
   ]
  },
  {
   "cell_type": "markdown",
   "id": "312727fa",
   "metadata": {},
   "source": [
    "### Pregunta D"
   ]
  },
  {
   "cell_type": "code",
   "execution_count": 32,
   "id": "075eaf48",
   "metadata": {},
   "outputs": [
    {
     "data": {
      "image/png": "[encoded data removed]",
      "text/plain": [
       "<Figure size 432x576 with 1 Axes>"
      ]
     },
     "metadata": {
      "needs_background": "light"
     },
     "output_type": "display_data"
    }
   ],
   "source": [
    "fig, ax = plt.subplots(figsize=(6,8))\n",
    "ax.boxplot(datos,labels=[\"Puntajes\"])\n",
    "plt.show()"
   ]
  },
  {
   "cell_type": "markdown",
   "id": "3fbd8fca",
   "metadata": {},
   "source": [
    "### Pregunta E\n",
    "\n",
    "Parece que tienen una distribución normal"
   ]
  },
  {
   "cell_type": "markdown",
   "id": "583a4adb",
   "metadata": {},
   "source": [
    "## Ejercicio 4"
   ]
  },
  {
   "cell_type": "code",
   "execution_count": 33,
   "id": "9083a551",
   "metadata": {},
   "outputs": [
    {
     "data": {
      "text/html": [
       "<div>\n",
       "<style scoped>\n",
       "    .dataframe tbody tr th:only-of-type {\n",
       "        vertical-align: middle;\n",
       "    }\n",
       "\n",
       "    .dataframe tbody tr th {\n",
       "        vertical-align: top;\n",
       "    }\n",
       "\n",
       "    .dataframe thead th {\n",
       "        text-align: right;\n",
       "    }\n",
       "</style>\n",
       "<table border=\"1\" class=\"dataframe\">\n",
       "  <thead>\n",
       "    <tr style=\"text-align: right;\">\n",
       "      <th></th>\n",
       "      <th>Argentina</th>\n",
       "      <th>EEUU</th>\n",
       "      <th>Holanda</th>\n",
       "      <th>Japon</th>\n",
       "    </tr>\n",
       "  </thead>\n",
       "  <tbody>\n",
       "    <tr>\n",
       "      <th>0</th>\n",
       "      <td>29.66</td>\n",
       "      <td>77.81</td>\n",
       "      <td>8.68</td>\n",
       "      <td>110.21</td>\n",
       "    </tr>\n",
       "    <tr>\n",
       "      <th>1</th>\n",
       "      <td>7.61</td>\n",
       "      <td>35.50</td>\n",
       "      <td>7.31</td>\n",
       "      <td>32.14</td>\n",
       "    </tr>\n",
       "    <tr>\n",
       "      <th>2</th>\n",
       "      <td>6.35</td>\n",
       "      <td>24.79</td>\n",
       "      <td>6.02</td>\n",
       "      <td>18.88</td>\n",
       "    </tr>\n",
       "    <tr>\n",
       "      <th>3</th>\n",
       "      <td>4.10</td>\n",
       "      <td>20.02</td>\n",
       "      <td>2.64</td>\n",
       "      <td>16.38</td>\n",
       "    </tr>\n",
       "    <tr>\n",
       "      <th>4</th>\n",
       "      <td>3.80</td>\n",
       "      <td>16.70</td>\n",
       "      <td>1.75</td>\n",
       "      <td>13.37</td>\n",
       "    </tr>\n",
       "  </tbody>\n",
       "</table>\n",
       "</div>"
      ],
      "text/plain": [
       "   Argentina   EEUU  Holanda   Japon\n",
       "0      29.66  77.81     8.68  110.21\n",
       "1       7.61  35.50     7.31   32.14\n",
       "2       6.35  24.79     6.02   18.88\n",
       "3       4.10  20.02     2.64   16.38\n",
       "4       3.80  16.70     1.75   13.37"
      ]
     },
     "execution_count": 33,
     "metadata": {},
     "output_type": "execute_result"
    }
   ],
   "source": [
    "url = url_root + \"ciudades.txt\"\n",
    "df = pd.read_csv(url, delim_whitespace=True)\n",
    "df.head()"
   ]
  },
  {
   "cell_type": "markdown",
   "id": "302ca469",
   "metadata": {},
   "source": [
    "### Pregunta A"
   ]
  },
  {
   "cell_type": "code",
   "execution_count": 34,
   "id": "b177f9a4",
   "metadata": {},
   "outputs": [
    {
     "data": {
      "image/png": "[encoded data removed]",
      "text/plain": [
       "<Figure size 1080x720 with 1 Axes>"
      ]
     },
     "metadata": {
      "needs_background": "light"
     },
     "output_type": "display_data"
    }
   ],
   "source": [
    "fig1, ax1 = plt.subplots(figsize=(15,10))\n",
    "ax1.set_title('Boxplot')\n",
    "ax1.boxplot(df,labels=[\"Argentina\",\"USA\",\"Holanda\",\"Japon\"])\n",
    "plt.show()"
   ]
  },
  {
   "cell_type": "markdown",
   "id": "f517e9cc",
   "metadata": {},
   "source": [
    "### Pregunta B\n",
    "\n",
    "Holanda es el más homogéneo."
   ]
  },
  {
   "cell_type": "markdown",
   "id": "cdcae433",
   "metadata": {},
   "source": [
    "## Ejercicio 5"
   ]
  },
  {
   "cell_type": "code",
   "execution_count": 42,
   "id": "ed3c5005",
   "metadata": {},
   "outputs": [
    {
     "data": {
      "text/html": [
       "<div>\n",
       "<style scoped>\n",
       "    .dataframe tbody tr th:only-of-type {\n",
       "        vertical-align: middle;\n",
       "    }\n",
       "\n",
       "    .dataframe tbody tr th {\n",
       "        vertical-align: top;\n",
       "    }\n",
       "\n",
       "    .dataframe thead th {\n",
       "        text-align: right;\n",
       "    }\n",
       "</style>\n",
       "<table border=\"1\" class=\"dataframe\">\n",
       "  <thead>\n",
       "    <tr style=\"text-align: right;\">\n",
       "      <th></th>\n",
       "      <th>0</th>\n",
       "    </tr>\n",
       "  </thead>\n",
       "  <tbody>\n",
       "    <tr>\n",
       "      <th>0</th>\n",
       "      <td>15.0</td>\n",
       "    </tr>\n",
       "    <tr>\n",
       "      <th>1</th>\n",
       "      <td>15.0</td>\n",
       "    </tr>\n",
       "    <tr>\n",
       "      <th>2</th>\n",
       "      <td>15.0</td>\n",
       "    </tr>\n",
       "    <tr>\n",
       "      <th>3</th>\n",
       "      <td>15.0</td>\n",
       "    </tr>\n",
       "    <tr>\n",
       "      <th>4</th>\n",
       "      <td>15.0</td>\n",
       "    </tr>\n",
       "  </tbody>\n",
       "</table>\n",
       "</div>"
      ],
      "text/plain": [
       "      0\n",
       "0  15.0\n",
       "1  15.0\n",
       "2  15.0\n",
       "3  15.0\n",
       "4  15.0"
      ]
     },
     "execution_count": 42,
     "metadata": {},
     "output_type": "execute_result"
    }
   ],
   "source": [
    "url = url_root + \"ingresos.txt\"\n",
    "df = pd.read_csv(url, header=None)\n",
    "df.head()"
   ]
  },
  {
   "cell_type": "code",
   "execution_count": 43,
   "id": "8c091a38",
   "metadata": {},
   "outputs": [],
   "source": [
    "df = df[0]"
   ]
  },
  {
   "cell_type": "code",
   "execution_count": 46,
   "id": "9de5a37a",
   "metadata": {},
   "outputs": [],
   "source": [
    "datos = np.array(df)"
   ]
  },
  {
   "cell_type": "markdown",
   "id": "9af79f20",
   "metadata": {},
   "source": [
    "### Pregunta A"
   ]
  },
  {
   "cell_type": "code",
   "execution_count": 48,
   "id": "44fa9fa0",
   "metadata": {},
   "outputs": [
    {
     "data": {
      "text/plain": [
       "15.0"
      ]
     },
     "execution_count": 48,
     "metadata": {},
     "output_type": "execute_result"
    }
   ],
   "source": [
    "# Salario mínimo\n",
    "datos.min()"
   ]
  },
  {
   "cell_type": "code",
   "execution_count": 54,
   "id": "7e2e1f62",
   "metadata": {},
   "outputs": [
    {
     "data": {
      "text/plain": [
       "0.461"
      ]
     },
     "execution_count": 54,
     "metadata": {},
     "output_type": "execute_result"
    }
   ],
   "source": [
    "(datos == datos.min()).mean()"
   ]
  },
  {
   "cell_type": "markdown",
   "id": "80f56e2a",
   "metadata": {},
   "source": [
    "### Pregunta B"
   ]
  },
  {
   "cell_type": "code",
   "execution_count": 55,
   "id": "00a1d279",
   "metadata": {},
   "outputs": [
    {
     "data": {
      "text/plain": [
       "240.54083000000008"
      ]
     },
     "execution_count": 55,
     "metadata": {},
     "output_type": "execute_result"
    }
   ],
   "source": [
    "np.quantile(datos,0.9)"
   ]
  },
  {
   "cell_type": "markdown",
   "id": "a3942e9a",
   "metadata": {},
   "source": [
    "### Pregunta C"
   ]
  },
  {
   "cell_type": "code",
   "execution_count": 57,
   "id": "0f57fa0d",
   "metadata": {},
   "outputs": [
    {
     "data": {
      "text/plain": [
       "87.17647991"
      ]
     },
     "execution_count": 57,
     "metadata": {},
     "output_type": "execute_result"
    }
   ],
   "source": [
    "np.mean(datos)"
   ]
  },
  {
   "cell_type": "code",
   "execution_count": 59,
   "id": "b9d8ee1a",
   "metadata": {},
   "outputs": [
    {
     "data": {
      "text/plain": [
       "18.473715"
      ]
     },
     "execution_count": 59,
     "metadata": {},
     "output_type": "execute_result"
    }
   ],
   "source": [
    "np.median(datos)"
   ]
  },
  {
   "cell_type": "code",
   "execution_count": 61,
   "id": "69adcf6a",
   "metadata": {},
   "outputs": [
    {
     "data": {
      "text/plain": [
       "49.9308686375"
      ]
     },
     "execution_count": 61,
     "metadata": {},
     "output_type": "execute_result"
    }
   ],
   "source": [
    "# quita de ambas punta el proportiontocut de los datos\n",
    "scipy.stats.trim_mean(datos,proportiontocut = 0.1)"
   ]
  },
  {
   "cell_type": "markdown",
   "id": "a04e1aba",
   "metadata": {},
   "source": [
    "### Pregunta D"
   ]
  },
  {
   "cell_type": "code",
   "execution_count": 62,
   "id": "d049f55f",
   "metadata": {},
   "outputs": [
    {
     "data": {
      "text/plain": [
       "152.0336284840572"
      ]
     },
     "execution_count": 62,
     "metadata": {},
     "output_type": "execute_result"
    }
   ],
   "source": [
    "np.std(datos,ddof=1)"
   ]
  },
  {
   "cell_type": "code",
   "execution_count": 63,
   "id": "d4c285b3",
   "metadata": {},
   "outputs": [
    {
     "data": {
      "text/plain": [
       "74.97330249999999"
      ]
     },
     "execution_count": 63,
     "metadata": {},
     "output_type": "execute_result"
    }
   ],
   "source": [
    "quants = np.quantile(datos,[0.25,0.75])\n",
    "IQR = quants[1] - quants[0]\n",
    "IQR"
   ]
  },
  {
   "cell_type": "markdown",
   "id": "a56c9e5e",
   "metadata": {},
   "source": [
    "### Pregunta E"
   ]
  },
  {
   "cell_type": "code",
   "execution_count": 71,
   "id": "fcd09b4b",
   "metadata": {},
   "outputs": [
    {
     "data": {
      "image/png": "[encoded data removed]",
      "text/plain": [
       "<Figure size 1080x720 with 2 Axes>"
      ]
     },
     "metadata": {
      "needs_background": "light"
     },
     "output_type": "display_data"
    }
   ],
   "source": [
    "fig, axs = plt.subplots(1,2,figsize=(15,10))\n",
    "axs[0].hist(datos,density=True)\n",
    "axs[1].boxplot(datos)\n",
    "plt.show()"
   ]
  },
  {
   "cell_type": "markdown",
   "id": "fd11d740",
   "metadata": {},
   "source": [
    "Hay mucha concentración de datos en valores bajos. El boxplot muestra que el 75% de los datos está entre 0 y 100 aprox, lo que provoca que muchos datos caigan en zonas de outliers."
   ]
  },
  {
   "cell_type": "markdown",
   "id": "d802eb5d",
   "metadata": {},
   "source": [
    "### Pregunta F\n",
    "\n",
    "No"
   ]
  },
  {
   "cell_type": "markdown",
   "id": "a27695d4",
   "metadata": {},
   "source": [
    "### Pregunta G\n",
    "\n",
    "La media da 87.17 vs la mediana 18.47. La mediana parece ser una medida mas acertada de centralidad pues la media está condicionada por los valores extremos de los datos."
   ]
  },
  {
   "cell_type": "markdown",
   "id": "fbb44c7f",
   "metadata": {},
   "source": [
    "## Ejercicio 6"
   ]
  },
  {
   "cell_type": "code",
   "execution_count": 85,
   "id": "b31962d7",
   "metadata": {},
   "outputs": [
    {
     "data": {
      "image/png": "[encoded data removed]",
      "text/plain": [
       "<Figure size 432x288 with 1 Axes>"
      ]
     },
     "metadata": {
      "needs_background": "light"
     },
     "output_type": "display_data"
    }
   ],
   "source": [
    "sample = scipy.stats.norm.rvs(size=25)\n",
    "qqplot(sample,line=\"s\")\n",
    "plt.show()"
   ]
  },
  {
   "cell_type": "code",
   "execution_count": 86,
   "id": "c5ba0238",
   "metadata": {},
   "outputs": [
    {
     "data": {
      "image/png": "[encoded data removed]",
      "text/plain": [
       "<Figure size 432x288 with 1 Axes>"
      ]
     },
     "metadata": {
      "needs_background": "light"
     },
     "output_type": "display_data"
    }
   ],
   "source": [
    "sample = scipy.stats.norm.rvs(size=50)\n",
    "qqplot(sample,line=\"s\")\n",
    "plt.show()"
   ]
  },
  {
   "cell_type": "code",
   "execution_count": 87,
   "id": "a902e29c",
   "metadata": {},
   "outputs": [
    {
     "data": {
      "image/png": "[encoded data removed]",
      "text/plain": [
       "<Figure size 432x288 with 1 Axes>"
      ]
     },
     "metadata": {
      "needs_background": "light"
     },
     "output_type": "display_data"
    }
   ],
   "source": [
    "sample = scipy.stats.norm.rvs(size=100)\n",
    "qqplot(sample,line=\"s\")\n",
    "plt.show()"
   ]
  },
  {
   "cell_type": "code",
   "execution_count": 89,
   "id": "6357b2e5",
   "metadata": {},
   "outputs": [
    {
     "data": {
      "image/png": "[encoded data removed]",
      "text/plain": [
       "<Figure size 432x288 with 1 Axes>"
      ]
     },
     "metadata": {
      "needs_background": "light"
     },
     "output_type": "display_data"
    }
   ],
   "source": [
    "sample = scipy.stats.norm.rvs(size=1000)\n",
    "qqplot(sample,line=\"s\")\n",
    "plt.show()"
   ]
  },
  {
   "cell_type": "code",
   "execution_count": null,
   "id": "430c35a4",
   "metadata": {},
   "outputs": [],
   "source": []
  }
 ],
 "metadata": {
  "kernelspec": {
   "display_name": "Python 3 (ipykernel)",
   "language": "python",
   "name": "python3"
  },
  "language_info": {
   "codemirror_mode": {
    "name": "ipython",
    "version": 3
   },
   "file_extension": ".py",
   "mimetype": "text/x-python",
   "name": "python",
   "nbconvert_exporter": "python",
   "pygments_lexer": "ipython3",
   "version": "3.9.6"
  }
 },
 "nbformat": 4,
 "nbformat_minor": 5
}
