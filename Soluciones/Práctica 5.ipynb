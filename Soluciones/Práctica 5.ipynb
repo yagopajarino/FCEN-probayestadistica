{
 "cells": [
  {
   "cell_type": "markdown",
   "id": "a4b0f8e8",
   "metadata": {},
   "source": [
    "# Práctica 5"
   ]
  },
  {
   "cell_type": "code",
   "execution_count": 1,
   "id": "e98ac6b1",
   "metadata": {},
   "outputs": [],
   "source": [
    "import scipy.stats\n",
    "import math\n",
    "import numpy as np"
   ]
  },
  {
   "cell_type": "markdown",
   "id": "972a10d4",
   "metadata": {},
   "source": [
    "## Ejercicio 1"
   ]
  },
  {
   "cell_type": "code",
   "execution_count": 2,
   "id": "f0609252",
   "metadata": {},
   "outputs": [],
   "source": [
    "x1 = scipy.stats.uniform(3,2)\n",
    "x2 = scipy.stats.norm(3,math.sqrt(1/4))\n",
    "x3 = scipy.stats.gamma(a=6,scale=1/3)\n",
    "x4 = scipy.stats.uniform(2,2)"
   ]
  },
  {
   "cell_type": "code",
   "execution_count": 3,
   "id": "6455c7e9",
   "metadata": {},
   "outputs": [
    {
     "data": {
      "text/plain": [
       "12.0"
      ]
     },
     "execution_count": 3,
     "metadata": {},
     "output_type": "execute_result"
    }
   ],
   "source": [
    "# E(Y)\n",
    "sum(x.mean() for x in [x1,x2,x3,x4])"
   ]
  },
  {
   "cell_type": "code",
   "execution_count": 4,
   "id": "a221996c",
   "metadata": {},
   "outputs": [
    {
     "data": {
      "text/plain": [
       "1.5833333333333333"
      ]
     },
     "execution_count": 4,
     "metadata": {},
     "output_type": "execute_result"
    }
   ],
   "source": [
    "# Var(Y)\n",
    "sum(x.var() for x in [x1,x2,x3,x4])"
   ]
  },
  {
   "cell_type": "markdown",
   "id": "37b74753",
   "metadata": {},
   "source": [
    "## Ejercicio 2\n",
    "\n",
    "### Pregunta A"
   ]
  },
  {
   "cell_type": "code",
   "execution_count": 5,
   "id": "8c7bd354",
   "metadata": {},
   "outputs": [],
   "source": [
    "def chebyshev(varianza,epsilon):\n",
    "    return varianza / (epsilon ** 2)"
   ]
  },
  {
   "cell_type": "code",
   "execution_count": 6,
   "id": "af931402",
   "metadata": {},
   "outputs": [
    {
     "data": {
      "text/plain": [
       "0.4"
      ]
     },
     "execution_count": 6,
     "metadata": {},
     "output_type": "execute_result"
    }
   ],
   "source": [
    "var = 0.1\n",
    "epsilon = 5.5 - 5\n",
    "chebyshev(var, epsilon)"
   ]
  },
  {
   "cell_type": "markdown",
   "id": "3c4fc2fd",
   "metadata": {},
   "source": [
    "### Pregunta B"
   ]
  },
  {
   "cell_type": "code",
   "execution_count": 7,
   "id": "7f3b29f5",
   "metadata": {},
   "outputs": [],
   "source": [
    "def LGN(n, varianza, epsilon):\n",
    "    return varianza / ((epsilon ** 2) * n)"
   ]
  },
  {
   "cell_type": "code",
   "execution_count": 8,
   "id": "40515f8f",
   "metadata": {},
   "outputs": [
    {
     "data": {
      "text/plain": [
       "0.04"
      ]
     },
     "execution_count": 8,
     "metadata": {},
     "output_type": "execute_result"
    }
   ],
   "source": [
    "n = 10\n",
    "varianza = 0.1\n",
    "epsilon = 5.5 - 5\n",
    "LGN(n,varianza,epsilon)"
   ]
  },
  {
   "cell_type": "markdown",
   "id": "6478535b",
   "metadata": {},
   "source": [
    "## Ejercicio 7\n",
    "### Pregunta A"
   ]
  },
  {
   "cell_type": "code",
   "execution_count": 12,
   "id": "c306e546",
   "metadata": {},
   "outputs": [
    {
     "data": {
      "text/plain": [
       "0.09835280122947343"
      ]
     },
     "execution_count": 12,
     "metadata": {},
     "output_type": "execute_result"
    }
   ],
   "source": [
    "esperanza = 2\n",
    "varianza = 0.04\n",
    "va = scipy.stats.norm()\n",
    "1-va.cdf(2/(math.sqrt(60) * 0.2))"
   ]
  },
  {
   "cell_type": "markdown",
   "id": "da770893",
   "metadata": {},
   "source": [
    "### Pregunta B"
   ]
  },
  {
   "cell_type": "code",
   "execution_count": 15,
   "id": "01f15455",
   "metadata": {},
   "outputs": [
    {
     "data": {
      "text/plain": [
       "1.6448536269514722"
      ]
     },
     "execution_count": 15,
     "metadata": {},
     "output_type": "execute_result"
    }
   ],
   "source": [
    "a = va.ppf(0.95)\n",
    "a"
   ]
  },
  {
   "cell_type": "code",
   "execution_count": 16,
   "id": "b3094c1b",
   "metadata": {},
   "outputs": [
    {
     "data": {
      "text/plain": [
       "2498.7259018591735"
      ]
     },
     "execution_count": 16,
     "metadata": {},
     "output_type": "execute_result"
    }
   ],
   "source": [
    "(((a * (math.sqrt(60) * 0.2))-5000)/2) * (-1)"
   ]
  },
  {
   "cell_type": "markdown",
   "id": "a2ff47e4",
   "metadata": {},
   "source": [
    "### Pregunta C"
   ]
  },
  {
   "cell_type": "code",
   "execution_count": 26,
   "id": "49237d4a",
   "metadata": {},
   "outputs": [
    {
     "data": {
      "text/plain": [
       "0.09835280122947343"
      ]
     },
     "execution_count": 26,
     "metadata": {},
     "output_type": "execute_result"
    }
   ],
   "source": [
    "esperanza = 2\n",
    "varianza = 0.04\n",
    "va = scipy.stats.norm(loc = esperanza*60, scale = math.sqrt(varianza*60))\n",
    "1 - va.cdf(122)"
   ]
  },
  {
   "cell_type": "code",
   "execution_count": 27,
   "id": "1673bf7f",
   "metadata": {},
   "outputs": [
    {
     "data": {
      "text/plain": [
       "122.54819628165276"
      ]
     },
     "execution_count": 27,
     "metadata": {},
     "output_type": "execute_result"
    }
   ],
   "source": [
    "a = va.ppf(0.95)\n",
    "a"
   ]
  },
  {
   "cell_type": "code",
   "execution_count": 25,
   "id": "f49f3702",
   "metadata": {},
   "outputs": [
    {
     "data": {
      "text/plain": [
       "2405.07457533868"
      ]
     },
     "execution_count": 25,
     "metadata": {},
     "output_type": "execute_result"
    }
   ],
   "source": [
    "(((a * (math.sqrt(60) * 0.2))-5000)/2) * (-1)"
   ]
  },
  {
   "cell_type": "markdown",
   "id": "eb876a69",
   "metadata": {},
   "source": [
    "## Ejercicio 8"
   ]
  },
  {
   "cell_type": "code",
   "execution_count": 36,
   "id": "15c416b0",
   "metadata": {},
   "outputs": [
    {
     "data": {
      "text/plain": [
       "0.7851397605118555"
      ]
     },
     "execution_count": 36,
     "metadata": {},
     "output_type": "execute_result"
    }
   ],
   "source": [
    "# A\n",
    "va = scipy.stats.norm()\n",
    "a = (74.5 - 80)/math.sqrt(100*.8*.2)\n",
    "b = (84.5 - 80)/math.sqrt(100*.8*.2)\n",
    "va.cdf(b) - va.cdf(a)"
   ]
  },
  {
   "cell_type": "code",
   "execution_count": 37,
   "id": "aa994f9f",
   "metadata": {},
   "outputs": [
    {
     "data": {
      "text/plain": [
       "0.5497382248301129"
      ]
     },
     "execution_count": 37,
     "metadata": {},
     "output_type": "execute_result"
    }
   ],
   "source": [
    "# B\n",
    "1-va.cdf(-0.5/4)"
   ]
  },
  {
   "cell_type": "code",
   "execution_count": 38,
   "id": "e7669174",
   "metadata": {},
   "outputs": [
    {
     "data": {
      "text/plain": [
       "0.5454057764671003"
      ]
     },
     "execution_count": 38,
     "metadata": {},
     "output_type": "execute_result"
    }
   ],
   "source": [
    "# C\n",
    "va.cdf(1/8) - va.cdf(-21/8)"
   ]
  },
  {
   "cell_type": "code",
   "execution_count": 39,
   "id": "72ccc27a",
   "metadata": {},
   "outputs": [
    {
     "data": {
      "text/plain": [
       "0.09947644966022584"
      ]
     },
     "execution_count": 39,
     "metadata": {},
     "output_type": "execute_result"
    }
   ],
   "source": [
    "# D\n",
    "va.cdf(1/8) - va.cdf(-1/8)"
   ]
  },
  {
   "cell_type": "markdown",
   "id": "3cd69aa9",
   "metadata": {},
   "source": [
    "## Ejercicio 9\n",
    "\n",
    "### Pregunta A"
   ]
  },
  {
   "cell_type": "code",
   "execution_count": 41,
   "id": "e6d64b9f",
   "metadata": {},
   "outputs": [
    {
     "data": {
      "text/plain": [
       "0.2812396002479417"
      ]
     },
     "execution_count": 41,
     "metadata": {},
     "output_type": "execute_result"
    }
   ],
   "source": [
    "esp = 1.8 + 3.8 + 4.1\n",
    "var = 0.1 + 0.18 + 0.25\n",
    "va = scipy.stats.norm()\n",
    "1 - va.cdf(8/math.sqrt(190.8))"
   ]
  },
  {
   "cell_type": "markdown",
   "id": "7865eb6a",
   "metadata": {},
   "source": [
    "### Pregunta B"
   ]
  },
  {
   "cell_type": "code",
   "execution_count": 46,
   "id": "44368a4d",
   "metadata": {},
   "outputs": [
    {
     "data": {
      "text/plain": [
       "-1.2815515655446004"
      ]
     },
     "execution_count": 46,
     "metadata": {},
     "output_type": "execute_result"
    }
   ],
   "source": [
    "k = va.ppf(0.1)\n",
    "k"
   ]
  },
  {
   "cell_type": "code",
   "execution_count": 45,
   "id": "621873ab",
   "metadata": {},
   "outputs": [],
   "source": [
    "def cuad(a,b,c):\n",
    "    disc = b**2 - 4*a*c\n",
    "    if (disc < 0):\n",
    "        return \"There are no real solutions\"\n",
    "    else:\n",
    "        return ((-b + math.sqrt(disc))/(2*a), (-b - math.sqrt(disc))/(2*a))"
   ]
  },
  {
   "cell_type": "code",
   "execution_count": 49,
   "id": "ebbea6e9",
   "metadata": {},
   "outputs": [],
   "source": [
    "a = 9.7\n",
    "b = k * math.sqrt(0.53)\n",
    "c = -3500\n",
    "res = cuad(a,b,c)"
   ]
  },
  {
   "cell_type": "code",
   "execution_count": 52,
   "id": "a4f26c7b",
   "metadata": {},
   "outputs": [
    {
     "data": {
      "text/plain": [
       "362.65642382830515"
      ]
     },
     "execution_count": 52,
     "metadata": {},
     "output_type": "execute_result"
    }
   ],
   "source": [
    "res[0] ** 2"
   ]
  },
  {
   "cell_type": "markdown",
   "id": "9203f96b",
   "metadata": {},
   "source": [
    "## Ejercicio 10"
   ]
  },
  {
   "cell_type": "code",
   "execution_count": 54,
   "id": "f8b8fd6d",
   "metadata": {},
   "outputs": [
    {
     "data": {
      "text/plain": [
       "0.15865525393145707"
      ]
     },
     "execution_count": 54,
     "metadata": {},
     "output_type": "execute_result"
    }
   ],
   "source": [
    "va = scipy.stats.norm()\n",
    "1 - va.cdf(1)"
   ]
  },
  {
   "cell_type": "markdown",
   "id": "cb6c4416",
   "metadata": {},
   "source": [
    "## Ejercicio 11\n",
    "\n",
    "### Pregunta A"
   ]
  },
  {
   "cell_type": "code",
   "execution_count": 55,
   "id": "eb1a99c6",
   "metadata": {},
   "outputs": [],
   "source": [
    "def TCL_suma(esp, var, n, x):\n",
    "    va = scipy.stats.norm()\n",
    "    k = (x - esp * n)/(math.sqrt(var*n))\n",
    "    return 1 - va.cdf(k)"
   ]
  },
  {
   "cell_type": "code",
   "execution_count": 71,
   "id": "85c4401f",
   "metadata": {},
   "outputs": [
    {
     "data": {
      "text/plain": [
       "0.04042779918502615"
      ]
     },
     "execution_count": 71,
     "metadata": {},
     "output_type": "execute_result"
    }
   ],
   "source": [
    "TCL_suma(0.5, 5.25, 100, 90)"
   ]
  },
  {
   "cell_type": "markdown",
   "id": "bc9b5550",
   "metadata": {},
   "source": [
    "### Pregunta B"
   ]
  },
  {
   "cell_type": "code",
   "execution_count": 77,
   "id": "fb09d13b",
   "metadata": {},
   "outputs": [
    {
     "data": {
      "text/plain": [
       "-0.8416212335729142"
      ]
     },
     "execution_count": 77,
     "metadata": {},
     "output_type": "execute_result"
    }
   ],
   "source": [
    "k = va.ppf(0.2)\n",
    "k"
   ]
  },
  {
   "cell_type": "code",
   "execution_count": 80,
   "id": "6b83421f",
   "metadata": {},
   "outputs": [
    {
     "data": {
      "text/plain": [
       "(15.482684131803653, -11.625891122473666)"
      ]
     },
     "execution_count": 80,
     "metadata": {},
     "output_type": "execute_result"
    }
   ],
   "source": [
    "a = 0.5\n",
    "b = k * math.sqrt(5.25)\n",
    "c = -90\n",
    "res = cuad(a,b,c)\n",
    "res"
   ]
  },
  {
   "cell_type": "code",
   "execution_count": 84,
   "id": "1a956d3c",
   "metadata": {},
   "outputs": [
    {
     "data": {
      "text/plain": [
       "239.71350792520465"
      ]
     },
     "execution_count": 84,
     "metadata": {},
     "output_type": "execute_result"
    }
   ],
   "source": [
    "r = res[0] ** 2\n",
    "r"
   ]
  },
  {
   "cell_type": "code",
   "execution_count": 86,
   "id": "c3f0c867",
   "metadata": {},
   "outputs": [
    {
     "data": {
      "text/plain": [
       "0.7999999999999998"
      ]
     },
     "execution_count": 86,
     "metadata": {},
     "output_type": "execute_result"
    }
   ],
   "source": [
    "# Prueba usando TCL\n",
    "TCL_suma(0.5, 5.25, r, 90)"
   ]
  },
  {
   "cell_type": "code",
   "execution_count": null,
   "id": "a476e59f",
   "metadata": {},
   "outputs": [],
   "source": []
  }
 ],
 "metadata": {
  "kernelspec": {
   "display_name": "Python 3 (ipykernel)",
   "language": "python",
   "name": "python3"
  },
  "language_info": {
   "codemirror_mode": {
    "name": "ipython",
    "version": 3
   },
   "file_extension": ".py",
   "mimetype": "text/x-python",
   "name": "python",
   "nbconvert_exporter": "python",
   "pygments_lexer": "ipython3",
   "version": "3.9.6"
  }
 },
 "nbformat": 4,
 "nbformat_minor": 5
}
