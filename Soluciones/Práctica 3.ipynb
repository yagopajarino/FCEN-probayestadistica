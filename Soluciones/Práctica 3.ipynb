{
 "cells": [
  {
   "cell_type": "markdown",
   "id": "edc48ba7",
   "metadata": {},
   "source": [
    "# Práctica 3"
   ]
  },
  {
   "cell_type": "code",
   "execution_count": 1,
   "id": "ae5ec0b9",
   "metadata": {},
   "outputs": [],
   "source": [
    "import scipy.stats\n",
    "import scipy.integrate\n",
    "import matplotlib.pyplot as plt\n",
    "import numpy as np\n",
    "import math"
   ]
  },
  {
   "cell_type": "markdown",
   "id": "77ce5556",
   "metadata": {},
   "source": [
    "## Ejercicio 1\n",
    "\n",
    "Sea X una v.a. con función de densidad\n",
    "\n",
    "$\n",
    "\\begin{equation}\n",
    "f_X (x) = \\begin{cases}\n",
    "      0,75(1-x^2) & -1 \\leq x \\leq 1\\\\\n",
    "      0 & \\text{en otro caso}\\\\\n",
    "    \\end{cases}       \n",
    "\\end{equation}$"
   ]
  },
  {
   "cell_type": "markdown",
   "id": "79588331",
   "metadata": {},
   "source": [
    "### Pregunta A\n",
    "\n",
    "Verificar que $f_X$ es realmente una función de densidad.\n",
    "\n",
    "Se prueba demostrando que la integral de la función de densidad entre $-\\infty$ y $\\infty$ es igual a cero.\n",
    "\n",
    "En este caso, en los intervalos $(-\\infty, -1)$ y $(1, \\infty)$ la integral toma valor cero, luego la integral en el intervalo $[-1,1]$ debe ser 1"
   ]
  },
  {
   "cell_type": "code",
   "execution_count": 2,
   "id": "8248dabc",
   "metadata": {},
   "outputs": [
    {
     "data": {
      "text/plain": [
       "1.0"
      ]
     },
     "execution_count": 2,
     "metadata": {},
     "output_type": "execute_result"
    }
   ],
   "source": [
    "def f(x):\n",
    "    return 0.75 * (1-x**2)\n",
    "scipy.integrate.quad(f, -1, 1)[0]"
   ]
  },
  {
   "cell_type": "markdown",
   "id": "6c4bd113",
   "metadata": {},
   "source": [
    "### Pregunta B\n",
    "\n",
    "Calcular:\n",
    "* a) $P (X > 0) $\n",
    "* b) $P (-0,5 < X < 0,5)$\n",
    "* c) $P (|X| > 0,25)$"
   ]
  },
  {
   "cell_type": "code",
   "execution_count": 3,
   "id": "8a641092",
   "metadata": {},
   "outputs": [
    {
     "name": "stdout",
     "output_type": "stream",
     "text": [
      "a = 0.49999999999999994\n",
      "b = 0.6875\n",
      "c = 0.6328125000000001\n"
     ]
    }
   ],
   "source": [
    "print(\"a = {}\".format(scipy.integrate.quad(f, 0, 1)[0]))\n",
    "print(\"b = {}\".format(scipy.integrate.quad(f, -1, 0.5)[0] - scipy.integrate.quad(f, -1, -0.5)[0]))\n",
    "print(\"c = {}\".format(scipy.integrate.quad(f, -1, -0.25)[0] + scipy.integrate.quad(f, 0.25, 1)[0]))"
   ]
  },
  {
   "cell_type": "markdown",
   "id": "9e3d09f2",
   "metadata": {},
   "source": [
    "### Pregunta C\n",
    "\n",
    "Hallar $F_X$, la función de distribución acumulada de $X$.\n",
    "\n",
    "La función de distribución acumulada toma un valor y devuelve el área debajo de la función de densidad hasta ese valor asignado, luego:"
   ]
  },
  {
   "cell_type": "code",
   "execution_count": 4,
   "id": "534276e9",
   "metadata": {},
   "outputs": [],
   "source": [
    "def F(x):\n",
    "    return 0.75 * (x-(x**3)/3) - 0.75 * ((-1)-((-1)**3)/3)"
   ]
  },
  {
   "cell_type": "markdown",
   "id": "a16a25a5",
   "metadata": {},
   "source": [
    "### Pregunta 4\n",
    "\n",
    "Graficar $f_X$ y $F_X$."
   ]
  },
  {
   "cell_type": "code",
   "execution_count": 5,
   "id": "0e122fca",
   "metadata": {},
   "outputs": [
    {
     "data": {
      "text/plain": [
       "Text(0.5, 1.0, 'Gráfico de la función densidad')"
      ]
     },
     "execution_count": 5,
     "metadata": {},
     "output_type": "execute_result"
    },
    {
     "data": {
      "image/png": "[encoded data removed]",
      "text/plain": [
       "<Figure size 432x288 with 1 Axes>"
      ]
     },
     "metadata": {
      "needs_background": "light"
     },
     "output_type": "display_data"
    }
   ],
   "source": [
    "x = -2\n",
    "xs = []\n",
    "ys = []\n",
    "while x < 2:\n",
    "    if (x < -1) or (x > 1):\n",
    "        xs.append(x)\n",
    "        ys.append(0)\n",
    "    else:\n",
    "        xs.append(x)\n",
    "        ys.append(f(x))\n",
    "    x += 0.1\n",
    "plt.plot(xs,ys)\n",
    "plt.title(\"Gráfico de la función densidad\")"
   ]
  },
  {
   "cell_type": "code",
   "execution_count": 6,
   "id": "6a03f233",
   "metadata": {
    "scrolled": true
   },
   "outputs": [
    {
     "data": {
      "text/plain": [
       "Text(0.5, 1.0, 'Gráfico de la distribución acumulada')"
      ]
     },
     "execution_count": 6,
     "metadata": {},
     "output_type": "execute_result"
    },
    {
     "data": {
      "image/png": "[encoded data removed]",
      "text/plain": [
       "<Figure size 432x288 with 1 Axes>"
      ]
     },
     "metadata": {
      "needs_background": "light"
     },
     "output_type": "display_data"
    }
   ],
   "source": [
    "x = -2\n",
    "xs = []\n",
    "ys = []\n",
    "while x < 2:\n",
    "    if (x < -1):\n",
    "        xs.append(x)\n",
    "        ys.append(0)\n",
    "    elif (x > 1):\n",
    "        xs.append(x)\n",
    "        ys.append(F(1))\n",
    "    else:\n",
    "        xs.append(x)\n",
    "        ys.append(F(x))\n",
    "    x += 0.1\n",
    "plt.plot(xs,ys)\n",
    "plt.title(\"Gráfico de la distribución acumulada\")"
   ]
  },
  {
   "cell_type": "markdown",
   "id": "32241302",
   "metadata": {},
   "source": [
    "## Ejercicio 2\n",
    "\n",
    "Sea $X$ una v.a. continua con función de distribución\n",
    "\n",
    "$\n",
    "\\begin{equation}\n",
    "F_X (x) = \\begin{cases} \n",
    "            0 & x < 0\\\\\n",
    "            \\frac{x^3}{\\theta} & 0 \\leq x < 2\\\\\n",
    "            1 & 2 \\leq x\n",
    "          \\end{cases}\n",
    "\\end{equation}$"
   ]
  },
  {
   "cell_type": "markdown",
   "id": "f0300565",
   "metadata": {},
   "source": [
    "### Pregunta B\n",
    "\n",
    "Calcular usando $F_X(x)$\n",
    "\n",
    "* a) $P(X\\leq 1)$\n",
    "* b) $P(0,5 \\leq X \\leq 1)$\n",
    "* c) $P(0,5 < X \\leq 1 | X <1)$"
   ]
  },
  {
   "cell_type": "code",
   "execution_count": 7,
   "id": "037cae35",
   "metadata": {},
   "outputs": [
    {
     "name": "stdout",
     "output_type": "stream",
     "text": [
      "a = 1.0\n",
      "a = 0.15625\n",
      "a = 0.15625\n"
     ]
    }
   ],
   "source": [
    "print(\"a = {}\".format(F(1)))\n",
    "print(\"a = {}\".format(F(1)-F(0.5)))\n",
    "print(\"a = {}\".format(F(1)-F(0.5)))"
   ]
  },
  {
   "cell_type": "markdown",
   "id": "a4c8d883",
   "metadata": {},
   "source": [
    "### Pregunta D\n",
    "\n",
    "Encontrar la función de densidad $f_X(x).$\n",
    "\n",
    "$f_X(x) = \\begin{cases}\n",
    "            \\frac{3}{8}x^2 & 0 < X < 2 \\\\\n",
    "            0 & \\text{sino}\n",
    "          \\end{cases}$"
   ]
  },
  {
   "cell_type": "markdown",
   "id": "058e8bda",
   "metadata": {},
   "source": [
    "### Pregunta E\n",
    "\n",
    "Graficar $f_X$ y $F_X$. Agregar la recta vertical $x = \\tilde\\mu$."
   ]
  },
  {
   "cell_type": "code",
   "execution_count": 8,
   "id": "3a0ad79d",
   "metadata": {},
   "outputs": [],
   "source": [
    "def f(x):\n",
    "    if (0 < x < 2):\n",
    "        return (3/8)*(x**2)\n",
    "    else:\n",
    "        return 0\n",
    "    \n",
    "def F(x):\n",
    "    if x < 0:\n",
    "        return 0\n",
    "    elif x >= 2:\n",
    "        return 1\n",
    "    else:\n",
    "        return (1/8)*(x**3)"
   ]
  },
  {
   "cell_type": "code",
   "execution_count": 9,
   "id": "62ef6645",
   "metadata": {},
   "outputs": [
    {
     "data": {
      "text/plain": [
       "Text(0.5, 1.0, 'Distribución')"
      ]
     },
     "execution_count": 9,
     "metadata": {},
     "output_type": "execute_result"
    },
    {
     "data": {
      "image/png": "[encoded data removed]",
      "text/plain": [
       "<Figure size 1152x360 with 2 Axes>"
      ]
     },
     "metadata": {
      "needs_background": "light"
     },
     "output_type": "display_data"
    }
   ],
   "source": [
    "x = -1\n",
    "xs, fy, Fy = [], [], []\n",
    "while x <= 3:\n",
    "    xs.append(x)\n",
    "    fy.append(f(x))\n",
    "    Fy.append(F(x))\n",
    "    x += 0.1\n",
    "    \n",
    "fig, (ax1, ax2) = plt.subplots(1,2,sharey=True,figsize=(16,5))\n",
    "ax1.plot(xs, fy)\n",
    "ax1.set_title(\"Densidad\")\n",
    "ax2.plot(xs, Fy)\n",
    "ax2.set_title(\"Distribución\")"
   ]
  },
  {
   "cell_type": "markdown",
   "id": "23b695a7",
   "metadata": {},
   "source": [
    "## Ejercicio 4"
   ]
  },
  {
   "cell_type": "markdown",
   "id": "6c796953",
   "metadata": {},
   "source": [
    "### Pregunta B"
   ]
  },
  {
   "cell_type": "code",
   "execution_count": 77,
   "id": "89d99bcc",
   "metadata": {},
   "outputs": [],
   "source": [
    "def f(y):\n",
    "    if (0<y<5):\n",
    "        return 1/25*y\n",
    "    elif (5<=y<10):\n",
    "        return 2/5-1/25*y\n",
    "    else:\n",
    "        return 0"
   ]
  },
  {
   "cell_type": "code",
   "execution_count": 78,
   "id": "7dfca236",
   "metadata": {},
   "outputs": [
    {
     "data": {
      "text/plain": [
       "(5.000000000000001, 5.551115123125783e-14)"
      ]
     },
     "execution_count": 78,
     "metadata": {},
     "output_type": "execute_result"
    }
   ],
   "source": [
    "# Esperanza de Y\n",
    "def inf(n):\n",
    "    return n*f(n)\n",
    "scipy.integrate.quad(inf, 0,10)"
   ]
  },
  {
   "cell_type": "code",
   "execution_count": 12,
   "id": "536189cf",
   "metadata": {},
   "outputs": [
    {
     "data": {
      "text/plain": [
       "54.16666666666667"
      ]
     },
     "execution_count": 12,
     "metadata": {},
     "output_type": "execute_result"
    }
   ],
   "source": [
    "# Varianza de y\n",
    "def varY(n):\n",
    "    return f(n) * (n**2)\n",
    "e2 = scipy.integrate.quad(varY,0,10)[0]\n",
    "e2 + 25"
   ]
  },
  {
   "cell_type": "markdown",
   "id": "e6845dcf",
   "metadata": {},
   "source": [
    "## Ejercicio 6"
   ]
  },
  {
   "cell_type": "code",
   "execution_count": 14,
   "id": "994c36f8",
   "metadata": {},
   "outputs": [
    {
     "data": {
      "text/plain": [
       "0.4772498680518208"
      ]
     },
     "execution_count": 14,
     "metadata": {},
     "output_type": "execute_result"
    }
   ],
   "source": [
    "# Pregunta A\n",
    "norm_rango(0,1,0,2)"
   ]
  },
  {
   "cell_type": "code",
   "execution_count": 15,
   "id": "dfa27d2b",
   "metadata": {},
   "outputs": [
    {
     "data": {
      "text/plain": [
       "0.9875806693484477"
      ]
     },
     "execution_count": 15,
     "metadata": {},
     "output_type": "execute_result"
    }
   ],
   "source": [
    "# Pregunta B\n",
    "norm_rango(0,1,-2.5,2.5)"
   ]
  },
  {
   "cell_type": "code",
   "execution_count": 16,
   "id": "7ddcba0d",
   "metadata": {},
   "outputs": [
    {
     "data": {
      "text/plain": [
       "0.914656549178033"
      ]
     },
     "execution_count": 16,
     "metadata": {},
     "output_type": "execute_result"
    }
   ],
   "source": [
    "# Pregunta C\n",
    "norm_rango(0,1,-1.37,np.inf)"
   ]
  },
  {
   "cell_type": "code",
   "execution_count": 17,
   "id": "4fd0aa4c",
   "metadata": {},
   "outputs": [
    {
     "data": {
      "text/plain": [
       "2.0537489106318225"
      ]
     },
     "execution_count": 17,
     "metadata": {},
     "output_type": "execute_result"
    }
   ],
   "source": [
    "# Pregunta D\n",
    "scipy.stats.norm.ppf(0.98)"
   ]
  },
  {
   "cell_type": "code",
   "execution_count": 18,
   "id": "e4c8bfc1",
   "metadata": {},
   "outputs": [
    {
     "data": {
      "text/plain": [
       "1.6448536269514722"
      ]
     },
     "execution_count": 18,
     "metadata": {},
     "output_type": "execute_result"
    }
   ],
   "source": [
    "v = scipy.stats.norm.ppf(0.95)\n",
    "v"
   ]
  },
  {
   "cell_type": "code",
   "execution_count": 19,
   "id": "035bedb2",
   "metadata": {},
   "outputs": [
    {
     "data": {
      "text/plain": [
       "0.8999999999999999"
      ]
     },
     "execution_count": 19,
     "metadata": {},
     "output_type": "execute_result"
    }
   ],
   "source": [
    "norm_rango(0,1,-v,v)"
   ]
  },
  {
   "cell_type": "markdown",
   "id": "73f44ef3",
   "metadata": {},
   "source": [
    "## Ejercicio 7"
   ]
  },
  {
   "cell_type": "code",
   "execution_count": 20,
   "id": "51f75455",
   "metadata": {},
   "outputs": [
    {
     "data": {
      "text/plain": [
       "0.532807207342556"
      ]
     },
     "execution_count": 20,
     "metadata": {},
     "output_type": "execute_result"
    }
   ],
   "source": [
    "#Pregunta A\n",
    "norm_rango(5,0.5, 4.75, 5.5)"
   ]
  },
  {
   "cell_type": "code",
   "execution_count": 21,
   "id": "9c38be18",
   "metadata": {},
   "outputs": [
    {
     "data": {
      "text/plain": [
       "0.3085375387259869"
      ]
     },
     "execution_count": 21,
     "metadata": {},
     "output_type": "execute_result"
    }
   ],
   "source": [
    "# Pregunta B\n",
    "norm_rango(5,0.5,desde=5.25) + norm_rango(5,0.5,hasta=-5.25)"
   ]
  },
  {
   "cell_type": "code",
   "execution_count": 22,
   "id": "cb88b956",
   "metadata": {},
   "outputs": [
    {
     "data": {
      "text/plain": [
       "5.6407757827723"
      ]
     },
     "execution_count": 22,
     "metadata": {},
     "output_type": "execute_result"
    }
   ],
   "source": [
    "# Pregunta D\n",
    "scipy.stats.norm.ppf(.9) * 0.5 + 5"
   ]
  },
  {
   "cell_type": "code",
   "execution_count": 23,
   "id": "dfb6031f",
   "metadata": {},
   "outputs": [
    {
     "data": {
      "text/plain": [
       "5.6407757827723"
      ]
     },
     "execution_count": 23,
     "metadata": {},
     "output_type": "execute_result"
    }
   ],
   "source": [
    "scipy.stats.norm.ppf(.9, loc=5, scale=0.5)"
   ]
  },
  {
   "cell_type": "markdown",
   "id": "71afbd0c",
   "metadata": {},
   "source": [
    "## Ejercicio 8"
   ]
  },
  {
   "cell_type": "code",
   "execution_count": 24,
   "id": "47c1b1ad",
   "metadata": {},
   "outputs": [],
   "source": [
    "a = scipy.stats.norm.ppf(0.58)\n",
    "b = scipy.stats.norm.ppf(0.96)\n",
    "c = b-a\n",
    "t = 5/c\n",
    "mu = 75 - t*a"
   ]
  },
  {
   "cell_type": "code",
   "execution_count": 25,
   "id": "fd46b35c",
   "metadata": {},
   "outputs": [
    {
     "name": "stdout",
     "output_type": "stream",
     "text": [
      "P(I < 75) = 0.5800000000000004\n",
      "P(I > 80) = 0.039999999999999925\n"
     ]
    }
   ],
   "source": [
    "# Definición de la normal\n",
    "loc = mu\n",
    "s = t\n",
    "print(\"P(I < 75) = {}\".format(scipy.stats.norm.cdf(75, loc, s)))\n",
    "print(\"P(I > 80) = {}\".format(1-scipy.stats.norm.cdf(80, loc, s)))"
   ]
  },
  {
   "cell_type": "code",
   "execution_count": 26,
   "id": "8db42c79",
   "metadata": {},
   "outputs": [
    {
     "name": "stdout",
     "output_type": "stream",
     "text": [
      "74.34822299586686 3.228321226141206\n"
     ]
    }
   ],
   "source": [
    "print(mu, t)"
   ]
  },
  {
   "cell_type": "code",
   "execution_count": 27,
   "id": "7666fa0b",
   "metadata": {},
   "outputs": [
    {
     "data": {
      "text/plain": [
       "0.12010281832230629"
      ]
     },
     "execution_count": 27,
     "metadata": {},
     "output_type": "execute_result"
    }
   ],
   "source": [
    "n1 = (78-mu)/t\n",
    "n2 = (82-mu)/t\n",
    "norm_rango(0,1, n1, n2)"
   ]
  },
  {
   "cell_type": "code",
   "execution_count": 28,
   "id": "26c998d1",
   "metadata": {},
   "outputs": [
    {
     "data": {
      "text/plain": [
       "0.12010281832230629"
      ]
     },
     "execution_count": 28,
     "metadata": {},
     "output_type": "execute_result"
    }
   ],
   "source": [
    "scipy.stats.norm.cdf(82, mu, t) - scipy.stats.norm.cdf(78, mu, t)"
   ]
  },
  {
   "cell_type": "markdown",
   "id": "208c1f70",
   "metadata": {},
   "source": [
    "## Ejercicio 9"
   ]
  },
  {
   "cell_type": "code",
   "execution_count": 29,
   "id": "f03cd6d5",
   "metadata": {},
   "outputs": [
    {
     "data": {
      "text/plain": [
       "0.17466632194020804"
      ]
     },
     "execution_count": 29,
     "metadata": {},
     "output_type": "execute_result"
    }
   ],
   "source": [
    "norm_rango(desde=0.25, hasta=0.75)"
   ]
  },
  {
   "cell_type": "markdown",
   "id": "723e524a",
   "metadata": {},
   "source": [
    "## Ejercicio 11"
   ]
  },
  {
   "cell_type": "code",
   "execution_count": 30,
   "id": "a15cbe5c",
   "metadata": {},
   "outputs": [],
   "source": [
    "def f(x):\n",
    "    if (0 <= x <= 100):\n",
    "        return 1/5000 * (100-x)\n",
    "    else:\n",
    "        return 0"
   ]
  },
  {
   "cell_type": "code",
   "execution_count": 31,
   "id": "12905e83",
   "metadata": {},
   "outputs": [
    {
     "data": {
      "text/plain": [
       "(0.9999999999999999, 1.1102230246251564e-14)"
      ]
     },
     "execution_count": 31,
     "metadata": {},
     "output_type": "execute_result"
    }
   ],
   "source": [
    "scipy.integrate.quad(f, 0,100)"
   ]
  },
  {
   "cell_type": "code",
   "execution_count": 32,
   "id": "838d747a",
   "metadata": {},
   "outputs": [],
   "source": [
    "def F(x):\n",
    "    if x <= 0:\n",
    "        return 0\n",
    "    elif x >= 100:\n",
    "        return 1\n",
    "    else:\n",
    "        return x/50 - ((x**2)/10000)"
   ]
  },
  {
   "cell_type": "code",
   "execution_count": 33,
   "id": "d5939c6d",
   "metadata": {},
   "outputs": [
    {
     "name": "stdout",
     "output_type": "stream",
     "text": [
      "0.4375\n",
      "0.3125\n",
      "0.1875\n",
      "0.0625\n"
     ]
    }
   ],
   "source": [
    "l = [25,50,75,100]\n",
    "for x in range(4):\n",
    "    if x == 0:\n",
    "        print(F(l[x]))\n",
    "    else:\n",
    "        print(F(l[x])-F(l[x-1]))"
   ]
  },
  {
   "cell_type": "markdown",
   "id": "85964f9a",
   "metadata": {},
   "source": [
    "## Ejercicio 12"
   ]
  },
  {
   "cell_type": "code",
   "execution_count": 34,
   "id": "9a86045f",
   "metadata": {},
   "outputs": [],
   "source": [
    "def f(x):\n",
    "    if (0<=x<=10):\n",
    "        return 1/50 * x\n",
    "    else:\n",
    "        return 0    "
   ]
  },
  {
   "cell_type": "code",
   "execution_count": 35,
   "id": "f62ce994",
   "metadata": {},
   "outputs": [
    {
     "data": {
      "text/plain": [
       "0.9999999999934082"
      ]
     },
     "execution_count": 35,
     "metadata": {},
     "output_type": "execute_result"
    }
   ],
   "source": [
    "# Prueba de función densidad\n",
    "scipy.integrate.quad(f, -np.inf, np.inf)[0]"
   ]
  },
  {
   "cell_type": "code",
   "execution_count": 36,
   "id": "4a102629",
   "metadata": {},
   "outputs": [],
   "source": [
    "def F(x):\n",
    "    if x<=0:\n",
    "        return 0\n",
    "    elif x>=10:\n",
    "        return 1\n",
    "    else:\n",
    "        return (x**2)/100"
   ]
  },
  {
   "cell_type": "code",
   "execution_count": 37,
   "id": "7c727bae",
   "metadata": {},
   "outputs": [
    {
     "data": {
      "text/plain": [
       "0.20000000000000004"
      ]
     },
     "execution_count": 37,
     "metadata": {},
     "output_type": "execute_result"
    }
   ],
   "source": [
    "# Pregunta B\n",
    "scipy.integrate.quad(f, 4, 6)[0]"
   ]
  },
  {
   "cell_type": "code",
   "execution_count": 38,
   "id": "b0e11e0f",
   "metadata": {},
   "outputs": [
    {
     "data": {
      "text/plain": [
       "0.19999999999999998"
      ]
     },
     "execution_count": 38,
     "metadata": {},
     "output_type": "execute_result"
    }
   ],
   "source": [
    "F(6) - F(4)"
   ]
  },
  {
   "cell_type": "code",
   "execution_count": 39,
   "id": "8781c39e",
   "metadata": {},
   "outputs": [
    {
     "data": {
      "text/plain": [
       "0.14666666666666664"
      ]
     },
     "execution_count": 39,
     "metadata": {},
     "output_type": "execute_result"
    }
   ],
   "source": [
    "# Pregunta C\n",
    "(F(6) - F(5))/(1-F(5))"
   ]
  },
  {
   "cell_type": "markdown",
   "id": "49d5a99c",
   "metadata": {},
   "source": [
    "## Pregunta D"
   ]
  },
  {
   "cell_type": "code",
   "execution_count": 40,
   "id": "8248adde",
   "metadata": {},
   "outputs": [
    {
     "data": {
      "text/plain": [
       "0.09600000000000002"
      ]
     },
     "execution_count": 40,
     "metadata": {},
     "output_type": "execute_result"
    }
   ],
   "source": [
    "va = scipy.stats.binom(3,0.2)\n",
    "va.pmf(2)"
   ]
  },
  {
   "cell_type": "markdown",
   "id": "917cf1d7",
   "metadata": {},
   "source": [
    "## Pregunta E"
   ]
  },
  {
   "cell_type": "code",
   "execution_count": 41,
   "id": "2ec4a3e2",
   "metadata": {},
   "outputs": [
    {
     "data": {
      "text/plain": [
       "21"
      ]
     },
     "execution_count": 41,
     "metadata": {},
     "output_type": "execute_result"
    }
   ],
   "source": [
    "n = 0\n",
    "p = 0\n",
    "while p < .99:\n",
    "    p = 1-scipy.stats.binom(n, 0.2).pmf(0)\n",
    "    n += 1\n",
    "\n",
    "n-1"
   ]
  },
  {
   "cell_type": "markdown",
   "id": "05e6a39e",
   "metadata": {},
   "source": [
    "## Ejercicio 13"
   ]
  },
  {
   "cell_type": "code",
   "execution_count": 42,
   "id": "77245106",
   "metadata": {},
   "outputs": [],
   "source": [
    "p1 = 0.35\n",
    "p2 = 0.65\n",
    "n1 = scipy.stats.norm(loc=1.9, scale=0.4)\n",
    "n2 = scipy.stats.norm(loc=2.2, scale=0.3)"
   ]
  },
  {
   "cell_type": "markdown",
   "id": "c6f1ff81",
   "metadata": {},
   "source": [
    "### Pregunta A"
   ]
  },
  {
   "cell_type": "code",
   "execution_count": 43,
   "id": "680355a5",
   "metadata": {},
   "outputs": [
    {
     "data": {
      "text/plain": [
       "0.5178512674359491"
      ]
     },
     "execution_count": 43,
     "metadata": {},
     "output_type": "execute_result"
    }
   ],
   "source": [
    "A = (1-n1.cdf(2.1)) * p1 + (1-n2.cdf(2.1)) * p2\n",
    "A"
   ]
  },
  {
   "cell_type": "code",
   "execution_count": 44,
   "id": "9d897744",
   "metadata": {},
   "outputs": [
    {
     "data": {
      "text/plain": [
       "0.5178512674359491"
      ]
     },
     "execution_count": 44,
     "metadata": {},
     "output_type": "execute_result"
    }
   ],
   "source": [
    "norm_rango(1.9,0.4,2.1) * p1 + norm_rango(2.2, 0.3, 2.1) * p2"
   ]
  },
  {
   "cell_type": "markdown",
   "id": "06e2856e",
   "metadata": {},
   "source": [
    "### Pregunta B"
   ]
  },
  {
   "cell_type": "code",
   "execution_count": 45,
   "id": "8d6f72bc",
   "metadata": {},
   "outputs": [
    {
     "data": {
      "text/plain": [
       "0.2085311851968229"
      ]
     },
     "execution_count": 45,
     "metadata": {},
     "output_type": "execute_result"
    }
   ],
   "source": [
    "(1-n1.cdf(2.1)) * p1 / A"
   ]
  },
  {
   "cell_type": "markdown",
   "id": "688b6f90",
   "metadata": {},
   "source": [
    "## Ejercicio 14"
   ]
  },
  {
   "cell_type": "code",
   "execution_count": 46,
   "id": "66ca17a2",
   "metadata": {},
   "outputs": [],
   "source": [
    "def f(x):\n",
    "    if (0 < x < 1):\n",
    "        return 4*(x**3)\n",
    "    else:\n",
    "        return 0"
   ]
  },
  {
   "cell_type": "code",
   "execution_count": 47,
   "id": "1ec5b5bf",
   "metadata": {},
   "outputs": [],
   "source": [
    "def F(x):\n",
    "    if x < 0:\n",
    "        return 0\n",
    "    elif x > 1:\n",
    "        return 1\n",
    "    else:\n",
    "        return x**4"
   ]
  },
  {
   "cell_type": "markdown",
   "id": "da50bf07",
   "metadata": {},
   "source": [
    "### Pregunta A"
   ]
  },
  {
   "cell_type": "code",
   "execution_count": 48,
   "id": "ab566bd8",
   "metadata": {},
   "outputs": [
    {
     "data": {
      "text/plain": [
       "Text(0.9408964152537145, 0.2, 'Median')"
      ]
     },
     "execution_count": 48,
     "metadata": {},
     "output_type": "execute_result"
    },
    {
     "data": {
      "image/png": "[encoded data removed]",
      "text/plain": [
       "<Figure size 1152x360 with 2 Axes>"
      ]
     },
     "metadata": {
      "needs_background": "light"
     },
     "output_type": "display_data"
    }
   ],
   "source": [
    "fig, (ax1, ax2) = plt.subplots(1,2, figsize=(16,5))\n",
    "\n",
    "# Plot de f(x)\n",
    "n = -0.5\n",
    "xs = []\n",
    "ys = []\n",
    "while n <= 1.5:\n",
    "    xs.append(n)\n",
    "    ys.append(f(n))\n",
    "    n += 0.01\n",
    "\n",
    "ax1.plot(xs, ys)\n",
    "ax1.set_title(\"Función de densidad\")\n",
    "\n",
    "# Plot de F(x)\n",
    "n = -0.5\n",
    "xs = []\n",
    "ys = []\n",
    "while n <= 1.5:\n",
    "    xs.append(n)\n",
    "    ys.append(F(n))\n",
    "    n += 0.01\n",
    "\n",
    "ax2.plot(xs, ys)\n",
    "ax2.set_title(\"Distribución de probabilidades\")\n",
    "median = 0.5**(1/4)\n",
    "ax2.vlines(median, 0, F(median),color=\"red\")\n",
    "ax2.text(median + 0.1, 0.2, \"Median\", color=\"red\")"
   ]
  },
  {
   "cell_type": "markdown",
   "id": "525fc8f9",
   "metadata": {},
   "source": [
    "### Pregunta B"
   ]
  },
  {
   "cell_type": "code",
   "execution_count": 49,
   "id": "495e65df",
   "metadata": {},
   "outputs": [],
   "source": [
    "def Z(x):\n",
    "    if x < 0:\n",
    "        return 1\n",
    "    elif x > 1:\n",
    "        return 0\n",
    "    else:\n",
    "        return 1-(x**4)"
   ]
  },
  {
   "cell_type": "code",
   "execution_count": 50,
   "id": "b6440d71",
   "metadata": {},
   "outputs": [],
   "source": [
    "def z(x):\n",
    "    if 0 < x < 1:\n",
    "        return -4*(x**3)\n",
    "    else: return 0"
   ]
  },
  {
   "cell_type": "code",
   "execution_count": 51,
   "id": "2375908e",
   "metadata": {},
   "outputs": [
    {
     "data": {
      "image/png": "[encoded data removed]",
      "text/plain": [
       "<Figure size 1152x360 with 2 Axes>"
      ]
     },
     "metadata": {
      "needs_background": "light"
     },
     "output_type": "display_data"
    }
   ],
   "source": [
    "fig, (ax1, ax2) = plt.subplots(1,2, figsize=(16,5))\n",
    "\n",
    "# Plot de f(x)\n",
    "n = -0.5\n",
    "xs = []\n",
    "ys = []\n",
    "while n <= 1.5:\n",
    "    xs.append(n)\n",
    "    ys.append(z(n))\n",
    "    n += 0.01\n",
    "\n",
    "ax1.plot(xs, ys)\n",
    "ax1.set_title(\"Función de densidad\")\n",
    "\n",
    "# Plot de F(x)\n",
    "n = -0.5\n",
    "xs = []\n",
    "ys = []\n",
    "while n <= 1.5:\n",
    "    xs.append(n)\n",
    "    ys.append(Z(n))\n",
    "    n += 0.01\n",
    "\n",
    "ax2.plot(xs, ys)\n",
    "ax2.set_title(\"Distribución de probabilidades\")\n",
    "median = 0.5**(1/4)"
   ]
  },
  {
   "cell_type": "markdown",
   "id": "401306b1",
   "metadata": {},
   "source": [
    "## Ejercicio 15"
   ]
  },
  {
   "cell_type": "code",
   "execution_count": 52,
   "id": "2b11f075",
   "metadata": {},
   "outputs": [],
   "source": [
    "def f(x):\n",
    "    if 0 < x < np.inf:\n",
    "        return x * np.e ** (-(x**2)/2)\n",
    "    else: return 0"
   ]
  },
  {
   "cell_type": "markdown",
   "id": "f34ce424",
   "metadata": {},
   "source": [
    "### Pregunta A"
   ]
  },
  {
   "cell_type": "code",
   "execution_count": 53,
   "id": "a52938f4",
   "metadata": {},
   "outputs": [],
   "source": [
    "def F(x):\n",
    "    if x < 0:\n",
    "        return 0\n",
    "    else:\n",
    "        return (-np.e ** (-(x**2)/2)) +1"
   ]
  },
  {
   "cell_type": "code",
   "execution_count": 54,
   "id": "771cfd0d",
   "metadata": {},
   "outputs": [
    {
     "data": {
      "text/plain": [
       "Text(0.5, 1.0, 'Distribución de probabilidades')"
      ]
     },
     "execution_count": 54,
     "metadata": {},
     "output_type": "execute_result"
    },
    {
     "data": {
      "image/png": "[encoded data removed]",
      "text/plain": [
       "<Figure size 1152x360 with 2 Axes>"
      ]
     },
     "metadata": {
      "needs_background": "light"
     },
     "output_type": "display_data"
    }
   ],
   "source": [
    "fig, (ax1, ax2) = plt.subplots(1,2, figsize=(16,5))\n",
    "\n",
    "# Plot de f(x)\n",
    "n = -0.5\n",
    "xs = []\n",
    "ys = []\n",
    "while n <= 10:\n",
    "    xs.append(n)\n",
    "    ys.append(f(n))\n",
    "    n += 0.01\n",
    "\n",
    "ax1.plot(xs, ys)\n",
    "ax1.set_title(\"Función de densidad\")\n",
    "\n",
    "# Plot de F(x)\n",
    "n = -0.5\n",
    "xs = []\n",
    "ys = []\n",
    "while n <= 10:\n",
    "    xs.append(n)\n",
    "    ys.append(F(n))\n",
    "    n += 0.01\n",
    "\n",
    "ax2.plot(xs, ys)\n",
    "ax2.set_title(\"Distribución de probabilidades\")"
   ]
  },
  {
   "cell_type": "markdown",
   "id": "7988f563",
   "metadata": {},
   "source": [
    "### Pregunta B"
   ]
  },
  {
   "cell_type": "code",
   "execution_count": 55,
   "id": "bf384965",
   "metadata": {},
   "outputs": [
    {
     "data": {
      "text/plain": [
       "0.3934693402873666"
      ]
     },
     "execution_count": 55,
     "metadata": {},
     "output_type": "execute_result"
    }
   ],
   "source": [
    "F(1)"
   ]
  },
  {
   "cell_type": "markdown",
   "id": "906648a9",
   "metadata": {},
   "source": [
    "## Ejercicio 16"
   ]
  },
  {
   "cell_type": "markdown",
   "id": "f903a0ea",
   "metadata": {},
   "source": [
    "### Pregunta A"
   ]
  },
  {
   "cell_type": "code",
   "execution_count": 56,
   "id": "8f882787",
   "metadata": {},
   "outputs": [
    {
     "data": {
      "text/plain": [
       "0.03999999999999925"
      ]
     },
     "execution_count": 56,
     "metadata": {},
     "output_type": "execute_result"
    }
   ],
   "source": [
    "l = 1\n",
    "r = 0\n",
    "while r < 0.4492:\n",
    "    va = scipy.stats.expon(scale=1/l)\n",
    "    r = 1 - va.cdf(20)\n",
    "    l -= 0.01\n",
    "l + 0.01"
   ]
  },
  {
   "cell_type": "code",
   "execution_count": 57,
   "id": "a3b0c425",
   "metadata": {},
   "outputs": [
    {
     "data": {
      "text/plain": [
       "0.44932896411722834"
      ]
     },
     "execution_count": 57,
     "metadata": {},
     "output_type": "execute_result"
    }
   ],
   "source": [
    "r"
   ]
  },
  {
   "cell_type": "markdown",
   "id": "3744d4b3",
   "metadata": {},
   "source": [
    "### Pregunta B"
   ]
  },
  {
   "cell_type": "code",
   "execution_count": 58,
   "id": "70ab933d",
   "metadata": {},
   "outputs": [
    {
     "data": {
      "text/plain": [
       "0.6703200460356393"
      ]
     },
     "execution_count": 58,
     "metadata": {},
     "output_type": "execute_result"
    }
   ],
   "source": [
    "1 - scipy.stats.expon.cdf(10, scale=1/0.04)"
   ]
  },
  {
   "cell_type": "markdown",
   "id": "2d7c1079",
   "metadata": {},
   "source": [
    "## Ejercicio 17"
   ]
  },
  {
   "cell_type": "code",
   "execution_count": 59,
   "id": "20e44b9a",
   "metadata": {},
   "outputs": [],
   "source": [
    "va = scipy.stats.expon(scale=1/4)"
   ]
  },
  {
   "cell_type": "code",
   "execution_count": 60,
   "id": "9132f25e",
   "metadata": {},
   "outputs": [
    {
     "data": {
      "text/plain": [
       "0.6321205588285577"
      ]
     },
     "execution_count": 60,
     "metadata": {},
     "output_type": "execute_result"
    }
   ],
   "source": [
    "va.cdf(.25)"
   ]
  },
  {
   "cell_type": "markdown",
   "id": "9aa7dadd",
   "metadata": {},
   "source": [
    "## Ejercicio 19"
   ]
  },
  {
   "cell_type": "code",
   "execution_count": 64,
   "id": "5160d98f",
   "metadata": {},
   "outputs": [
    {
     "data": {
      "text/plain": [
       "0.1353352832366127"
      ]
     },
     "execution_count": 64,
     "metadata": {},
     "output_type": "execute_result"
    }
   ],
   "source": [
    "X = scipy.stats.expon(scale=1)\n",
    "p = 1-X.cdf(2)\n",
    "p"
   ]
  },
  {
   "cell_type": "code",
   "execution_count": 66,
   "id": "1dac3c99",
   "metadata": {},
   "outputs": [
    {
     "data": {
      "text/plain": [
       "0.35353768522030193"
      ]
     },
     "execution_count": 66,
     "metadata": {},
     "output_type": "execute_result"
    }
   ],
   "source": [
    "Y = scipy.stats.binom(n=3, p=p)\n",
    "1-Y.pmf(0)"
   ]
  },
  {
   "cell_type": "code",
   "execution_count": 67,
   "id": "556434ee",
   "metadata": {},
   "outputs": [
    {
     "data": {
      "text/plain": [
       "0.04751066013620349"
      ]
     },
     "execution_count": 67,
     "metadata": {},
     "output_type": "execute_result"
    }
   ],
   "source": [
    "Y.pmf(2)"
   ]
  },
  {
   "cell_type": "markdown",
   "id": "726bbfbc",
   "metadata": {},
   "source": [
    "## Ejercicio 20"
   ]
  },
  {
   "cell_type": "code",
   "execution_count": null,
   "id": "83582ac4",
   "metadata": {},
   "outputs": [],
   "source": []
  }
 ],
 "metadata": {
  "kernelspec": {
   "display_name": "Python 3 (ipykernel)",
   "language": "python",
   "name": "python3"
  },
  "language_info": {
   "codemirror_mode": {
    "name": "ipython",
    "version": 3
   },
   "file_extension": ".py",
   "mimetype": "text/x-python",
   "name": "python",
   "nbconvert_exporter": "python",
   "pygments_lexer": "ipython3",
   "version": "3.9.6"
  }
 },
 "nbformat": 4,
 "nbformat_minor": 5
}
