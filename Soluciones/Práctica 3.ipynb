{
 "cells": [
  {
   "cell_type": "markdown",
   "id": "edc48ba7",
   "metadata": {},
   "source": [
    "# Práctica 3"
   ]
  },
  {
   "cell_type": "code",
   "execution_count": 7,
   "id": "ae5ec0b9",
   "metadata": {},
   "outputs": [],
   "source": [
    "import scipy.stats\n",
    "import scipy.integrate\n",
    "import matplotlib.pyplot as plt"
   ]
  },
  {
   "cell_type": "markdown",
   "id": "77ce5556",
   "metadata": {},
   "source": [
    "## Ejercicio 1\n",
    "\n",
    "Sea X una v.a. con función de densidad\n",
    "\n",
    "$\n",
    "\\begin{equation}\n",
    "f_X (x) = \\begin{cases}\n",
    "      0,75(1-x^2) & -1 \\leq x \\leq 1\\\\\n",
    "      0 & \\text{en otro caso}\\\\\n",
    "    \\end{cases}       \n",
    "\\end{equation}$"
   ]
  },
  {
   "cell_type": "markdown",
   "id": "79588331",
   "metadata": {},
   "source": [
    "### Pregunta A\n",
    "\n",
    "Verificar que $f_X$ es realmente una función de densidad.\n",
    "\n",
    "Se prueba demostrando que la integral de la función de densidad entre $-\\infty$ y $\\infty$ es igual a cero.\n",
    "\n",
    "En este caso, en los intervalos $(-\\infty, -1)$ y $(1, \\infty)$ la integral toma valor cero, luego la integral en el intervalo $[-1,1]$ debe ser 1"
   ]
  },
  {
   "cell_type": "code",
   "execution_count": 6,
   "id": "8248dabc",
   "metadata": {},
   "outputs": [
    {
     "data": {
      "text/plain": [
       "1.0"
      ]
     },
     "execution_count": 6,
     "metadata": {},
     "output_type": "execute_result"
    }
   ],
   "source": [
    "def f(x):\n",
    "    return 0.75 * (1-x**2)\n",
    "scipy.integrate.quad(f, -1, 1)[0]"
   ]
  },
  {
   "cell_type": "markdown",
   "id": "6c4bd113",
   "metadata": {},
   "source": [
    "### Pregunta B\n",
    "\n",
    "Calcular:\n",
    "* a) $P (X > 0) $\n",
    "* b) $P (-0,5 < X < 0,5)$\n",
    "* c) $P (|X| > 0,25)$"
   ]
  },
  {
   "cell_type": "code",
   "execution_count": 33,
   "id": "8a641092",
   "metadata": {},
   "outputs": [
    {
     "name": "stdout",
     "output_type": "stream",
     "text": [
      "a = 0.49999999999999994\n",
      "b = 0.6875\n",
      "c = 0.6328125000000001\n"
     ]
    }
   ],
   "source": [
    "print(\"a = {}\".format(scipy.integrate.quad(f, 0, 1)[0]))\n",
    "print(\"b = {}\".format(scipy.integrate.quad(f, -1, 0.5)[0] - scipy.integrate.quad(f, -1, -0.5)[0]))\n",
    "print(\"c = {}\".format(scipy.integrate.quad(f, -1, -0.25)[0] + scipy.integrate.quad(f, 0.25, 1)[0]))"
   ]
  },
  {
   "cell_type": "markdown",
   "id": "9e3d09f2",
   "metadata": {},
   "source": [
    "### Pregunta C\n",
    "\n",
    "Hallar $F_X$, la función de distribución acumulada de $X$.\n",
    "\n",
    "La función de distribución acumulada toma un valor y devuelve el área debajo de la función de densidad hasta ese valor asignado, luego:"
   ]
  },
  {
   "cell_type": "code",
   "execution_count": 79,
   "id": "534276e9",
   "metadata": {},
   "outputs": [],
   "source": [
    "def F(x):\n",
    "    return 0.75 * (x-(x**3)/3) - 0.75 * ((-1)-((-1)**3)/3)"
   ]
  },
  {
   "cell_type": "markdown",
   "id": "a16a25a5",
   "metadata": {},
   "source": [
    "### Pregunta 4\n",
    "\n",
    "Graficar $f_X$ y $F_X$."
   ]
  },
  {
   "cell_type": "code",
   "execution_count": 85,
   "id": "0e122fca",
   "metadata": {},
   "outputs": [
    {
     "data": {
      "text/plain": [
       "Text(0.5, 1.0, 'Gráfico de la función densidad')"
      ]
     },
     "execution_count": 85,
     "metadata": {},
     "output_type": "execute_result"
    },
    {
     "data": {
      "image/png": "[encoded data removed]",
      "text/plain": [
       "<Figure size 432x288 with 1 Axes>"
      ]
     },
     "metadata": {
      "needs_background": "light"
     },
     "output_type": "display_data"
    }
   ],
   "source": [
    "x = -2\n",
    "xs = []\n",
    "ys = []\n",
    "while x < 2:\n",
    "    if (x < -1) or (x > 1):\n",
    "        xs.append(x)\n",
    "        ys.append(0)\n",
    "    else:\n",
    "        xs.append(x)\n",
    "        ys.append(f(x))\n",
    "    x += 0.1\n",
    "plt.plot(xs,ys)\n",
    "plt.title(\"Gráfico de la función densidad\")"
   ]
  },
  {
   "cell_type": "code",
   "execution_count": 82,
   "id": "6a03f233",
   "metadata": {
    "scrolled": true
   },
   "outputs": [
    {
     "data": {
      "text/plain": [
       "Text(0.5, 1.0, 'Gráfico de la distribución acumulada')"
      ]
     },
     "execution_count": 82,
     "metadata": {},
     "output_type": "execute_result"
    },
    {
     "data": {
      "image/png": "[encoded data removed]",
      "text/plain": [
       "<Figure size 432x288 with 1 Axes>"
      ]
     },
     "metadata": {
      "needs_background": "light"
     },
     "output_type": "display_data"
    }
   ],
   "source": [
    "x = -2\n",
    "xs = []\n",
    "ys = []\n",
    "while x < 2:\n",
    "    if (x < -1):\n",
    "        xs.append(x)\n",
    "        ys.append(0)\n",
    "    elif (x > 1):\n",
    "        xs.append(x)\n",
    "        ys.append(F(1))\n",
    "    else:\n",
    "        xs.append(x)\n",
    "        ys.append(F(x))\n",
    "    x += 0.1\n",
    "plt.plot(xs,ys)\n",
    "plt.title(\"Gráfico de la distribución acumulada\")"
   ]
  },
  {
   "cell_type": "markdown",
   "id": "32241302",
   "metadata": {},
   "source": [
    "## Ejercicio 2\n",
    "\n",
    "Sea $X$ una v.a. continua con función de distribución\n",
    "\n",
    "$\n",
    "\\begin{equation}\n",
    "F_X (x) = \\begin{cases} \n",
    "            0 & x < 0\\\\\n",
    "            \\frac{x^3}{\\theta} & 0 \\leq x < 2\\\\\n",
    "            1 & 2 \\leq x\n",
    "          \\end{cases}\n",
    "\\end{equation}$"
   ]
  },
  {
   "cell_type": "markdown",
   "id": "f0300565",
   "metadata": {},
   "source": [
    "### Pregunta A\n",
    "\n",
    "Cuál es el valor de $\\theta$?\n",
    "\n",
    "Hay que usar Barrow en la función del medio, igualda a 1 y despejar $\\theta$"
   ]
  },
  {
   "cell_type": "code",
   "execution_count": null,
   "id": "e5a67e3d",
   "metadata": {},
   "outputs": [],
   "source": []
  }
 ],
 "metadata": {
  "kernelspec": {
   "display_name": "Python 3 (ipykernel)",
   "language": "python",
   "name": "python3"
  },
  "language_info": {
   "codemirror_mode": {
    "name": "ipython",
    "version": 3
   },
   "file_extension": ".py",
   "mimetype": "text/x-python",
   "name": "python",
   "nbconvert_exporter": "python",
   "pygments_lexer": "ipython3",
   "version": "3.9.6"
  }
 },
 "nbformat": 4,
 "nbformat_minor": 5
}
