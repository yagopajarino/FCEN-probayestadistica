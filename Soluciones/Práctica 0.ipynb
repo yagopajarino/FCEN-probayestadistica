{
 "cells": [
  {
   "cell_type": "markdown",
   "id": "9e36345c",
   "metadata": {},
   "source": [
    "# Práctica 0: técnicas y herramientas de conteo"
   ]
  },
  {
   "cell_type": "code",
   "execution_count": 21,
   "id": "39f32779",
   "metadata": {},
   "outputs": [],
   "source": [
    "import math"
   ]
  },
  {
   "cell_type": "code",
   "execution_count": 22,
   "id": "4a6b94e9",
   "metadata": {},
   "outputs": [],
   "source": [
    "# math.perm() función para calcular permutaciones.\n",
    "# math.comb() función para calcular combinatorios."
   ]
  },
  {
   "cell_type": "markdown",
   "id": "fafc268f",
   "metadata": {},
   "source": [
    "## Ejercicio 1\n",
    "\n",
    "### Pregunta A\n",
    "\n",
    "**¿Cuántos números de dos cifras se pueden formar con los dígitos 1,2,3?**"
   ]
  },
  {
   "cell_type": "code",
   "execution_count": 23,
   "id": "99ffa263",
   "metadata": {},
   "outputs": [
    {
     "data": {
      "text/plain": [
       "6"
      ]
     },
     "execution_count": 23,
     "metadata": {},
     "output_type": "execute_result"
    }
   ],
   "source": [
    "cantidadDigitos = 3\n",
    "math.perm(3,2)"
   ]
  },
  {
   "cell_type": "markdown",
   "id": "35e51220",
   "metadata": {},
   "source": [
    "### Pregunta B\n",
    "\n",
    "**¿Cuántos números de dos cifras se pueden formar con los dígitos 0,1,2? (Recuerde, un número no puede empezar con 0)**\n",
    "\n",
    "En este caso voy a tener dos elementos para la posición uno y tres para las posiciones 2 y 3."
   ]
  },
  {
   "cell_type": "code",
   "execution_count": 24,
   "id": "6bec238e",
   "metadata": {},
   "outputs": [
    {
     "data": {
      "text/plain": [
       "6"
      ]
     },
     "execution_count": 24,
     "metadata": {},
     "output_type": "execute_result"
    }
   ],
   "source": [
    "2 * 3"
   ]
  },
  {
   "cell_type": "markdown",
   "id": "9b78642d",
   "metadata": {},
   "source": [
    "### Pregunta C\n",
    "\n",
    "**¿Cuántos números de dos cifras se pueden formar con los dígitos 0,1,2,3?**\n",
    "\n",
    "Ahora tengo 3 para la primera y 4 para la segunda. "
   ]
  },
  {
   "cell_type": "code",
   "execution_count": 25,
   "id": "23b385a2",
   "metadata": {},
   "outputs": [
    {
     "data": {
      "text/plain": [
       "12"
      ]
     },
     "execution_count": 25,
     "metadata": {},
     "output_type": "execute_result"
    }
   ],
   "source": [
    "nros = []\n",
    "for x in range(4):\n",
    "    for y in range(4):\n",
    "        n = x*10 + y\n",
    "        if (n >= 10):\n",
    "            nros.append(n)\n",
    "len(set(nros)) # Igual que 3*4"
   ]
  },
  {
   "cell_type": "markdown",
   "id": "10ec3607",
   "metadata": {},
   "source": [
    "### Pregunta D\n",
    "\n",
    "**¿Cuántos números pares de cuatro cifras se pueden formar con los dígitos 1,2,3,4?**\n",
    "\n",
    "En la última posición solo puedo usar los dígitos 2 y 4 y en el resto cualquiera de los cuatro, puedo repetir las cifras."
   ]
  },
  {
   "cell_type": "code",
   "execution_count": 26,
   "id": "b74e92bc",
   "metadata": {},
   "outputs": [
    {
     "data": {
      "text/plain": [
       "128"
      ]
     },
     "execution_count": 26,
     "metadata": {},
     "output_type": "execute_result"
    }
   ],
   "source": [
    "res = []\n",
    "for x in range(1,5):\n",
    "    for y in range(1,5):\n",
    "        for z in range(1,5):\n",
    "            for a in [2,4]:\n",
    "                res.append(x*1000 + y*100 + z*10 + a)\n",
    "len(res)"
   ]
  },
  {
   "cell_type": "code",
   "execution_count": 27,
   "id": "3c70158b",
   "metadata": {},
   "outputs": [
    {
     "data": {
      "text/plain": [
       "128"
      ]
     },
     "execution_count": 27,
     "metadata": {},
     "output_type": "execute_result"
    }
   ],
   "source": [
    "4 * 4 * 4 *2"
   ]
  },
  {
   "cell_type": "markdown",
   "id": "6d9568d8",
   "metadata": {},
   "source": [
    "### Pregunta E\n",
    "\n",
    "**¿Cuántos números de cuatro cifras distinas se pueden formar con los dígitos 1,2,3,4?**"
   ]
  },
  {
   "cell_type": "code",
   "execution_count": 28,
   "id": "f7f1db8e",
   "metadata": {},
   "outputs": [
    {
     "data": {
      "text/plain": [
       "24"
      ]
     },
     "execution_count": 28,
     "metadata": {},
     "output_type": "execute_result"
    }
   ],
   "source": [
    "math.perm(4)"
   ]
  },
  {
   "cell_type": "code",
   "execution_count": 29,
   "id": "d57c3a1f",
   "metadata": {},
   "outputs": [
    {
     "name": "stdout",
     "output_type": "stream",
     "text": [
      "1234, 1243, 1324, 1342, 1423, 1432, 2134, 2143, 2314, 2341, 2413, 2431, 3124, 3142, 3214, 3241, 3412, 3421, 4123, 4132, 4213, 4231, 4312, 4321\n"
     ]
    }
   ],
   "source": [
    "res = []\n",
    "for x in range(1,5):\n",
    "    for y in range(1,5):\n",
    "        for z in range(1,5):\n",
    "            for a in range(1,5):\n",
    "                if (x != y and x != z and x != a and \\\n",
    "                    y != z and y != a and z != a):\n",
    "                    res.append(x*1000 + y*100 + z*10 + a)\n",
    "print(\", \".join([str(x) for x in res]))"
   ]
  },
  {
   "cell_type": "code",
   "execution_count": 30,
   "id": "02e4ad4b",
   "metadata": {},
   "outputs": [
    {
     "data": {
      "text/plain": [
       "24"
      ]
     },
     "execution_count": 30,
     "metadata": {},
     "output_type": "execute_result"
    }
   ],
   "source": [
    "len(res)"
   ]
  },
  {
   "cell_type": "markdown",
   "id": "892f520b",
   "metadata": {},
   "source": [
    "### Pregunta F\n",
    "\n",
    "**¿Cuántos números capicúas de cinco cifras distinas se pueden formar con los dígitos 1,2,3,4,5,6,7?**\n",
    "\n",
    "En un número capicúa los elementos que están despues de la mitad solo tienen una opción."
   ]
  },
  {
   "cell_type": "code",
   "execution_count": 31,
   "id": "8a60479c",
   "metadata": {},
   "outputs": [
    {
     "data": {
      "text/plain": [
       "210"
      ]
     },
     "execution_count": 31,
     "metadata": {},
     "output_type": "execute_result"
    }
   ],
   "source": [
    "7 * 6 * 5"
   ]
  },
  {
   "cell_type": "code",
   "execution_count": 32,
   "id": "34396ab1",
   "metadata": {},
   "outputs": [
    {
     "data": {
      "text/plain": [
       "210"
      ]
     },
     "execution_count": 32,
     "metadata": {},
     "output_type": "execute_result"
    }
   ],
   "source": [
    "math.perm(7,3)"
   ]
  },
  {
   "cell_type": "markdown",
   "id": "c8ac1fa4",
   "metadata": {},
   "source": [
    "### Pregunta G\n",
    "\n",
    "**Una habitación tiene 6 puertas, ¿de cuántas maneras puedo entrar por una puerta y salir por la otra?**"
   ]
  },
  {
   "cell_type": "code",
   "execution_count": 33,
   "id": "aafca9ab",
   "metadata": {},
   "outputs": [
    {
     "data": {
      "text/plain": [
       "30"
      ]
     },
     "execution_count": 33,
     "metadata": {},
     "output_type": "execute_result"
    }
   ],
   "source": [
    "math.perm(6,2)"
   ]
  },
  {
   "cell_type": "markdown",
   "id": "44af8c0d",
   "metadata": {},
   "source": [
    "### Pregunta H\n",
    "\n",
    "**Sean A, B y C tres ciudades distintas. Suponga que hay cuatro rutas distintas que unen a A con B y 6 que unen a B con C. ¿Cuántas rutas existen de A a C pasando por B? ¿Cuántas rutas de ida y vuelta existen que vayan de A a C pasando por B?**"
   ]
  },
  {
   "cell_type": "code",
   "execution_count": 34,
   "id": "4b056a8d",
   "metadata": {},
   "outputs": [
    {
     "data": {
      "text/plain": [
       "24"
      ]
     },
     "execution_count": 34,
     "metadata": {},
     "output_type": "execute_result"
    }
   ],
   "source": [
    "ab = 4\n",
    "bc = 6\n",
    "# rutas A > C pasando por B\n",
    "ab * bc "
   ]
  },
  {
   "cell_type": "code",
   "execution_count": 35,
   "id": "fa7177ab",
   "metadata": {},
   "outputs": [
    {
     "data": {
      "text/plain": [
       "139"
      ]
     },
     "execution_count": 35,
     "metadata": {},
     "output_type": "execute_result"
    }
   ],
   "source": [
    "# rutas ida y vuelta sin repetir\n",
    "ab * bc * bc-1 * ab-1"
   ]
  },
  {
   "cell_type": "markdown",
   "id": "94bf84a4",
   "metadata": {},
   "source": [
    "## Ejercicio 2\n",
    "\n",
    "### Pregunta A\n",
    "\n",
    "**¿Cuántos resultados pueden obtenerse al arrojar una moneda tres veces? ¿Y si se lanza un dado de 6 caras dos veces?**\n",
    "\n",
    "En cada lanzamiento de la moneda hay dos posibilidades. En cada lanzamiento del dado hay seis posibilidades, luego"
   ]
  },
  {
   "cell_type": "code",
   "execution_count": 36,
   "id": "575be402",
   "metadata": {},
   "outputs": [
    {
     "data": {
      "text/plain": [
       "4"
      ]
     },
     "execution_count": 36,
     "metadata": {},
     "output_type": "execute_result"
    }
   ],
   "source": [
    "# Resultados posibles de la moneda\n",
    "2 * 2"
   ]
  },
  {
   "cell_type": "code",
   "execution_count": 37,
   "id": "55a0de9e",
   "metadata": {},
   "outputs": [
    {
     "data": {
      "text/plain": [
       "[(0, 0), (0, 1), (1, 0), (1, 1)]"
      ]
     },
     "execution_count": 37,
     "metadata": {},
     "output_type": "execute_result"
    }
   ],
   "source": [
    "res = []\n",
    "for x in range(2):\n",
    "    for y in range(2):\n",
    "        res.append((x, y))\n",
    "res"
   ]
  },
  {
   "cell_type": "code",
   "execution_count": 38,
   "id": "4c6d4287",
   "metadata": {},
   "outputs": [
    {
     "data": {
      "text/plain": [
       "36"
      ]
     },
     "execution_count": 38,
     "metadata": {},
     "output_type": "execute_result"
    }
   ],
   "source": [
    "# Resultados del dado\n",
    "6 * 6"
   ]
  },
  {
   "cell_type": "code",
   "execution_count": 39,
   "id": "88c6aa1c",
   "metadata": {},
   "outputs": [
    {
     "data": {
      "text/plain": [
       "36"
      ]
     },
     "execution_count": 39,
     "metadata": {},
     "output_type": "execute_result"
    }
   ],
   "source": [
    "res = []\n",
    "for x in range(6):\n",
    "    for y in range(6):\n",
    "        res.append((x, y))\n",
    "len(res)"
   ]
  },
  {
   "cell_type": "markdown",
   "id": "39df83bb",
   "metadata": {},
   "source": [
    "### Pregunta B\n",
    "\n",
    "**¿Cuántos números con cifras distintas, elegidas entre los dígitos 1 a 6, tienen las siguientes propiedades:**\n",
    "\n",
    "**Tienen cinco cifras.**"
   ]
  },
  {
   "cell_type": "code",
   "execution_count": 40,
   "id": "913af956",
   "metadata": {},
   "outputs": [
    {
     "data": {
      "text/plain": [
       "720"
      ]
     },
     "execution_count": 40,
     "metadata": {},
     "output_type": "execute_result"
    }
   ],
   "source": [
    "# 1.\n",
    "math.perm(6, 5)"
   ]
  },
  {
   "cell_type": "markdown",
   "id": "1931b980",
   "metadata": {},
   "source": [
    "**Tienen 5 cifras y comienzan con 36.**"
   ]
  },
  {
   "cell_type": "code",
   "execution_count": 41,
   "id": "2b279227",
   "metadata": {},
   "outputs": [
    {
     "data": {
      "text/plain": [
       "24"
      ]
     },
     "execution_count": 41,
     "metadata": {},
     "output_type": "execute_result"
    }
   ],
   "source": [
    "# 2.\n",
    "math.perm(4,3)"
   ]
  },
  {
   "cell_type": "markdown",
   "id": "f7c2d21e",
   "metadata": {},
   "source": [
    "**Tienen 5 cifras y no comienzan con 1.**"
   ]
  },
  {
   "cell_type": "code",
   "execution_count": 42,
   "id": "cb7bf333",
   "metadata": {},
   "outputs": [
    {
     "data": {
      "text/plain": [
       "600"
      ]
     },
     "execution_count": 42,
     "metadata": {},
     "output_type": "execute_result"
    }
   ],
   "source": [
    "# 3. Por el complemento\n",
    "math.perm(6, 5) - math.perm(5,4)"
   ]
  },
  {
   "cell_type": "markdown",
   "id": "f5a5d17f",
   "metadata": {},
   "source": [
    "### Pregunta C\n",
    "\n",
    "**Se arrojan dos dados, uno rojo y otro blanco.**\n",
    "\n",
    "**¿Cuántos resultados distintos hay?**"
   ]
  },
  {
   "cell_type": "code",
   "execution_count": 55,
   "id": "26d3b010",
   "metadata": {},
   "outputs": [
    {
     "data": {
      "text/plain": [
       "36"
      ]
     },
     "execution_count": 55,
     "metadata": {},
     "output_type": "execute_result"
    }
   ],
   "source": [
    "6 * 6"
   ]
  },
  {
   "cell_type": "markdown",
   "id": "7eeac55f",
   "metadata": {},
   "source": [
    "**¿Cuántos resultados distintos hay en que la suma es mayor a 9?**\n",
    "\n",
    "Hay 4 formas de obtener una suma mayor a 9:\n",
    "- 4+6\n",
    "- 5+5\n",
    "- 5+6\n",
    "- 6+6\n",
    "    \n",
    "Si considero que (rojo, blanco) = (4,6) != (6,4) entonces hay 4*2 = 8 posibilidades "
   ]
  },
  {
   "cell_type": "code",
   "execution_count": 56,
   "id": "887105c5",
   "metadata": {},
   "outputs": [
    {
     "data": {
      "text/plain": [
       "8"
      ]
     },
     "execution_count": 56,
     "metadata": {},
     "output_type": "execute_result"
    }
   ],
   "source": [
    "4 * 2"
   ]
  },
  {
   "cell_type": "markdown",
   "id": "535f442e",
   "metadata": {},
   "source": [
    "## Ejercicio 3\n",
    "\n",
    "### Pregunta A\n",
    "\n",
    "**¿De cuántas maneras distintas puede fotografiarse una familia de 5 personas puestas en hilera?**"
   ]
  },
  {
   "cell_type": "code",
   "execution_count": 45,
   "id": "29fb852b",
   "metadata": {},
   "outputs": [
    {
     "data": {
      "text/plain": [
       "120"
      ]
     },
     "execution_count": 45,
     "metadata": {},
     "output_type": "execute_result"
    }
   ],
   "source": [
    "math.perm(5)"
   ]
  },
  {
   "cell_type": "markdown",
   "id": "fa7f6e64",
   "metadata": {},
   "source": [
    "### Pregunta B\n",
    "\n",
    "**Mismo problema pero padre y madre están siempre juntos.**\n",
    "\n",
    "Considero al binomio padre-madre como un solo elemento. Luego voy a tener 4 elementos para acomodar en la foto"
   ]
  },
  {
   "cell_type": "code",
   "execution_count": 46,
   "id": "57c12967",
   "metadata": {},
   "outputs": [
    {
     "data": {
      "text/plain": [
       "24"
      ]
     },
     "execution_count": 46,
     "metadata": {},
     "output_type": "execute_result"
    }
   ],
   "source": [
    "math.perm(4)"
   ]
  },
  {
   "cell_type": "markdown",
   "id": "967ce539",
   "metadata": {},
   "source": [
    "### Pregunta C\n",
    "\n",
    "**¿De cuántas maneras distintas pueden sentarse 10 personan en una mesa circular? Sug: mesa circular implica que hay invariancia rotacional.**\n",
    "\n",
    "Al ser circular, los ordenamientos:\n",
    "    [1,2,3,4,5,6,7,8,9,10] y\n",
    "    [5,6,7,8,9,10,1,2,3,4]\n",
    "son iguales.\n",
    "Entonces, los coloco en hilera y divido por 10 porque la hilera puede empezar en cualquier posición.\n",
    "\n",
    "$\\frac{10!}{10}$"
   ]
  },
  {
   "cell_type": "code",
   "execution_count": 47,
   "id": "5916e337",
   "metadata": {},
   "outputs": [
    {
     "data": {
      "text/plain": [
       "362880"
      ]
     },
     "execution_count": 47,
     "metadata": {},
     "output_type": "execute_result"
    }
   ],
   "source": [
    "math.factorial(10) // 10"
   ]
  },
  {
   "cell_type": "markdown",
   "id": "2e6afce7",
   "metadata": {},
   "source": [
    "### Pregunta D\n",
    "\n",
    "**¿De cuántas maneras distintas pueden alinearse 8 parejas si cada marido debe ir con su esposa?**\n",
    "\n",
    "Tengo 8 parejas por dos elementos en cada una."
   ]
  },
  {
   "cell_type": "code",
   "execution_count": 49,
   "id": "56c62d2d",
   "metadata": {},
   "outputs": [
    {
     "data": {
      "text/plain": [
       "10321920"
      ]
     },
     "execution_count": 49,
     "metadata": {},
     "output_type": "execute_result"
    }
   ],
   "source": [
    "math.factorial(8) * 2**8"
   ]
  },
  {
   "cell_type": "markdown",
   "id": "5fbbb53c",
   "metadata": {},
   "source": [
    "### Pregunta E\n",
    "\n",
    "**¿Cuántos anagramas tiene la palabra CALOR?**\n",
    "\n",
    "Permutaciones sobre permutaciones de elementos repetidos."
   ]
  },
  {
   "cell_type": "code",
   "execution_count": 57,
   "id": "e52efe5b",
   "metadata": {},
   "outputs": [
    {
     "data": {
      "text/plain": [
       "120"
      ]
     },
     "execution_count": 57,
     "metadata": {},
     "output_type": "execute_result"
    }
   ],
   "source": [
    "math.perm(5)"
   ]
  },
  {
   "cell_type": "markdown",
   "id": "838a6cd0",
   "metadata": {},
   "source": [
    "**¿Y la palabra ELEFANTE?**"
   ]
  },
  {
   "cell_type": "code",
   "execution_count": 65,
   "id": "1339214d",
   "metadata": {},
   "outputs": [
    {
     "data": {
      "text/plain": [
       "6720"
      ]
     },
     "execution_count": 65,
     "metadata": {},
     "output_type": "execute_result"
    }
   ],
   "source": [
    "math.perm(8) // math.perm(3)"
   ]
  },
  {
   "cell_type": "markdown",
   "id": "93215782",
   "metadata": {},
   "source": [
    "**¿Y la palabra ANANA?**"
   ]
  },
  {
   "cell_type": "code",
   "execution_count": 66,
   "id": "a43ee21d",
   "metadata": {},
   "outputs": [
    {
     "data": {
      "text/plain": [
       "10"
      ]
     },
     "execution_count": 66,
     "metadata": {},
     "output_type": "execute_result"
    }
   ],
   "source": [
    "math.perm(5) // (math.perm(3) * math.perm(2))"
   ]
  },
  {
   "cell_type": "markdown",
   "id": "39d9ca9f",
   "metadata": {},
   "source": [
    "## Ejercicio 4\n",
    "\n",
    "Utilizando el número combinatorio, calcular:\n",
    "\n",
    "### Pregunta A\n",
    "\n",
    "**Maneras de elegir tres docentes para un curso de combinatoria, si hay disponibles 50 docentes.**\n",
    "\n",
    "Tengo que elegir 3 docentes de un grupo de 50, las ternas (a,b,c) y la (c,b,a) cuentan como una.\n",
    "\n",
    "$\\binom{50}{3} $"
   ]
  },
  {
   "cell_type": "code",
   "execution_count": 60,
   "id": "cdbbc429",
   "metadata": {},
   "outputs": [
    {
     "data": {
      "text/plain": [
       "19600"
      ]
     },
     "execution_count": 60,
     "metadata": {},
     "output_type": "execute_result"
    }
   ],
   "source": [
    "math.comb(50, 3)"
   ]
  },
  {
   "cell_type": "markdown",
   "id": "a286ddcd",
   "metadata": {},
   "source": [
    "### Pregunta B\n",
    "\n",
    "**Maneras de elegir simultáneamente tres docentes para un curso de álgebra y cinco para uno de análisis, de un total de 50 docentes.**\n",
    "\n",
    "$\\binom{50}{3} \\cdot \\binom{47}{5} = \\binom{50}{5} \\cdot \\binom{45}{3} $"
   ]
  },
  {
   "cell_type": "code",
   "execution_count": 63,
   "id": "a3b7ba0f",
   "metadata": {},
   "outputs": [
    {
     "data": {
      "text/plain": [
       "30065204400"
      ]
     },
     "execution_count": 63,
     "metadata": {},
     "output_type": "execute_result"
    }
   ],
   "source": [
    "math.comb(50, 3) * math.comb(47, 5)"
   ]
  },
  {
   "cell_type": "code",
   "execution_count": 64,
   "id": "cd57c1de",
   "metadata": {},
   "outputs": [
    {
     "data": {
      "text/plain": [
       "30065204400"
      ]
     },
     "execution_count": 64,
     "metadata": {},
     "output_type": "execute_result"
    }
   ],
   "source": [
    "math.comb(50, 5) * math.comb(45, 3)"
   ]
  },
  {
   "cell_type": "markdown",
   "id": "2acd8c9f",
   "metadata": {},
   "source": [
    "### Pregunta C\n",
    "\n",
    "**Maneras de conformar una comisión con un presidente, dos secretarios y cinco vocales de un total\n",
    "de 20 personas.**\n",
    "\n",
    "$\\binom{20}{1} \\cdot \\binom{19}{2} \\cdot \\binom{17}{5}$"
   ]
  },
  {
   "cell_type": "code",
   "execution_count": 67,
   "id": "1926e0ad",
   "metadata": {},
   "outputs": [
    {
     "data": {
      "text/plain": [
       "21162960"
      ]
     },
     "execution_count": 67,
     "metadata": {},
     "output_type": "execute_result"
    }
   ],
   "source": [
    "math.comb(20, 1) * math.comb(19, 2) * math.comb(17, 5)"
   ]
  },
  {
   "cell_type": "markdown",
   "id": "9c86ea6e",
   "metadata": {},
   "source": [
    "### Pregunta D\n",
    "\n",
    "**Formas de elegir 18 libros de una lista de 40 libros si un determinado libro debe estar siempre incluido.**\n",
    "\n",
    "Hay uno de los libros que siempre debe estar, luego tengo que elegir 17 de los 39 restantes.\n",
    "\n",
    "$\\binom{17}{39}$"
   ]
  },
  {
   "cell_type": "code",
   "execution_count": 68,
   "id": "6a5f30da",
   "metadata": {},
   "outputs": [
    {
     "data": {
      "text/plain": [
       "51021117810"
      ]
     },
     "execution_count": 68,
     "metadata": {},
     "output_type": "execute_result"
    }
   ],
   "source": [
    "math.comb(39,17)"
   ]
  },
  {
   "cell_type": "markdown",
   "id": "d6f78a73",
   "metadata": {},
   "source": [
    "### Pregunta E\n",
    "\n",
    "**Idem inciso anterior pero ahora excluyendo el libro.**\n",
    "\n",
    "Ahora tengo que elegir 18 de los 39 libros.\n",
    "\n",
    "$\\binom{39}{18}$"
   ]
  },
  {
   "cell_type": "code",
   "execution_count": 69,
   "id": "4b9e1800",
   "metadata": {},
   "outputs": [
    {
     "data": {
      "text/plain": [
       "62359143990"
      ]
     },
     "execution_count": 69,
     "metadata": {},
     "output_type": "execute_result"
    }
   ],
   "source": [
    "math.comb(39,18)"
   ]
  }
 ],
 "metadata": {
  "kernelspec": {
   "display_name": "Python 3 (ipykernel)",
   "language": "python",
   "name": "python3"
  },
  "language_info": {
   "codemirror_mode": {
    "name": "ipython",
    "version": 3
   },
   "file_extension": ".py",
   "mimetype": "text/x-python",
   "name": "python",
   "nbconvert_exporter": "python",
   "pygments_lexer": "ipython3",
   "version": "3.9.6"
  }
 },
 "nbformat": 4,
 "nbformat_minor": 5
}
