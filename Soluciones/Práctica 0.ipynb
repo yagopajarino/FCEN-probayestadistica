{
 "cells": [
  {
   "cell_type": "markdown",
   "id": "9e36345c",
   "metadata": {},
   "source": [
    "# Práctica 0\n",
    "\n",
    "## Técnicas y herramientas de conteo"
   ]
  },
  {
   "cell_type": "code",
   "execution_count": 1,
   "id": "39f32779",
   "metadata": {},
   "outputs": [],
   "source": [
    "import math"
   ]
  },
  {
   "cell_type": "code",
   "execution_count": 3,
   "id": "4a6b94e9",
   "metadata": {},
   "outputs": [],
   "source": [
    "# math.perm() función para calcular permutaciones.\n",
    "# math.comb() función para calcular combinatorios."
   ]
  },
  {
   "cell_type": "markdown",
   "id": "fafc268f",
   "metadata": {},
   "source": [
    "### Ejercicio 1\n",
    "\n",
    "#### Pregunta a\n",
    "¿Cuántos números de dos cifras se pueden formar con los dígitos 1,2,3?"
   ]
  },
  {
   "cell_type": "code",
   "execution_count": 4,
   "id": "99ffa263",
   "metadata": {},
   "outputs": [
    {
     "data": {
      "text/plain": [
       "6"
      ]
     },
     "execution_count": 4,
     "metadata": {},
     "output_type": "execute_result"
    }
   ],
   "source": [
    "cantidadDigitos = 3\n",
    "math.perm(3,2)"
   ]
  },
  {
   "cell_type": "markdown",
   "id": "35e51220",
   "metadata": {},
   "source": [
    "#### Pregunta b\n",
    "\n",
    "¿Cuántos números de dos cifras se pueden formar con los dígitos 0,1,2? (Recuerde, un número no puede empezar con 0)\n",
    "\n",
    "En este caso voy a tener dos elementos para la posición uno y tres para las posiciones 2 y 3."
   ]
  },
  {
   "cell_type": "code",
   "execution_count": 8,
   "id": "6bec238e",
   "metadata": {},
   "outputs": [
    {
     "data": {
      "text/plain": [
       "6"
      ]
     },
     "execution_count": 8,
     "metadata": {},
     "output_type": "execute_result"
    }
   ],
   "source": [
    "2 * 3"
   ]
  },
  {
   "cell_type": "markdown",
   "id": "9b78642d",
   "metadata": {},
   "source": [
    "#### Pregunta c\n",
    "\n",
    "¿Cuántos números de dos cifras se pueden formar con los dígitos 0,1,2,3?\n",
    "\n",
    "Ahora tengo 3 para la primera y 4 para la segunda. "
   ]
  },
  {
   "cell_type": "code",
   "execution_count": 14,
   "id": "23b385a2",
   "metadata": {},
   "outputs": [
    {
     "data": {
      "text/plain": [
       "12"
      ]
     },
     "execution_count": 14,
     "metadata": {},
     "output_type": "execute_result"
    }
   ],
   "source": [
    "nros = []\n",
    "for x in range(4):\n",
    "    for y in range(4):\n",
    "        n = x*10 + y\n",
    "        if (n >= 10):\n",
    "            nros.append(n)\n",
    "len(set(nros)) # Igual que 3*4"
   ]
  },
  {
   "cell_type": "markdown",
   "id": "10ec3607",
   "metadata": {},
   "source": [
    "#### Pregunta d\n",
    "\n",
    "¿Cuántos números pares de cuatro cifras se pueden formar con los dígitos 1,2,3,4?\n",
    "\n",
    "En la última posición solo puedo usar los dígitos 2 y 4 y en el resto cualquiera de los cuatro, puedo repetir las cifras."
   ]
  },
  {
   "cell_type": "code",
   "execution_count": 23,
   "id": "b74e92bc",
   "metadata": {},
   "outputs": [
    {
     "data": {
      "text/plain": [
       "128"
      ]
     },
     "execution_count": 23,
     "metadata": {},
     "output_type": "execute_result"
    }
   ],
   "source": [
    "res = []\n",
    "for x in range(1,5):\n",
    "    for y in range(1,5):\n",
    "        for z in range(1,5):\n",
    "            for a in [2,4]:\n",
    "                res.append(x*1000 + y*100 + z*10 + a)\n",
    "len(res)"
   ]
  },
  {
   "cell_type": "code",
   "execution_count": 24,
   "id": "3c70158b",
   "metadata": {},
   "outputs": [
    {
     "data": {
      "text/plain": [
       "128"
      ]
     },
     "execution_count": 24,
     "metadata": {},
     "output_type": "execute_result"
    }
   ],
   "source": [
    "4 * 4 * 4 *2"
   ]
  },
  {
   "cell_type": "markdown",
   "id": "6d9568d8",
   "metadata": {},
   "source": [
    "#### Pregunta e\n",
    "\n",
    "¿Cuántos números de cuatro cifras distinas se pueden formar con los dígitos 1,2,3,4?"
   ]
  },
  {
   "cell_type": "code",
   "execution_count": 17,
   "id": "f7f1db8e",
   "metadata": {},
   "outputs": [
    {
     "data": {
      "text/plain": [
       "24"
      ]
     },
     "execution_count": 17,
     "metadata": {},
     "output_type": "execute_result"
    }
   ],
   "source": [
    "math.perm(4)"
   ]
  },
  {
   "cell_type": "code",
   "execution_count": 40,
   "id": "d57c3a1f",
   "metadata": {},
   "outputs": [
    {
     "name": "stdout",
     "output_type": "stream",
     "text": [
      "1234, 1243, 1324, 1342, 1423, 1432, 2134, 2143, 2314, 2341, 2413, 2431, 3124, 3142, 3214, 3241, 3412, 3421, 4123, 4132, 4213, 4231, 4312, 4321\n"
     ]
    }
   ],
   "source": [
    "res = []\n",
    "for x in range(1,5):\n",
    "    for y in range(1,5):\n",
    "        for z in range(1,5):\n",
    "            for a in range(1,5):\n",
    "                if (x != y and x != z and x != a and \\\n",
    "                    y != z and y != a and z != a):\n",
    "                    res.append(x*1000 + y*100 + z*10 + a)\n",
    "print(\", \".join([str(x) for x in res]))"
   ]
  },
  {
   "cell_type": "code",
   "execution_count": 41,
   "id": "02e4ad4b",
   "metadata": {},
   "outputs": [
    {
     "data": {
      "text/plain": [
       "24"
      ]
     },
     "execution_count": 41,
     "metadata": {},
     "output_type": "execute_result"
    }
   ],
   "source": [
    "len(res)"
   ]
  },
  {
   "cell_type": "markdown",
   "id": "892f520b",
   "metadata": {},
   "source": [
    "#### Pregunta f\n",
    "\n",
    "¿Cuántos números capicúas de cinco cifras distinas se pueden formar con los dígitos 1,2,3,4,5,6,7?\n",
    "\n",
    "En un número capicúa los elementos que están despues de la mitad solo tienen una opción."
   ]
  },
  {
   "cell_type": "code",
   "execution_count": 42,
   "id": "8a60479c",
   "metadata": {},
   "outputs": [
    {
     "data": {
      "text/plain": [
       "210"
      ]
     },
     "execution_count": 42,
     "metadata": {},
     "output_type": "execute_result"
    }
   ],
   "source": [
    "7 * 6 * 5"
   ]
  },
  {
   "cell_type": "code",
   "execution_count": 43,
   "id": "34396ab1",
   "metadata": {},
   "outputs": [
    {
     "data": {
      "text/plain": [
       "210"
      ]
     },
     "execution_count": 43,
     "metadata": {},
     "output_type": "execute_result"
    }
   ],
   "source": [
    "math.perm(7,3)"
   ]
  },
  {
   "cell_type": "markdown",
   "id": "c8ac1fa4",
   "metadata": {},
   "source": [
    "#### Pregunta g\n",
    "\n",
    "Una habitación tiene 6 puertas, ¿de cuántas maneras puedo entrar por una puerta y salir por la otra?"
   ]
  },
  {
   "cell_type": "code",
   "execution_count": 44,
   "id": "aafca9ab",
   "metadata": {},
   "outputs": [
    {
     "data": {
      "text/plain": [
       "30"
      ]
     },
     "execution_count": 44,
     "metadata": {},
     "output_type": "execute_result"
    }
   ],
   "source": [
    "math.perm(6,2)"
   ]
  },
  {
   "cell_type": "markdown",
   "id": "44af8c0d",
   "metadata": {},
   "source": [
    "#### Pregunta h\n",
    "\n",
    "Sean A, B y C tres ciudades distintas. Suponga que hay cuatro rutas distintas que unen a A con B y 6 que unen a B con C. ¿Cuántas rutas existen de A a C pasando por B? ¿Cuántas rutas de ida y vuelta existen que vayan de A a C pasando por B?"
   ]
  },
  {
   "cell_type": "code",
   "execution_count": 46,
   "id": "4b056a8d",
   "metadata": {},
   "outputs": [
    {
     "data": {
      "text/plain": [
       "24"
      ]
     },
     "execution_count": 46,
     "metadata": {},
     "output_type": "execute_result"
    }
   ],
   "source": [
    "ab = 4\n",
    "bc = 6\n",
    "# rutas A > C pasando por B\n",
    "ab * bc "
   ]
  },
  {
   "cell_type": "code",
   "execution_count": 47,
   "id": "fa7177ab",
   "metadata": {},
   "outputs": [
    {
     "data": {
      "text/plain": [
       "139"
      ]
     },
     "execution_count": 47,
     "metadata": {},
     "output_type": "execute_result"
    }
   ],
   "source": [
    "# rutas ida y vuelta sin repetir\n",
    "ab * bc * bc-1 * ab-1"
   ]
  },
  {
   "cell_type": "code",
   "execution_count": null,
   "id": "056088f2",
   "metadata": {},
   "outputs": [],
   "source": []
  }
 ],
 "metadata": {
  "kernelspec": {
   "display_name": "Python 3 (ipykernel)",
   "language": "python",
   "name": "python3"
  },
  "language_info": {
   "codemirror_mode": {
    "name": "ipython",
    "version": 3
   },
   "file_extension": ".py",
   "mimetype": "text/x-python",
   "name": "python",
   "nbconvert_exporter": "python",
   "pygments_lexer": "ipython3",
   "version": "3.9.6"
  }
 },
 "nbformat": 4,
 "nbformat_minor": 5
}
