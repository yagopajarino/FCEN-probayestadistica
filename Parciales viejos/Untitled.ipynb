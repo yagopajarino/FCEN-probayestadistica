{
 "cells": [
  {
   "cell_type": "markdown",
   "id": "7087d026",
   "metadata": {},
   "source": [
    "# Parcial integrador turno mañana 2do 2021\n",
    "\n",
    "Se hizo en dos bloques con tres preguntas cada uno, una hora cada uno."
   ]
  },
  {
   "cell_type": "code",
   "execution_count": 4,
   "id": "54d7d590",
   "metadata": {},
   "outputs": [],
   "source": [
    "import numpy as np\n",
    "import scipy.stats\n",
    "import math"
   ]
  },
  {
   "attachments": {},
   "cell_type": "markdown",
   "id": "3f0b8b2c",
   "metadata": {},
   "source": [
    "## Ejercicio 1.1\n",
    "\n",
    "![title](parcialIntegradorMañana/P1.1.jpeg)"
   ]
  },
  {
   "cell_type": "code",
   "execution_count": 67,
   "id": "e0def0f7",
   "metadata": {},
   "outputs": [],
   "source": [
    "e = np.e\n",
    "def f(x,y):\n",
    "    if (0 < x < np.inf) and (0 < y < np.inf):\n",
    "        return 2*x*(e**(-2*x))*(e**(-x*y))\n",
    "    else:\n",
    "        return 0"
   ]
  },
  {
   "cell_type": "code",
   "execution_count": 68,
   "id": "e1c6c31e",
   "metadata": {},
   "outputs": [
    {
     "data": {
      "text/plain": [
       "(0.9999999999999338, 1.3748788567325646e-08)"
      ]
     },
     "execution_count": 68,
     "metadata": {},
     "output_type": "execute_result"
    }
   ],
   "source": [
    "# Para hacer integrales dobles\n",
    "scipy.integrate.dblquad(f, -np.inf, np.inf, -np.inf, np.inf)"
   ]
  },
  {
   "cell_type": "code",
   "execution_count": 69,
   "id": "903e3628",
   "metadata": {},
   "outputs": [
    {
     "data": {
      "text/plain": [
       "0.8011332653991682"
      ]
     },
     "execution_count": 69,
     "metadata": {},
     "output_type": "execute_result"
    }
   ],
   "source": [
    "# Pregunta B\n",
    "1-scipy.integrate.dblquad(f, 0, 0.56, 0, 1.79)[0]"
   ]
  },
  {
   "cell_type": "markdown",
   "id": "b7235f19",
   "metadata": {},
   "source": [
    "## Ejercicio 1.2\n",
    "\n",
    "![title](parcialIntegradorMañana/P2.1.jpeg)"
   ]
  },
  {
   "cell_type": "markdown",
   "id": "17659c7e",
   "metadata": {},
   "source": [
    "Defino X = \"Diámetro de la arandela\" \n",
    "\n",
    "$X \\sim N(33,25)$\n",
    "\n",
    "Arandela inutilizable $\\iff X > 39.5$\n",
    "\n",
    "Arandelas por caja = 60\n",
    "\n",
    "Defino Y = \"Cantidad de arandelas defectuosas en una caja\"\n",
    "\n",
    "$Y \\sim Bin(60,p)$ con $p = P(X>39.5)$\n",
    "\n",
    "\n",
    "\n",
    "Caja descartada para la venta $\\iff Y\\geq6$"
   ]
  },
  {
   "cell_type": "code",
   "execution_count": 5,
   "id": "f24c7635",
   "metadata": {},
   "outputs": [],
   "source": [
    "media = 33\n",
    "sd = math.sqrt(25)\n",
    "va = scipy.stats.norm(loc=33, scale=sd)"
   ]
  },
  {
   "cell_type": "markdown",
   "id": "d9fdd3c9",
   "metadata": {},
   "source": [
    "#### Pregunta A\n",
    "\n",
    "Calcular $P(X>39.5) = 1-P(X<39.5)$"
   ]
  },
  {
   "cell_type": "code",
   "execution_count": 7,
   "id": "a031c40f",
   "metadata": {},
   "outputs": [
    {
     "data": {
      "text/plain": [
       "0.0968004845856103"
      ]
     },
     "execution_count": 7,
     "metadata": {},
     "output_type": "execute_result"
    }
   ],
   "source": [
    "p = 1-va.cdf(39.5)\n",
    "p"
   ]
  },
  {
   "cell_type": "markdown",
   "id": "68ccc9e4",
   "metadata": {},
   "source": [
    "#### Pregunta B\n",
    "\n",
    "Calcular $P(Y\\geq6) = 1-P(Y<6)$"
   ]
  },
  {
   "cell_type": "code",
   "execution_count": 10,
   "id": "14b64118",
   "metadata": {},
   "outputs": [
    {
     "data": {
      "text/plain": [
       "0.5298433638337553"
      ]
     },
     "execution_count": 10,
     "metadata": {},
     "output_type": "execute_result"
    }
   ],
   "source": [
    "va = scipy.stats.binom(n=60,p=p)\n",
    "a = 1-va.cdf(5)\n",
    "a"
   ]
  },
  {
   "cell_type": "markdown",
   "id": "b242bd5a",
   "metadata": {},
   "source": [
    "#### Pregunta C\n",
    "\n",
    "Se realiza una inpección de las cajas. Calcular la probabilidad de que se tengan que revisar como mucho 5 cajas para encontrar que 1 de ellas debe ser descartada.\n",
    "\n",
    "Defino Z = \"Cantidad de cajas revisadas hasta encontrar una que debe ser descartada\"\n",
    "\n",
    "$Z \\sim Geo(\\alpha)$ con $\\alpha = P(Y \\geq 6)$\n",
    "\n",
    "Luego busco $P(Z \\leq 5)$"
   ]
  },
  {
   "cell_type": "code",
   "execution_count": 12,
   "id": "6ea3f448",
   "metadata": {},
   "outputs": [
    {
     "data": {
      "text/plain": [
       "0.9770272570924351"
      ]
     },
     "execution_count": 12,
     "metadata": {},
     "output_type": "execute_result"
    }
   ],
   "source": [
    "va = scipy.stats.geom(a)\n",
    "va.cdf(5)"
   ]
  },
  {
   "cell_type": "markdown",
   "id": "0d14d357",
   "metadata": {},
   "source": [
    "## Ejercicio 1.3\n",
    "\n",
    "![title](parcialIntegradorMañana/P3.1.jpeg)"
   ]
  },
  {
   "cell_type": "markdown",
   "id": "c32fb196",
   "metadata": {},
   "source": [
    "Defino X = \"Cantidad de sodio (mg/L) presente en el agua\" con $X \\sim N(\\mu, 9.4^2)$\n",
    "\n",
    "Datos para el test de hipótesis:\n",
    "* $\\mu_0 = 77$\n",
    "* $n = 43$\n",
    "* $\\overline{X_n} = 79.58$\n",
    "* $\\sigma = 9.4$\n",
    "* $\\alpha = 0.03$\n",
    "\n",
    "Planteo del test de hipótesis:\n",
    "\n",
    "$H_0 \\Rightarrow \\mu_0 = 77$\n",
    "$H_a \\Rightarrow \\mu > \\mu_0$\n",
    "\n",
    "Definición del pivote:\n",
    "\n",
    "Datos normales, sigma conocido, media desconocida $\\Rightarrow T = \\frac{\\overline{X_n} - \\mu_0}{\\sigma/\\sqrt{n}} \\sim N(0,1)$ "
   ]
  },
  {
   "cell_type": "markdown",
   "id": "c6f47a3e",
   "metadata": {},
   "source": [
    "#### Pregunta A\n",
    "\n",
    "$\\mu_0 = 77 \\Rightarrow 1$\n",
    "\n",
    "#### Pregunta B\n",
    "\n",
    "$\\mu > \\mu_0 \\Rightarrow 1$\n",
    "\n",
    "#### Pregunta C\n",
    "\n",
    "Proba error de tipo I = $\\alpha \\Rightarrow$ 0.03"
   ]
  },
  {
   "cell_type": "markdown",
   "id": "8b8af984",
   "metadata": {},
   "source": [
    "#### Pregunta D"
   ]
  },
  {
   "cell_type": "code",
   "execution_count": 13,
   "id": "59e91790",
   "metadata": {},
   "outputs": [
    {
     "data": {
      "text/plain": [
       "False"
      ]
     },
     "execution_count": 13,
     "metadata": {},
     "output_type": "execute_result"
    }
   ],
   "source": [
    "va = scipy.stats.norm()\n",
    "t = (79.58 - 77)/(9.4/math.sqrt(43))\n",
    "z = va.ppf(0.97)\n",
    "t > z"
   ]
  },
  {
   "cell_type": "code",
   "execution_count": 15,
   "id": "0bce7f1e",
   "metadata": {},
   "outputs": [],
   "source": [
    "def rechazarH0NormalesParaMuConVar(tipo, alfa, mediaMuestral, mu_0, sigma, n):\n",
    "    \"\"\"\n",
    "    Tipo 0: mu < mu_0\n",
    "    Tipo 1: mu > mu_0\n",
    "    Tipo 2: mu != mu_0\n",
    "    \"\"\"\n",
    "    va = scipy.stats.norm()\n",
    "    k = (mediaMuestral - mu_0)/(sigma/math.sqrt(n))\n",
    "    print(\"mu = {}\".format(k))\n",
    "    if tipo == 0:\n",
    "        z = -va.ppf(1-alfa)\n",
    "        print(\"z = {}\".format(z))\n",
    "        if k < z:\n",
    "            return True\n",
    "        else: return False\n",
    "    elif tipo == 1:\n",
    "        z = va.ppf(1-alfa)\n",
    "        print(\"z = {}\".format(z))\n",
    "        if k > z:\n",
    "            return True\n",
    "        else: return False\n",
    "    else:\n",
    "        z = va.ppf(1-alfa/2)\n",
    "        print(\"z = {}\".format(z))\n",
    "        if (k < -z) or (k > z):\n",
    "            return True\n",
    "        else: return False"
   ]
  },
  {
   "cell_type": "code",
   "execution_count": 16,
   "id": "81fe0002",
   "metadata": {},
   "outputs": [
    {
     "name": "stdout",
     "output_type": "stream",
     "text": [
      "mu = 1.7998075949679946\n",
      "z = 1.8807936081512509\n"
     ]
    },
    {
     "data": {
      "text/plain": [
       "False"
      ]
     },
     "execution_count": 16,
     "metadata": {},
     "output_type": "execute_result"
    }
   ],
   "source": [
    "# Uso rechazarH0NormalesParaMuConVar\n",
    "tipo = 1\n",
    "alfa = 0.03\n",
    "mediaMuestral = 79.58\n",
    "mu_0 = 77\n",
    "sigma = 9.4\n",
    "n = 43\n",
    "rechazarH0NormalesParaMuConVar(tipo, alfa, mediaMuestral, mu_0, sigma, n)"
   ]
  },
  {
   "cell_type": "markdown",
   "id": "c9cafab1",
   "metadata": {},
   "source": [
    "Luego no se rechaza la $H_0 \\Rightarrow 2$"
   ]
  },
  {
   "cell_type": "markdown",
   "id": "74a85271",
   "metadata": {},
   "source": [
    "#### Pregunta E\n",
    "\n",
    "Calcular el p-value."
   ]
  },
  {
   "cell_type": "code",
   "execution_count": 14,
   "id": "9c369cda",
   "metadata": {},
   "outputs": [
    {
     "data": {
      "text/plain": [
       "0.035945512151310255"
      ]
     },
     "execution_count": 14,
     "metadata": {},
     "output_type": "execute_result"
    }
   ],
   "source": [
    "1-va.cdf(t)"
   ]
  },
  {
   "cell_type": "markdown",
   "id": "30aff551",
   "metadata": {},
   "source": [
    "#### Pregunta F\n",
    "\n",
    "Calcule la probabilidad de que la compañía siga obteniendo agua de esta reserva cuando en realidad la cantidad media de sodio verdadero es de 80mg/L\n",
    "\n",
    "$\\mu = 80 \\Rightarrow H_0 \\text{ es falsa}$\n",
    "\n",
    "Luego si la empresa sigue comprando, implica un error de tipo II = no rechazar la $H_0$ cuando esta es falsa\n",
    "\n",
    "Luego busco la proba de error de tipo II"
   ]
  },
  {
   "cell_type": "code",
   "execution_count": 17,
   "id": "ff6afde2",
   "metadata": {},
   "outputs": [],
   "source": [
    "def probaErrorTipoII(tipo, alfa, mu_0, mu, sigma, n):\n",
    "    \"\"\"\n",
    "    Tipo 0: mu < mu_0\n",
    "    Tipo 1: mu > mu_0\n",
    "    Tipo 2: mu != mu_0\n",
    "    \"\"\"\n",
    "    va = scipy.stats.norm()\n",
    "    const = (mu_0 - mu)/(sigma/math.sqrt(n))\n",
    "    if tipo == 0:\n",
    "        z = -va.ppf(1-alfa)\n",
    "        return 1 - va.cdf(z+const)\n",
    "    elif tipo == 1:\n",
    "        z = va.ppf(1-alfa)\n",
    "        return va.cdf(z+const)\n",
    "    else:\n",
    "        z = va.ppf(1-alfa/2)\n",
    "        return va.cdf(z+const) - va.cdf(-z+const)"
   ]
  },
  {
   "cell_type": "code",
   "execution_count": 18,
   "id": "50721237",
   "metadata": {},
   "outputs": [
    {
     "data": {
      "text/plain": [
       "0.41605120756169117"
      ]
     },
     "execution_count": 18,
     "metadata": {},
     "output_type": "execute_result"
    }
   ],
   "source": [
    "# Uso error proba tipo II\n",
    "tipo = 1\n",
    "alfa = 0.03\n",
    "mu_0 = 77\n",
    "mu = 80\n",
    "sigma = 9.4\n",
    "n = 43\n",
    "probaErrorTipoII(tipo, alfa, mu_0, mu, sigma, n)"
   ]
  },
  {
   "cell_type": "markdown",
   "id": "ccac87e0",
   "metadata": {},
   "source": [
    "## Ejercicio 2.1\n",
    "\n",
    "![title](parcialIntegradorMañana/P1.2.jpeg)"
   ]
  },
  {
   "cell_type": "markdown",
   "id": "9708b1d3",
   "metadata": {},
   "source": [
    "Datos\n",
    "\n",
    "* Distribución desconocida\n",
    "* $n = 63$\n",
    "* $\\overline{X_n} = 104$\n",
    "* $\\text{varMuestral} = 87.36$\n",
    "* $sd = \\sqrt{\\text{varMuestral}}$\n",
    "* $\\alpha = 0.08$\n",
    "\n",
    "\n",
    "Planteo del intervalo de confianza:\n",
    "\n",
    "Dado que los datos provienen de una distribución desconocida, uso el TCL.\n",
    "\n",
    "$IC = [\\overline{X_n}-z_{\\alpha/2}\\frac{sd}{\\sqrt{n}}, \\overline{X_n}+z_{\\alpha/2}\\frac{sd}{\\sqrt{n}}]$"
   ]
  },
  {
   "cell_type": "markdown",
   "id": "75b292b3",
   "metadata": {},
   "source": [
    "#### Pregunta A y B"
   ]
  },
  {
   "cell_type": "code",
   "execution_count": 19,
   "id": "895fded9",
   "metadata": {},
   "outputs": [],
   "source": [
    "def getIntervaloParaMuConVar(alfa, var, mediaMuestral, n):\n",
    "    va = scipy.stats.norm(0,1)\n",
    "    z = va.ppf(1-(alfa/2))\n",
    "    sd = math.sqrt(var)\n",
    "    return (mediaMuestral - (z*sd/math.sqrt(n)),(mediaMuestral + (z*sd/math.sqrt(n))))"
   ]
  },
  {
   "cell_type": "code",
   "execution_count": 20,
   "id": "79956b33",
   "metadata": {},
   "outputs": [
    {
     "data": {
      "text/plain": [
       "(101.9384479022253, 106.0615520977747)"
      ]
     },
     "execution_count": 20,
     "metadata": {},
     "output_type": "execute_result"
    }
   ],
   "source": [
    "alfa = 0.08\n",
    "var = 87.36\n",
    "mediaMuestral = 104\n",
    "n = 63\n",
    "getIntervaloParaMuConVar(alfa, var, mediaMuestral, n)"
   ]
  },
  {
   "cell_type": "markdown",
   "id": "0ed655e9",
   "metadata": {},
   "source": [
    "#### Pregunta C y D"
   ]
  },
  {
   "cell_type": "code",
   "execution_count": 23,
   "id": "23d72db7",
   "metadata": {},
   "outputs": [],
   "source": [
    "def getIntervaloParaVarSinMu(alfa, desvioMuestral, n):\n",
    "    va = scipy.stats.chi2(df=n-1)\n",
    "    xMin = va.ppf(1-a/2)\n",
    "    xMax = va.ppf(a/2)\n",
    "    ter = (n-1)*(desvioMuestral**2)\n",
    "    return (ter/xMin, ter/xMax)"
   ]
  },
  {
   "cell_type": "code",
   "execution_count": 24,
   "id": "9f48e23a",
   "metadata": {},
   "outputs": [
    {
     "data": {
      "text/plain": [
       "(79.01054377115423, 99.12172781391477)"
      ]
     },
     "execution_count": 24,
     "metadata": {},
     "output_type": "execute_result"
    }
   ],
   "source": [
    "alfa = 0.08\n",
    "desvioMuestral = math.sqrt(87.36)\n",
    "n = 63\n",
    "getIntervaloParaVarSinMu(alfa, desvioMuestral, n)"
   ]
  },
  {
   "cell_type": "markdown",
   "id": "e9539eeb",
   "metadata": {},
   "source": [
    "## Ejercicio 2.2\n",
    "\n",
    "![title](parcialIntegradorMañana/P2.2.jpeg)"
   ]
  },
  {
   "cell_type": "code",
   "execution_count": 26,
   "id": "224b90a2",
   "metadata": {},
   "outputs": [],
   "source": [
    "datos = np.array([5.11,4.31,6.27,5.36,5.40,2.62,4.09,5.54,3.23,4.49,4.01,5.24,\\\n",
    "         4.51,5.19,3.85,6.15,4.39,4.96,4.40,3.43,4.59,5.58,4.89])"
   ]
  },
  {
   "cell_type": "code",
   "execution_count": 28,
   "id": "73f89cdd",
   "metadata": {},
   "outputs": [
    {
     "data": {
      "text/plain": [
       "0.5217391304347826"
      ]
     },
     "execution_count": 28,
     "metadata": {},
     "output_type": "execute_result"
    }
   ],
   "source": [
    "# Pregunta A\n",
    "(datos <= 4.85).mean()"
   ]
  },
  {
   "cell_type": "markdown",
   "id": "8f42649e",
   "metadata": {},
   "source": [
    "#### Pregunta B\n",
    "\n",
    "X = \"Devolver un pez al río o no\" $X \\sim Ber(p)$\n",
    "\n",
    "El EMV de una $Ber(p) = \\overline{X_n}$"
   ]
  },
  {
   "cell_type": "code",
   "execution_count": 33,
   "id": "faf0887a",
   "metadata": {},
   "outputs": [],
   "source": [
    "# Busco la distribución empirica de X\n",
    "dx = (datos < 3.84)"
   ]
  },
  {
   "cell_type": "code",
   "execution_count": 34,
   "id": "b21ced20",
   "metadata": {},
   "outputs": [
    {
     "data": {
      "text/plain": [
       "0.13043478260869565"
      ]
     },
     "execution_count": 34,
     "metadata": {},
     "output_type": "execute_result"
    }
   ],
   "source": [
    "dx.mean()"
   ]
  },
  {
   "cell_type": "markdown",
   "id": "9f8dcd45",
   "metadata": {},
   "source": [
    "## Ejercicio 2.3\n",
    "\n",
    "![title](parcialIntegradorMañana/P3.2.jpeg)"
   ]
  },
  {
   "cell_type": "markdown",
   "id": "e33109e7",
   "metadata": {},
   "source": [
    "Hay que hacer un cambio de variable\n",
    "\n",
    "$Fy(y) = P(Y < y) \\iff Fy(y) = P(\\frac{3}{X} < y) \\iff Fy(y) = P(X < \\frac{3}{y}) \\iff Fy(y) = Fx(\\frac{3}{y})$\n",
    "\n",
    "$fy(y) = F_x'(\\frac{3}{y}) \\cdot (\\frac{3}{y})' = f_x(\\frac{3}{y}) \\cdot 3 = \\frac{y^4}{27} I_{[1,\\infty]}(y)$"
   ]
  },
  {
   "cell_type": "code",
   "execution_count": 59,
   "id": "9cce65f7",
   "metadata": {},
   "outputs": [],
   "source": [
    "def f(y):\n",
    "    if 0 <= y < 3:\n",
    "        return (y**4)/27\n",
    "    else: return 0"
   ]
  },
  {
   "cell_type": "code",
   "execution_count": 60,
   "id": "7a136a14",
   "metadata": {},
   "outputs": [
    {
     "data": {
      "text/plain": [
       "1.7999999999999998"
      ]
     },
     "execution_count": 60,
     "metadata": {},
     "output_type": "execute_result"
    }
   ],
   "source": [
    "# Función para integrar en (a,b)\n",
    "a = 0\n",
    "b = 3\n",
    "scipy.integrate.quad(f, a, b)[0]"
   ]
  },
  {
   "cell_type": "code",
   "execution_count": 61,
   "id": "1ca53455",
   "metadata": {},
   "outputs": [],
   "source": [
    "def ef(y):\n",
    "    if 0 <= y < 3:\n",
    "        return y*f(y)\n",
    "    else: return 0"
   ]
  },
  {
   "cell_type": "code",
   "execution_count": 63,
   "id": "7b31469e",
   "metadata": {},
   "outputs": [
    {
     "data": {
      "text/plain": [
       "4.5"
      ]
     },
     "execution_count": 63,
     "metadata": {},
     "output_type": "execute_result"
    }
   ],
   "source": [
    "# Función para integrar en (a,b)\n",
    "a = 0\n",
    "b = 3\n",
    "scipy.integrate.quad(ef, a, b)[0]"
   ]
  },
  {
   "cell_type": "code",
   "execution_count": null,
   "id": "eca43eff",
   "metadata": {},
   "outputs": [],
   "source": []
  }
 ],
 "metadata": {
  "kernelspec": {
   "display_name": "Python 3 (ipykernel)",
   "language": "python",
   "name": "python3"
  },
  "language_info": {
   "codemirror_mode": {
    "name": "ipython",
    "version": 3
   },
   "file_extension": ".py",
   "mimetype": "text/x-python",
   "name": "python",
   "nbconvert_exporter": "python",
   "pygments_lexer": "ipython3",
   "version": "3.9.6"
  }
 },
 "nbformat": 4,
 "nbformat_minor": 5
}
